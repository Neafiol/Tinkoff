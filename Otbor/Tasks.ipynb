{
 "cells": [
  {
   "cell_type": "code",
   "execution_count": 2,
   "metadata": {},
   "outputs": [
    {
     "name": "stdout",
     "output_type": "stream",
     "text": [
      "введите количество повторов, рекомендовано > 50 000 : 50000\n",
      "введите Р : 0.5\n",
      "14.06512\n"
     ]
    }
   ],
   "source": [
    "import random\n",
    "#K - количество повторов, рекомендовано >50 000\n",
    "k=int(input(\"введите количество повторов, рекомендовано > 50 000 : \"))\n",
    "p=float(input(\"введите Р : \"))\n",
    "n=0 #Количество поражений подрят\n",
    "le =0 #длина партии\n",
    "s=0\n",
    "for i in range(k):\n",
    "    while(True):\n",
    "        r = random.random()\n",
    "        le+=1\n",
    "        if (r>p):\n",
    "            n+=1\n",
    "        else:\n",
    "            n=0\n",
    "        if(n>2):\n",
    "            s+=le\n",
    "            le=0\n",
    "            n=0\n",
    "            break\n",
    "    \n",
    "print(s/k)\n",
    "        \n",
    "        \n"
   ]
  },
  {
   "cell_type": "code",
   "execution_count": null,
   "metadata": {},
   "outputs": [],
   "source": [
    "import numpy as np\n",
    "import math\n",
    "n = int(input())\n",
    "for i in range(0,10,0.1):\n",
    "    1\n",
    "k=1\n",
    "x=[]\n",
    "y=[]\n",
    "for j in range(n):\n",
    "    x.append(float(input(\"x\")))\n",
    "    y.append(float(input(\"y\")))\n",
    "xn = np.array(x)\n",
    "yn = np.array(y)\n",
    "\n",
    "now =1e9\n",
    "R =3.1416 / 2\n",
    "L = 0;\n",
    "while(L+0.01 < R):\n",
    "    k=math.tan(X)\n",
    "    dt = (yn-xn*i)**2\n",
    "    dt=sum(dt)\n",
    "    if(abs(dt)<abs(now)):\n",
    "        now =dt\n",
    "        print(now)\n",
    "    \n",
    "print(R)"
   ]
  },
  {
   "cell_type": "markdown",
   "metadata": {},
   "source": [
    "∑(i=0,n) i*[n!]/[(n-i)*(n-1-i)!]\n",
    "\n",
    "\n",
    "\n",
    "Комментарий:\n",
    "\n",
    "Пусть люди пронумерованы от 1 до N тогда каждая цифра, стоящая на своем месте - человек, забравший свою шляпу. Зададим матожидание количества шляп формулой суммы ряда из N слагаемых, где каждое слагаемое количество шляп * на вероятность такого исхода. \n",
    "\n",
    "Вероятность исхода найдем, зная что i чисел точно стоят на своих местах, а остальные (n-i) точно не на своих, то есть на (n-i-1) местах. Вес - количество человек, ушедших со своими шляпами = i. "
   ]
  },
  {
   "cell_type": "code",
   "execution_count": null,
   "metadata": {},
   "outputs": [],
   "source": []
  }
 ],
 "metadata": {
  "kernelspec": {
   "display_name": "Python 3",
   "language": "python",
   "name": "python3"
  },
  "language_info": {
   "codemirror_mode": {
    "name": "ipython",
    "version": 3
   },
   "file_extension": ".py",
   "mimetype": "text/x-python",
   "name": "python",
   "nbconvert_exporter": "python",
   "pygments_lexer": "ipython3",
   "version": "3.7.0"
  }
 },
 "nbformat": 4,
 "nbformat_minor": 2
}
