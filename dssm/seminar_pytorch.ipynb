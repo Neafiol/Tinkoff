{
  "nbformat": 4,
  "nbformat_minor": 0,
  "metadata": {
    "colab": {
      "name": "seminar_pytorch.ipynb",
      "version": "0.3.2",
      "provenance": [],
      "include_colab_link": true
    },
    "language_info": {
      "codemirror_mode": {
        "name": "ipython",
        "version": 3
      },
      "file_extension": ".py",
      "mimetype": "text/x-python",
      "name": "python",
      "nbconvert_exporter": "python",
      "pygments_lexer": "ipython3",
      "version": "3.6.2"
    },
    "kernelspec": {
      "display_name": "Python 3",
      "language": "python",
      "name": "python3"
    }
  },
  "cells": [
    {
      "cell_type": "markdown",
      "metadata": {
        "id": "view-in-github",
        "colab_type": "text"
      },
      "source": [
        "<a href=\"https://colab.research.google.com/github/Neafiol/Tinkoff/blob/master/dssm/seminar_pytorch.ipynb\" target=\"_parent\"><img src=\"https://colab.research.google.com/assets/colab-badge.svg\" alt=\"Open In Colab\"/></a>"
      ]
    },
    {
      "metadata": {
        "id": "UNxseYLzzvCv",
        "colab_type": "text"
      },
      "cell_type": "markdown",
      "source": [
        "# Seminar: simple question answering\n",
        "![img](https://recruitlook.com/wp-content/uploads/2015/01/questionanswer3.jpg)\n",
        "\n",
        "Today we're going to build a retrieval-based question answering model with metric learning models.\n",
        "\n",
        "_this seminar is based on original notebook by [Oleg Vasilev](https://github.com/Omrigan/)_\n",
        "\n"
      ]
    },
    {
      "metadata": {
        "id": "eUxx5lPpzvCx",
        "colab_type": "code",
        "colab": {}
      },
      "cell_type": "code",
      "source": [
        "import numpy as np\n",
        "import matplotlib.pyplot as plt\n",
        "%matplotlib inline"
      ],
      "execution_count": 0,
      "outputs": []
    },
    {
      "metadata": {
        "id": "k5tlHnRNz1gh",
        "colab_type": "code",
        "outputId": "7bcfc0bf-a077-4b0b-c50a-89db920f44ab",
        "colab": {
          "base_uri": "https://localhost:8080/",
          "height": 320
        }
      },
      "cell_type": "code",
      "source": [
        "!wget https://raw.githubusercontent.com/yandexdataschool/Practical_DL/fall18/week11_dssm/utils.py"
      ],
      "execution_count": 0,
      "outputs": [
        {
          "output_type": "stream",
          "text": [
            "--2019-04-19 13:36:08--  https://raw.githubusercontent.com/yandexdataschool/Practical_DL/fall18/week11_dssm/utils.py\n",
            "Resolving raw.githubusercontent.com (raw.githubusercontent.com)... 151.101.0.133, 151.101.64.133, 151.101.128.133, ...\n",
            "Connecting to raw.githubusercontent.com (raw.githubusercontent.com)|151.101.0.133|:443... connected.\n",
            "HTTP request sent, awaiting response... 200 OK\n",
            "Length: 9814 (9.6K) [text/plain]\n",
            "Saving to: ‘utils.py’\n",
            "\n",
            "\rutils.py              0%[                    ]       0  --.-KB/s               \rutils.py            100%[===================>]   9.58K  --.-KB/s    in 0s      \n",
            "\n",
            "2019-04-19 13:36:08 (120 MB/s) - ‘utils.py’ saved [9814/9814]\n",
            "\n"
          ],
          "name": "stdout"
        }
      ]
    },
    {
      "metadata": {
        "id": "L-Rp5Msv0BNf",
        "colab_type": "code",
        "outputId": "6a4aa0ed-5d32-4a61-ab1b-b32abd15ac7c",
        "colab": {
          "base_uri": "https://localhost:8080/",
          "height": 116
        }
      },
      "cell_type": "code",
      "source": [
        "import nltk\n",
        "nltk.download('punkt')"
      ],
      "execution_count": 0,
      "outputs": [
        {
          "output_type": "stream",
          "text": [
            "[nltk_data] Downloading package punkt to /root/nltk_data...\n",
            "[nltk_data]   Unzipping tokenizers/punkt.zip.\n"
          ],
          "name": "stdout"
        },
        {
          "output_type": "execute_result",
          "data": {
            "text/plain": [
              "True"
            ]
          },
          "metadata": {
            "tags": []
          },
          "execution_count": 5
        }
      ]
    },
    {
      "metadata": {
        "id": "OxgOGXMbzvC2",
        "colab_type": "text"
      },
      "cell_type": "markdown",
      "source": [
        "### Dataset\n",
        "\n",
        "Today's data is Stanford Question Answering Dataset (SQuAD). Given a paragraph of text and a question, our model's task is to select a snippet that answers the question.\n",
        "\n",
        "We are not going to solve the full task today. Instead, we'll train a model to __select the sentence containing answer__ among several options.\n",
        "\n",
        "As usual, you are given an utility module with data reader and some helper functions"
      ]
    },
    {
      "metadata": {
        "id": "US39zXJlzvC2",
        "colab_type": "code",
        "colab": {}
      },
      "cell_type": "code",
      "source": [
        "import utils\n",
        "!wget https://rajpurkar.github.io/SQuAD-explorer/dataset/train-v2.0.json -O squad-v2.0.json 2> log\n",
        "# backup download link: https://www.dropbox.com/s/q4fuihaerqr0itj/squad.tar.gz?dl=1\n",
        "train, test = utils.build_dataset('./squad-v2.0.json', tokenized=True)"
      ],
      "execution_count": 0,
      "outputs": []
    },
    {
      "metadata": {
        "id": "pF7j-vCpzvC6",
        "colab_type": "code",
        "colab": {}
      },
      "cell_type": "code",
      "source": [
        "# the data comes pre-tokenized with this simple tokenizer:\n",
        "utils.tokenize(\"I... I'm the monument to all your sins.\")"
      ],
      "execution_count": 0,
      "outputs": []
    },
    {
      "metadata": {
        "id": "MNr15FbFzvC9",
        "colab_type": "code",
        "outputId": "7eafadd9-2599-4ed2-b671-ac9fb132ef3a",
        "colab": {
          "base_uri": "https://localhost:8080/",
          "height": 220
        }
      },
      "cell_type": "code",
      "source": [
        "pid, question, options, correct_indices, wrong_indices = train.iloc[40]\n",
        "print('QUESTION', question, '\\n')\n",
        "for i, cand in enumerate(options):\n",
        "    print(['[ ]', '[v]'][i in correct_indices], cand)"
      ],
      "execution_count": 0,
      "outputs": [
        {
          "output_type": "stream",
          "text": [
            "QUESTION where did beyonce get her name from ? \n",
            "\n",
            "[ ] beyoncé giselle knowles was born in houston , texas , to celestine ann \" tina \" knowles ( née beyincé ), a hairdresser and salon owner , and mathew knowles , a xerox sales manager .\n",
            "[v] beyoncé ' s name is a tribute to her mother ' s maiden name .\n",
            "[ ] beyoncé ' s younger sister solange is also a singer and a former member of destiny ' s child .\n",
            "[ ] mathew is african - american , while tina is of louisiana creole descent ( with african , native american , french , cajun , and distant irish and spanish ancestry ).\n",
            "[ ] through her mother , beyoncé is a descendant of acadian leader joseph broussard .\n",
            "[ ] she was raised in a methodist household .\n"
          ],
          "name": "stdout"
        }
      ]
    },
    {
      "metadata": {
        "id": "sKnrxjsKzvDA",
        "colab_type": "text"
      },
      "cell_type": "markdown",
      "source": [
        "### Tokens & vocabularies\n",
        "\n",
        "The procedure here is very similar to previous nlp weeks: preprocess text into tokens, create dictionaries, etc."
      ]
    },
    {
      "metadata": {
        "id": "7Oh7zJoJzvDC",
        "colab_type": "code",
        "colab": {}
      },
      "cell_type": "code",
      "source": [
        "from tqdm import tqdm, trange\n",
        "from collections import Counter, defaultdict\n",
        "\n",
        "#Dictionary of {token : count}\n",
        "token_counts = Counter()\n",
        "\n",
        "# compute counts for each token; use token_counts;\n",
        "# count BOTH in train['question'] and in train['options']\n"
      ],
      "execution_count": 0,
      "outputs": []
    },
    {
      "metadata": {
        "id": "miZzEh1UzvDG",
        "colab_type": "code",
        "colab": {}
      },
      "cell_type": "code",
      "source": [
        "print(\"Total tokens:\", sum(token_counts.values()))\n",
        "print(\"Most common:\", token_counts.most_common(5))\n",
        "assert 9000000 < sum(token_counts.values()) < 9100000, \"are you sure you counted all unique tokens in questions and options?\""
      ],
      "execution_count": 0,
      "outputs": []
    },
    {
      "metadata": {
        "id": "mlw19UFFzvDJ",
        "colab_type": "text"
      },
      "cell_type": "markdown",
      "source": [
        "We shall only keep tokens that are present at least 4 times"
      ]
    },
    {
      "metadata": {
        "id": "aNvC_4tDzvDK",
        "colab_type": "code",
        "colab": {}
      },
      "cell_type": "code",
      "source": [
        "MIN_COUNT = 5\n",
        "\n",
        "tokens = [w for w, c in token_counts.items() if c >= MIN_COUNT] \n",
        "tokens = [\"_PAD_\", \"_UNK_\"] + tokens\n",
        "print(\"Tokens left:\", len(tokens))"
      ],
      "execution_count": 0,
      "outputs": []
    },
    {
      "metadata": {
        "id": "A9NK0qpRzvDM",
        "colab_type": "code",
        "colab": {}
      },
      "cell_type": "code",
      "source": [
        "# a dictionary from token to it's index in tokens\n",
        "token_to_id = <YOUR CODE>"
      ],
      "execution_count": 0,
      "outputs": []
    },
    {
      "metadata": {
        "id": "bAWawL47zvDP",
        "colab_type": "code",
        "colab": {}
      },
      "cell_type": "code",
      "source": [
        "assert token_to_id['me'] != token_to_id['woods']\n",
        "assert token_to_id[tokens[42]]==42\n",
        "assert len(token_to_id)==len(tokens)"
      ],
      "execution_count": 0,
      "outputs": []
    },
    {
      "metadata": {
        "id": "5Xn5NzZ0zvDS",
        "colab_type": "code",
        "colab": {}
      },
      "cell_type": "code",
      "source": [
        "PAD_ix = token_to_id[\"_PAD_\"]\n",
        "UNK_ix = token_to_id['_UNK_']\n",
        "\n",
        "#good old as_matrix for the third time\n",
        "def as_matrix(sequences, max_len=None):\n",
        "    if isinstance(sequences[0], (str, bytes)):\n",
        "        sequences = [utils.tokenize(s).split() for s in sequences]\n",
        "        \n",
        "    max_len = max_len or max(map(len,sequences))\n",
        "    \n",
        "    matrix = np.zeros((len(sequences), max_len), dtype='int32') + PAD_ix\n",
        "    for i, seq in enumerate(sequences):\n",
        "        row_ix = [token_to_id.get(word, UNK_ix) for word in seq[:max_len]]\n",
        "        matrix[i, :len(row_ix)] = row_ix\n",
        "    \n",
        "    return matrix"
      ],
      "execution_count": 0,
      "outputs": []
    },
    {
      "metadata": {
        "id": "wK25QWBNzvDV",
        "colab_type": "code",
        "colab": {}
      },
      "cell_type": "code",
      "source": [
        "test = as_matrix([\"Definitely, thOsE tokens areN'T LowerCASE!!\", \"I'm the monument to all your sins.\"])\n",
        "print(test)\n",
        "assert test.shape==(2,8)\n",
        "print(\"Correct!\")"
      ],
      "execution_count": 0,
      "outputs": []
    },
    {
      "metadata": {
        "id": "T058hedOzvDX",
        "colab_type": "text"
      },
      "cell_type": "markdown",
      "source": [
        "### Data sampler\n",
        "\n",
        "Our model trains on triplets: $<query, answer^+, answer^->$\n",
        "\n",
        "For your convenience, we've implemented a function that samples such triplets from data"
      ]
    },
    {
      "metadata": {
        "id": "Eg4xlH_6zvDX",
        "colab_type": "code",
        "colab": {}
      },
      "cell_type": "code",
      "source": [
        "import random\n",
        "import torch\n",
        "lines_to_tensor = lambda lines, max_len=None: torch.tensor(\n",
        "    as_matrix(lines, max_len=max_len), dtype=torch.int64)\n",
        "\n",
        "def iterate_minibatches(data, batch_size, shuffle=True, cycle=False):\n",
        "    \"\"\"\n",
        "    Generates minibatches of triples: {questions, correct answers, wrong answers}\n",
        "    If there are several wrong (or correct) answers, picks one at random.\n",
        "    \"\"\"\n",
        "    indices = np.arange(len(data))\n",
        "    while True:\n",
        "        if shuffle:\n",
        "            indices = np.random.permutation(indices)\n",
        "        for batch_start in range(0, len(indices), batch_size):\n",
        "            batch_indices = indices[batch_start: batch_start + batch_size]\n",
        "            batch = data.iloc[batch_indices]\n",
        "            questions = batch['question'].values\n",
        "            correct_answers = np.array([\n",
        "                row['options'][random.choice(row['correct_indices'])]\n",
        "                for i, row in batch.iterrows()\n",
        "            ])\n",
        "            wrong_answers = np.array([\n",
        "                row['options'][random.choice(row['wrong_indices'])]\n",
        "                for i, row in batch.iterrows()\n",
        "            ])\n",
        "\n",
        "            yield {\n",
        "                'questions' : lines_to_tensor(questions),\n",
        "                'correct_answers': lines_to_tensor(correct_answers),\n",
        "                'wrong_answers': lines_to_tensor(wrong_answers),\n",
        "            }\n",
        "        if not cycle:\n",
        "            break"
      ],
      "execution_count": 0,
      "outputs": []
    },
    {
      "metadata": {
        "id": "KuWxum9izvDZ",
        "colab_type": "code",
        "colab": {}
      },
      "cell_type": "code",
      "source": [
        "dummy_batch = next(iterate_minibatches(train.sample(2), 3))\n",
        "print(dummy_batch)"
      ],
      "execution_count": 0,
      "outputs": []
    },
    {
      "metadata": {
        "id": "iBHPzOdZzvDb",
        "colab_type": "text"
      },
      "cell_type": "markdown",
      "source": [
        "### Building the model (3 points)\n",
        "\n",
        "Our goal for today is to build a model that measures similarity between question and answer. In particular, it maps both question and answer into fixed-size vectors such that:\n",
        "\n",
        "Our model is a pair of $V_q(q)$ and $V_a(a)$ - networks that turn phrases into vectors. \n",
        "\n",
        "__Objective:__ Question vector $V_q(q)$ should be __closer__ to correct answer vectors $V_a(a^+)$ than to incorrect ones $V_a(a^-)$ .\n",
        "\n",
        "Both vectorizers can be anything you wish. For starters, let's use a convolutional network with global pooling and a couple of dense layers on top.\n",
        "\n",
        "It is perfectly legal to share some layers between vectorizers, but make sure they are at least a little different."
      ]
    },
    {
      "metadata": {
        "id": "HItbkJWNzvDc",
        "colab_type": "code",
        "colab": {}
      },
      "cell_type": "code",
      "source": [
        "import torch, torch.nn as nn\n",
        "import torch.nn.functional as F\n",
        "from torch.autograd import Variable\n",
        "\n",
        "class GlobalMaxPooling(nn.Module):\n",
        "    def __init__(self, dim=-1):\n",
        "        super(self.__class__, self).__init__()\n",
        "        self.dim = dim\n",
        "        \n",
        "    def forward(self, x):\n",
        "        return x.max(dim=self.dim)[0]"
      ],
      "execution_count": 0,
      "outputs": []
    },
    {
      "metadata": {
        "id": "0dOYRxYlzvDd",
        "colab_type": "code",
        "colab": {}
      },
      "cell_type": "code",
      "source": [
        "# we might as well create a global embedding layer here\n",
        "\n",
        "GLOBAL_EMB = nn.Embedding(len(tokens), 64, padding_idx=PAD_ix)"
      ],
      "execution_count": 0,
      "outputs": []
    },
    {
      "metadata": {
        "id": "aO0LtQmUzvDf",
        "colab_type": "code",
        "colab": {}
      },
      "cell_type": "code",
      "source": [
        "class QuestionVectorizer(nn.Module):\n",
        "    def __init__(self, n_tokens=len(tokens), out_size=64, use_global_emb=True):\n",
        "        \"\"\" \n",
        "        A simple sequential encoder for questions.\n",
        "        Use any combination of layers you want to encode a variable-length input \n",
        "        to a fixed-size output vector\n",
        "        \n",
        "        If use_global_emb is True, use GLOBAL_EMB as your embedding layer\n",
        "        \"\"\"\n",
        "        super(self.__class__, self).__init__()\n",
        "        if use_global_emb:\n",
        "            self.emb = GLOBAL_EMB\n",
        "        else:\n",
        "            self.emb = <YOUR CODE>\n",
        "            \n",
        "        <YOUR CODE>\n",
        "        \n",
        "    def forward(self, text_ix):\n",
        "        \"\"\"\n",
        "        :param text_ix: int64 Variable of shape [batch_size, max_len]\n",
        "        :returns: float32 Variable of shape [batch_size, out_size]\n",
        "        \"\"\"\n",
        "        <YOUR CODE>\n",
        "        return <YOUR CODE>"
      ],
      "execution_count": 0,
      "outputs": []
    },
    {
      "metadata": {
        "id": "LLdm9gekzvDg",
        "colab_type": "code",
        "colab": {}
      },
      "cell_type": "code",
      "source": [
        "class AnswerVectorizer(nn.Module):\n",
        "    def __init__(self, n_tokens=len(tokens), out_size=64, use_global_emb=True):\n",
        "        \"\"\" \n",
        "        A simple sequential encoder for answers.\n",
        "        x -> emb -> conv -> global_max -> relu -> dense\n",
        "        \n",
        "        If use_global_emb is True, use GLOBAL_EMB as your embedding layer\n",
        "        \"\"\"\n",
        "        super(self.__class__, self).__init__()\n",
        "        if use_global_emb:\n",
        "            self.emb = GLOBAL_EMB\n",
        "        else:\n",
        "            self.emb = <YOUR CODE>\n",
        "            \n",
        "        <YOUR CODE>\n",
        "        \n",
        "    def forward(self, text_ix):\n",
        "        \"\"\"\n",
        "        :param text_ix: int64 Variable of shape [batch_size, max_len]\n",
        "        :returns: float32 Variable of shape [batch_size, out_size]\n",
        "        \"\"\"\n",
        "        <YOUR CODE>\n",
        "        return <YOUR CODE>"
      ],
      "execution_count": 0,
      "outputs": []
    },
    {
      "metadata": {
        "id": "Xm7FDKkzzvDh",
        "colab_type": "code",
        "colab": {}
      },
      "cell_type": "code",
      "source": [
        "for vectorizer in [QuestionVectorizer(out_size=100), AnswerVectorizer(out_size=100)]:\n",
        "    print(\"Testing %s ...\" % vectorizer.__class__.__name__)\n",
        "    dummy_x = Variable(torch.LongTensor(test))\n",
        "    dummy_v = vectorizer(dummy_x)\n",
        "\n",
        "    assert isinstance(dummy_v, Variable)\n",
        "    assert tuple(dummy_v.shape) == (dummy_x.shape[0], 100)\n",
        "\n",
        "    del vectorizer\n",
        "    print(\"Seems fine\")"
      ],
      "execution_count": 0,
      "outputs": []
    },
    {
      "metadata": {
        "id": "CKfT16nQzvDj",
        "colab_type": "code",
        "colab": {}
      },
      "cell_type": "code",
      "source": [
        "from itertools import chain\n",
        "\n",
        "question_vectorizer = QuestionVectorizer()\n",
        "answer_vectorizer = AnswerVectorizer()\n",
        "\n",
        "opt = torch.optim.Adam(chain(question_vectorizer.parameters(),\n",
        "                             answer_vectorizer.parameters()))"
      ],
      "execution_count": 0,
      "outputs": []
    },
    {
      "metadata": {
        "collapsed": true,
        "id": "Upf0vSJqzvDl",
        "colab_type": "text"
      },
      "cell_type": "markdown",
      "source": [
        "### Training: loss function (3 points)\n",
        "We want our vectorizers to put correct answers closer to question vectors and incorrect answers farther away from them. One way to express this is to use is Pairwise Hinge Loss _(aka Triplet Loss)_. \n",
        "\n",
        "$$ L = \\frac 1N \\underset {q, a^+, a^-} \\sum max(0, \\space \\delta - sim[V_q(q), V_a(a^+)] + sim[V_q(q), V_a(a^-)] )$$\n",
        "\n",
        ", where\n",
        "* sim[a, b] is some similarity function: dot product, cosine or negative distance\n",
        "* δ - loss hyperparameter, e.g. δ=1.0. If sim[a, b] is linear in b, all δ > 0 are equivalent.\n",
        "\n",
        "\n",
        "This reads as __Correct answers must be closer than the wrong ones by at least δ.__\n",
        "\n",
        "![img](https://raw.githubusercontent.com/yandexdataschool/nlp_course/master/resources/margin.png)\n",
        "<center>_image: question vector is green, correct answers are blue, incorrect answers are red_</center>\n",
        "\n",
        "\n",
        "Note: in effect, we train a Deep Semantic Similarity Model [DSSM](https://www.microsoft.com/en-us/research/project/dssm/). "
      ]
    },
    {
      "metadata": {
        "id": "SlCQSkPxzvDm",
        "colab_type": "code",
        "colab": {}
      },
      "cell_type": "code",
      "source": [
        "def compute_loss(anchors, positives, negatives, delta=1):\n",
        "    \"\"\" \n",
        "    Compute the triplet loss:\n",
        "    \n",
        "    max(0, delta + sim(anchors, negatives) - sim(anchors, positives))\n",
        "    \n",
        "    where sim is a dot-product between vectorized inputs\n",
        "    \n",
        "    \"\"\"\n",
        "    <YOUR CODE>\n",
        "    return <YOUR CODE>"
      ],
      "execution_count": 0,
      "outputs": []
    },
    {
      "metadata": {
        "id": "fHdS0yjezvDo",
        "colab_type": "code",
        "colab": {}
      },
      "cell_type": "code",
      "source": [
        "def compute_recall(anchors, positives, negatives, delta=1):\n",
        "    \"\"\"\n",
        "    Compute the probability (ratio) at which sim(anchors, negatives) is greater than sim(anchors, positives)\n",
        "    \"\"\"\n",
        "    <YOUR CODE>\n",
        "    return <YOUR CODE>"
      ],
      "execution_count": 0,
      "outputs": []
    },
    {
      "metadata": {
        "id": "mRHjzQztzvDp",
        "colab_type": "code",
        "colab": {}
      },
      "cell_type": "code",
      "source": [
        "print(compute_loss(_dummy_anchors, _dummy_positives, _dummy_negatives))\n",
        "print(compute_recall(_dummy_anchors, _dummy_positives, _dummy_negatives))"
      ],
      "execution_count": 0,
      "outputs": []
    },
    {
      "metadata": {
        "id": "zAxDxnGrzvDr",
        "colab_type": "text"
      },
      "cell_type": "markdown",
      "source": [
        "### Training loop (4 points)"
      ]
    },
    {
      "metadata": {
        "collapsed": true,
        "id": "BdbIN9MFzvDr",
        "colab_type": "text"
      },
      "cell_type": "markdown",
      "source": [
        "For a difference, we'll ask __you__ to implement training loop this time.\n",
        "\n",
        "Here's a sketch of one epoch:\n",
        "1. iterate over __`batches_per_epoch`__ batches from __`train_data`__ with __`iterate_minibatches`__\n",
        "    * Compute loss, backprop, optimize\n",
        "    * Compute and accumulate recall\n",
        "    \n",
        "2. iterate over __`batches_per_epoch`__ batches from __`val_data`__\n",
        "    * Compute and accumulate recall\n",
        "    \n",
        "3. print stuff :)\n"
      ]
    },
    {
      "metadata": {
        "id": "PaXlxhxVzvDs",
        "colab_type": "code",
        "colab": {}
      },
      "cell_type": "code",
      "source": [
        "num_epochs = 100\n",
        "max_len = 100\n",
        "batch_size = 32\n",
        "batches_per_epoch = 100"
      ],
      "execution_count": 0,
      "outputs": []
    },
    {
      "metadata": {
        "id": "tet-fHLqzvDt",
        "colab_type": "code",
        "colab": {}
      },
      "cell_type": "code",
      "source": [
        "<YOUR CODE>"
      ],
      "execution_count": 0,
      "outputs": []
    },
    {
      "metadata": {
        "id": "GMJRQQ2TzvDu",
        "colab_type": "code",
        "colab": {}
      },
      "cell_type": "code",
      "source": [
        "# in fact, a lot of your code"
      ],
      "execution_count": 0,
      "outputs": []
    },
    {
      "metadata": {
        "id": "hnRFaPT-zvDw",
        "colab_type": "code",
        "colab": {}
      },
      "cell_type": "code",
      "source": [
        "# a whole lot of it"
      ],
      "execution_count": 0,
      "outputs": []
    },
    {
      "metadata": {
        "id": "5rD3deRdzvDx",
        "colab_type": "text"
      },
      "cell_type": "markdown",
      "source": [
        "### Evaluation\n",
        "\n",
        "Let's see how our model performs on actual question answering. You will score answer candidates with your model and select the most appropriate one.\n",
        "\n",
        "__Your goal__ is to obtain accuracy of at least above 50%. Beating 65% in this notebook yields bonus points :)"
      ]
    },
    {
      "metadata": {
        "id": "ziEOqbLgzvDx",
        "colab_type": "code",
        "colab": {}
      },
      "cell_type": "code",
      "source": [
        "# optional: prepare some functions here\n",
        "# <...>\n",
        "\n",
        "def select_best_answer(question, possible_answers):\n",
        "    \"\"\"\n",
        "    Predicts which answer best fits the question\n",
        "    :param question: a single string containing a question\n",
        "    :param possible_answers: a list of strings containing possible answers\n",
        "    :returns: integer - the index of best answer in possible_answer\n",
        "    \"\"\"\n",
        "    <YOUR CODE>\n",
        "    return <...>\n",
        "    "
      ],
      "execution_count": 0,
      "outputs": []
    },
    {
      "metadata": {
        "id": "PVgvCo1ozvDy",
        "colab_type": "code",
        "colab": {}
      },
      "cell_type": "code",
      "source": [
        "predicted_answers = [\n",
        "    select_best_answer(question, possible_answers)\n",
        "    for i, (question, possible_answers) in tqdm(test[['question', 'options']].iterrows(), total=len(test))\n",
        "]\n",
        "\n",
        "accuracy = np.mean([\n",
        "    answer in correct_ix\n",
        "    for answer, correct_ix in zip(predicted_answers, test['correct_indices'].values)\n",
        "])\n",
        "print(\"Accuracy: %0.5f\" % accuracy)\n",
        "assert accuracy > 0.65, \"we need more accuracy!\"\n",
        "print(\"Great job!\")"
      ],
      "execution_count": 0,
      "outputs": []
    },
    {
      "metadata": {
        "id": "cEOheIsyzvDz",
        "colab_type": "code",
        "colab": {}
      },
      "cell_type": "code",
      "source": [
        "def draw_results(question, possible_answers, predicted_index, correct_indices):\n",
        "    print(\"Q:\", question, end='\\n\\n')\n",
        "    for i, answer in enumerate(possible_answers):\n",
        "        print(\"#%i: %s %s\" % (i, '[*]' if i == predicted_index else '[ ]', answer))\n",
        "    \n",
        "    print(\"\\nVerdict:\", \"CORRECT\" if predicted_index in correct_indices else \"INCORRECT\", \n",
        "          \"(ref: %s)\" % correct_indices, end='\\n' * 3)"
      ],
      "execution_count": 0,
      "outputs": []
    },
    {
      "metadata": {
        "id": "LYJS6w6kzvD0",
        "colab_type": "code",
        "colab": {}
      },
      "cell_type": "code",
      "source": [
        "for i in [1, 100, 1000, 2000, 3000, 4000, 5000]:\n",
        "    draw_results(test.iloc[i].question, test.iloc[i].options,\n",
        "                 predicted_answers[i], test.iloc[i].correct_indices)"
      ],
      "execution_count": 0,
      "outputs": []
    },
    {
      "metadata": {
        "id": "9R8hFOwPzvD1",
        "colab_type": "code",
        "colab": {}
      },
      "cell_type": "code",
      "source": [
        "question = \"What is my name?\" # your question here!\n",
        "possible_answers = [\n",
        "    <...> \n",
        "    # ^- your options. \n",
        "]\n",
        "predicted answer = select_best_answer(question, possible_answers)\n",
        "\n",
        "draw_results(question, possible_answers,\n",
        "             predicted_answer, [0])"
      ],
      "execution_count": 0,
      "outputs": []
    },
    {
      "metadata": {
        "collapsed": true,
        "id": "RAmhaEaFzvD2",
        "colab_type": "text"
      },
      "cell_type": "markdown",
      "source": [
        "### Bonus tasks\n",
        "\n",
        "There are many ways to improve our question answering model. Here's a bunch of things you can do to increase your understanding and get bonus points.\n",
        "\n",
        "\n",
        "### 0. Fine-tuning (3+ pts)\n",
        "This time our dataset is fairly small. We can improve the training procedure by starting with a pre-trained model.\n",
        "* The simplest option is to use pre-trained embeddings. See previous weeks for that.\n",
        "* A harder (but better) alternative is to use a pre-trained sentence encoder. Consider [InferSent](https://github.com/facebookresearch/InferSent), Universal Sentence Encoder or ELMO.\n",
        "\n",
        "\n",
        "### 1.  Hard Negatives (3+ pts)\n",
        "\n",
        "Not all wrong answers are equally wrong. As the training progresses, _most negative examples $a^-$ will be to easy._ So easy in fact, that loss function and gradients on such negatives is exactly __0.0__. To improve training efficiency, one can __mine hard negative samples__.\n",
        "\n",
        "Given a list of answers,\n",
        "* __Hard negative__ is the wrong answer with highest similarity with question,\n",
        "\n",
        "$$a^-_{hard} = \\underset {a^-} {argmax} \\space sim[V_q(q), V_a(a^-)]$$\n",
        "\n",
        "* __Semi-hard negative__ is the one with highest similarity _among wrong answers that are farther than positive one. This option is more useful if some wrong answers may actually be mislabelled correct answers.\n",
        "\n",
        "* One can also __sample__ negatives proportionally to $$P(a^-_i) \\sim e ^ {sim[V_q(q), V_a(a^-_i)]}$$\n",
        "\n",
        "\n",
        "The task is to implement at least __hard negative__ sampling and apply it for model training.\n",
        "\n",
        "\n",
        "### 2. Bring Your Own Model (3+ pts)\n",
        "In addition to Universal Sentence Encoder, one can also train a new model.\n",
        "* You name it: convolutions, RNN, self-attention\n",
        "* Use pre-trained ELMO or FastText embeddings\n",
        "* Monitor overfitting and use dropout / word dropout to improve performance\n",
        "\n",
        "__Note:__ if you use ELMO please note that it requires tokenized text while USE can deal with raw strings. You can tokenize data manually or use tokenized=True when reading dataset.\n",
        "\n",
        "\n",
        "* hard negatives (strategies: hardest, hardest farter than current, randomized)\n",
        "* train model on the full dataset to see if it can mine answers to new questions over the entire wikipedia. Use approximate nearest neighbor search for fast lookup.\n",
        "\n",
        "\n",
        "### 3. Search engine (3+ pts)\n",
        "\n",
        "Our basic model only selects answers from 2-5 available sentences in paragraph. You can extend it to search over __the whole dataset__. All sentences in all other paragraphs are viable answers.\n",
        "\n",
        "The goal is to train such a model and use it to __quickly find top-10 answers from the whole set__.\n",
        "\n",
        "* You can ask such model a question of your own making - to see which answers it can find among the entire training dataset or even the entire wikipedia.\n",
        "* Searching for top-K neighbors is easier if you use specialized methods: [KD-Tree](https://scikit-learn.org/stable/modules/generated/sklearn.neighbors.KDTree.html) or [HNSW](https://github.com/nmslib/hnswlib). \n",
        "* This task is much easier to train if you use hard or semi-hard negatives. You can even find hard negatives for one question from correct answers to other questions in batch - do so in-graph for maximum efficiency. See [1.] for more details.\n"
      ]
    }
  ]
}