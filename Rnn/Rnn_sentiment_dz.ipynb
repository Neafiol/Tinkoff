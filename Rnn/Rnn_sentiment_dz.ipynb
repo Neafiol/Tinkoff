{
  "nbformat": 4,
  "nbformat_minor": 0,
  "metadata": {
    "colab": {
      "name": "Rnn_sentiment_dz.ipynb",
      "version": "0.3.2",
      "provenance": [],
      "collapsed_sections": [],
      "include_colab_link": true
    },
    "language_info": {
      "codemirror_mode": {
        "name": "ipython",
        "version": 3
      },
      "file_extension": ".py",
      "mimetype": "text/x-python",
      "name": "python",
      "nbconvert_exporter": "python",
      "pygments_lexer": "ipython3",
      "version": "3.7.0"
    },
    "kernelspec": {
      "display_name": "Python 3",
      "language": "python",
      "name": "python3"
    }
  },
  "cells": [
    {
      "cell_type": "markdown",
      "metadata": {
        "id": "view-in-github",
        "colab_type": "text"
      },
      "source": [
        "<a href=\"https://colab.research.google.com/github/Neafiol/Tinkoff/blob/master/Rnn/Rnn_sentiment_dz.ipynb\" target=\"_parent\"><img src=\"https://colab.research.google.com/assets/colab-badge.svg\" alt=\"Open In Colab\"/></a>"
      ]
    },
    {
      "cell_type": "code",
      "metadata": {
        "colab_type": "code",
        "id": "6aMrbyco0EWT",
        "colab": {}
      },
      "source": [
        "import torch\n",
        "import torch.nn as nn\n",
        "import torch.nn.functional as F\n",
        "import os\n",
        "import numpy as np"
      ],
      "execution_count": 0,
      "outputs": []
    },
    {
      "cell_type": "markdown",
      "metadata": {
        "colab_type": "text",
        "id": "cUJU5-pg0EXV"
      },
      "source": [
        "## Как выглядит классификация с RNN в общем виде "
      ]
    },
    {
      "cell_type": "markdown",
      "metadata": {
        "colab_type": "text",
        "id": "EgWtBdLy0EXX"
      },
      "source": [
        "<img src=\"https://cdn-images-1.medium.com/max/1600/1*vhAfRLlaeOXZ-bruv7Ostg.png\" width=\"400\">"
      ]
    },
    {
      "cell_type": "code",
      "metadata": {
        "colab_type": "code",
        "id": "80G5_e8R0EXY",
        "colab": {}
      },
      "source": [
        "class ImageRNN(nn.Module):\n",
        "    def __init__(self, batch_size, n_steps, n_inputs, n_neurons, n_outputs):\n",
        "        super(ImageRNN, self).__init__()\n",
        "        \n",
        "        self.n_neurons = n_neurons\n",
        "        self.batch_size = batch_size\n",
        "        self.n_steps = n_steps\n",
        "        self.n_inputs = n_inputs\n",
        "        self.n_outputs = n_outputs\n",
        "        \n",
        "        self.basic_rnn = nn.RNN(self.n_inputs, self.n_neurons) \n",
        "        \n",
        "        self.FC = nn.Linear(self.n_neurons, self.n_outputs)\n",
        "        \n",
        "    def init_hidden(self,):\n",
        "        # (num_layers, batch_size, n_neurons)\n",
        "        return (torch.zeros(1, self.batch_size, self.n_neurons))\n",
        "        \n",
        "    def forward(self, X):\n",
        "        # transforms X to dimensions: n_steps X batch_size X n_inputs\n",
        "        X = X.permute(1, 0, 2) \n",
        "        \n",
        "        self.batch_size = X.size(1)\n",
        "        self.hidden = self.init_hidden()\n",
        "        \n",
        "        lstm_out, self.hidden = self.basic_rnn(X, self.hidden)      \n",
        "        out = self.FC(self.hidden)\n",
        "        \n",
        "        return out.view(-1, self.n_outputs) # batch_size X n_output"
      ],
      "execution_count": 0,
      "outputs": []
    },
    {
      "cell_type": "markdown",
      "metadata": {
        "colab_type": "text",
        "id": "tn-HHdDC0EXz"
      },
      "source": [
        "# Сентимент анализ по аналогии\n",
        "\n",
        "пишем сами с нуля\n",
        "\n",
        "<img src=\"https://github.com/bentrevett/pytorch-sentiment-analysis/raw/bf8cc46e4823ebf9af721b595501ad6231c73632/assets/sentiment1.png\">"
      ]
    },
    {
      "cell_type": "code",
      "metadata": {
        "colab_type": "code",
        "id": "2OE9H_eM0EX1",
        "colab": {}
      },
      "source": [
        "import torch\n",
        "from torchtext import data\n",
        "\n",
        "SEED = 1234\n",
        "\n",
        "torch.manual_seed(SEED)\n",
        "torch.cuda.manual_seed(SEED)\n",
        "torch.backends.cudnn.deterministic = True\n",
        "\n",
        "TEXT = data.Field(tokenize='spacy')\n",
        "LABEL = data.LabelField(dtype=torch.float)"
      ],
      "execution_count": 0,
      "outputs": []
    },
    {
      "cell_type": "code",
      "metadata": {
        "colab_type": "code",
        "id": "nZOHVoNH0EX4",
        "colab": {
          "base_uri": "https://localhost:8080/",
          "height": 52
        },
        "outputId": "eed62ea2-8e06-4dac-86ee-2853964ba970"
      },
      "source": [
        "from torchtext import datasets\n",
        "train_data, test_data = datasets.IMDB.splits(TEXT, LABEL, root=\"./data\")"
      ],
      "execution_count": 3,
      "outputs": [
        {
          "output_type": "stream",
          "text": [
            "aclImdb_v1.tar.gz:   0%|          | 164k/84.1M [00:00<00:59, 1.40MB/s]"
          ],
          "name": "stderr"
        },
        {
          "output_type": "stream",
          "text": [
            "downloading aclImdb_v1.tar.gz\n"
          ],
          "name": "stdout"
        },
        {
          "output_type": "stream",
          "text": [
            "aclImdb_v1.tar.gz: 100%|██████████| 84.1M/84.1M [00:01<00:00, 64.7MB/s]\n"
          ],
          "name": "stderr"
        }
      ]
    },
    {
      "cell_type": "code",
      "metadata": {
        "colab_type": "code",
        "id": "Heo6yauU0EX_",
        "outputId": "bbf3bbe2-86ee-4e29-dfda-a34ba66a960d",
        "colab": {
          "base_uri": "https://localhost:8080/",
          "height": 52
        }
      },
      "source": [
        "print(f'Number of training examples: {len(train_data)}')\n",
        "print(f'Number of testing examples: {len(test_data)}')"
      ],
      "execution_count": 4,
      "outputs": [
        {
          "output_type": "stream",
          "text": [
            "Number of training examples: 25000\n",
            "Number of testing examples: 25000\n"
          ],
          "name": "stdout"
        }
      ]
    },
    {
      "cell_type": "code",
      "metadata": {
        "colab_type": "code",
        "id": "RwpXXx7f0EYD",
        "outputId": "e106308e-b39b-4dac-97dc-f44506968903",
        "colab": {
          "base_uri": "https://localhost:8080/",
          "height": 72
        }
      },
      "source": [
        "print(vars(train_data.examples[0])['text'])\n",
        "len(train_data.examples)"
      ],
      "execution_count": 5,
      "outputs": [
        {
          "output_type": "stream",
          "text": [
            "['I', 'saw', 'Heartland', 'when', 'it', 'was', 'first', 'released', 'in', '1980', 'and', 'I', 'have', 'just', 'seen', 'it', 'again', '.', 'It', 'improves', 'with', 'age', '.', 'Heartland', 'is', 'not', 'just', 'for', 'lovers', 'of', '\"', 'indie', '\"', 'films', '.', 'At', 'a', 'time', 'when', 'most', 'American', 'films', 'are', 'little', 'more', 'than', 'cynical', 'attempts', 'to', 'make', 'money', 'with', 'CGI', ',', 'pyrotechnics', ',', 'and/or', 'vulgarity', ',', 'Heartland', 'holds', 'up', 'as', 'a', 'slice', 'of', 'American', 'history', '.', 'It', 'is', 'also', 'a', 'reminder', 'of', 'how', 'spoiled', 'most', 'of', 'us', 'modern', ',', 'urbanized', 'Americans', 'are.<br', '/><br', '/>Nothing', 'in', 'this', 'film', 'is', 'overstated', 'or', 'stagey', '.', 'No', 'one', 'declaims', 'any', 'Hollywood', 'movie', 'speeches', '.', 'The', 'actors', 'really', 'inhabit', 'their', 'roles', '.', 'This', 'really', 'feels', 'like', 'a', '\"', 'small', '\"', 'film', 'but', 'really', 'it', 'is', 'bigger', 'than', 'most', 'multizillion', '-', 'dollar', 'Hollywood', 'productions.<br', '/><br', '/>The', 'film', 'is', 'based', 'on', 'the', 'lives', 'of', 'real', 'people', '.', 'In', '1910', ',', 'Elinore', 'Randall', '(', 'Conchata', 'Ferrell', ',', 'who', 'has', 'never', 'done', 'anything', 'better', 'than', 'this', ')', ',', 'a', 'widow', 'with', 'a', '7-year', '-', 'old', 'daughter', 'Jerrine', '(', 'Megan', 'Folsom', ')', ',', 'is', 'living', 'in', 'Denver', 'but', 'wants', 'more', 'opportunities', '.', 'She', 'advertises', 'for', 'a', 'position', 'as', 'housekeeper', '.', 'The', 'ad', 'is', 'answered', 'by', 'Clyde', 'Stewart', '(', 'Rip', 'Torn', ',', 'one', 'of', 'our', 'most', 'under', '-', 'appreciated', 'actors', ')', ',', 'a', 'Scots', '-', 'born', 'rancher', ',', 'himself', 'a', 'widower', ',', 'with', 'a', 'homestead', 'outside', 'of', 'Burnt', 'Fork', ',', 'Wyoming', '.', 'Elinore', 'accepts', 'the', 'position', '(', 'seven', 'dollars', 'a', 'week', '!', ')', 'and', 'moves', 'up', 'to', 'Wyoming', 'with', 'her', 'daughter', '.', 'She', 'and', 'her', 'daughter', 'move', 'into', 'Stewart', \"'s\", 'tiny', 'house', 'on', 'the', 'property', '.', 'It', 'is', 'rolling', ',', 'treeless', 'rangeland', ',', 'a', 'place', 'of', 'endless', 'vistas', 'where', 'the', 'silence', 'is', 'broken', 'only', 'by', 'the', 'sounds', 'made', 'by', 'these', 'people', 'and', 'their', 'animals', '.', 'It', \"'s\", 'guaranteed', 'to', 'make', 'a', 'person', 'feel', 'small', '.', 'The', 'three', 'characters', 'go', 'for', 'long', 'periods', 'without', 'seeing', 'another', 'human', 'soul', '.', 'What', 'is', 'worse', ',', 'Stewart', 'turns', 'out', 'to', 'be', 'taciturn', 'to', 'the', 'point', 'of', 'being', 'almost', 'silent', '.', '\"', 'I', 'ca', \"n't\", 'talk', 'to', 'the', 'man', ',', '\"', 'Elinore', 'complains', 'to', 'Grandma', 'Landauer', '.', '\"', 'You', \"'d\", 'better', 'learn', 'before', 'winter', ',', '\"', 'replies', 'Grandma', '.', 'Grandma', '(', 'Lilia', 'Skala', ')', 'is', 'one', 'of', 'the', 'only', 'two', 'other', 'characters', 'who', 'are', 'seen', 'more', 'than', 'fleetingly', '.', 'She', 'came', 'out', 'to', 'Wyoming', 'from', 'Germany', 'with', 'her', 'husband', 'many', 'years', 'before', 'and', 'runs', 'her', 'ranch', 'alone', 'now', 'that', 'she', 'is', 'also', 'widowed', '.', 'Grandma', 'is', 'their', 'nearest', 'neighbor', '(', 'and', 'the', 'local', 'midwife', ')', 'and', 'still', 'she', 'lives', 'ten', 'miles', 'away', '!', 'The', 'other', 'supporting', 'character', 'is', 'Jack', 'the', 'hired', 'hand', '(', 'Barry', 'Primus).<br', '/><br', '/>Elinore', \"'s\", 'routine', '(', 'and', 'her', 'employer', \"'s\", ')', 'is', 'one', 'of', 'endless', ',', 'backbreaking', 'labor', ',', 'where', 'there', 'are', 'no', 'modern', 'conveniences', 'and', 'where', 'everything', 'must', 'be', 'made', ',', 'fixed', 'or', 'done', 'by', 'hand', '.', 'This', 'is', 'the', 'real', 'meat', 'of', 'the', 'film', ':', 'Watching', 'the', 'ordinary', 'life', 'of', 'these', 'ranchers', 'as', 'they', 'struggle', 'against', 'nature', 'to', 'wrest', 'a', 'living', 'from', 'the', 'land', '.', 'But', 'despite', 'the', 'constant', 'toil', 'and', 'fatigue', ',', 'Elinore', 'is', 'always', 'looking', 'for', 'other', 'opportunities', '.', 'She', 'learns', 'that', 'the', 'tract', 'adjacent', 'to', 'Stewart', \"'s\", 'is', 'unclaimed', '.', 'Impulsively', ',', 'she', 'files', 'a', 'claim', 'on', 'the', 'property', '(', 'twelve', 'dollars', ',', 'or', 'almost', 'two', 'weeks', \"'\", 'pay', '!', ')', ',', 'meaning', 'that', 'if', 'she', 'lives', 'on', 'it', '(', 'and', 'she', 'must', 'actually', 'live', 'there', ')', 'and', 'works', 'it', 'for', 'ten', 'years', ',', 'she', 'will', 'get', 'the', 'deed', 'to', 'it', '.', 'Naturally', ',', 'Stewart', 'learns', 'what', 'she', 'has', 'done', '.', 'With', 'merciless', 'logic', ',', 'he', 'points', 'out', 'that', 'with', 'no', 'money', ',', 'no', 'livestock', ',', 'no', 'credit', ',', 'and', 'no', 'assets', ',', 'she', 'has', 'no', 'chance', 'of', 'succeeding', '.', 'He', 'then', 'offers', 'a', 'solution', ':', 'He', 'proposes', 'marriage', '.', 'The', 'stunned', 'Elinore', 'realizes', 'that', 'this', 'is', 'the', 'only', 'real', 'alternative', ',', 'and', 'accepts.<br', '/><br', '/>We', 'think', 'that', 'Stewart', \"'s\", 'proposal', 'is', 'purely', 'Machiavellian', '---', 'he', 'wants', 'the', 'land', 'and', 'the', 'free', 'labor', '---', 'but', 'we', 'see', 'that', ',', 'in', 'fact', ',', 'he', 'is', 'genuinely', 'fond', 'of', 'Elinore', ',', 'and', 'they', 'grow', 'together', 'as', 'a', 'couple', '.', 'She', 'becomes', 'pregnant', ';', 'she', 'goes', 'into', 'labor', 'in', 'the', 'middle', 'of', 'a', 'midwinter', 'blizzard', ';', 'Clyde', 'travels', 'for', 'hours', 'on', 'horseback', 'through', 'the', 'storm', 'the', 'ten', 'miles', 'to', 'Grandma', \"'s\", 'and', 'the', 'ten', 'miles', 'back', ',', 'only', 'to', 'announce', 'that', 'Grandma', 'was', \"n't\", 'there', '.', 'This', 'is', 'more', 'like', 'real', 'life', 'than', 'is', 'pleasant', ',', 'folks', '.', 'Elinore', 'has', 'the', 'baby', 'all', 'by', 'herself', ',', 'with', 'no', 'help', 'whatsoever', '.', 'Their', 'son', 'is', 'still', 'an', 'infant', 'when', 'he', 'gets', 'sick', 'and', 'dies', '.', 'They', 'lose', 'half', 'their', 'livestock', 'to', 'the', 'vicious', 'winter', '.', 'They', 'struggle', 'on', '.', 'The', 'last', 'sequence', 'in', 'the', 'film', 'is', 'supposed', 'to', 'be', 'optimistic', ':', 'The', 'birth', 'of', 'a', 'calf', '.', 'Clyde', 'calls', 'Elinore', 'urgently', 'to', 'help', 'him', 'deliver', 'the', 'calf', '.', 'Instead', 'of', 'being', 'head', 'first', ',', 'the', 'calf', 'is', 'in', 'a', 'footling', 'breech', 'presentation', '.', 'He', 'and', 'Elinore', 'must', 'physically', 'pull', 'the', 'calf', 'out', 'of', 'the', 'birth', 'canal', '.', 'There', 'is', 'no', 'CGI', ',', 'animatronics', ',', 'trickery', ',', 'fakery', 'or', 'special', 'effects', ':', 'What', 'you', 'see', 'is', 'what', 'happened', ',', 'folks', ':', 'A', 'calf', 'is', 'born', 'on', 'a', 'bed', 'of', 'straw', 'in', 'a', 'wooden', 'barn', 'by', 'lamplight', '.', 'With', 'that', ',', 'the', 'film', 'does', 'not', 'so', 'much', 'end', 'as', 'simply', 'stop', ',', 'leaving', 'the', 'viewer', 'unsatisfied', ',', 'but', 'after', 'a', 'while', 'you', 'appreciate', 'the', 'film', 'as', 'a', 'whole', ',', 'not', 'just', 'for', 'its', 'ending.<br', '/><br', '/>This', 'little', 'gem', 'rewards', 'patience', 'and', 'thoughtfulness', '.', 'It', 'will', 'be', 'watchable', 'long', 'after', 'most', 'of', 'the', 'films', 'of', 'the', 'last', 'generation', 'have', 'long', 'been', 'forgotten', '.']\n"
          ],
          "name": "stdout"
        },
        {
          "output_type": "execute_result",
          "data": {
            "text/plain": [
              "25000"
            ]
          },
          "metadata": {
            "tags": []
          },
          "execution_count": 5
        }
      ]
    },
    {
      "cell_type": "code",
      "metadata": {
        "colab_type": "code",
        "id": "EvjEGdQz0EYH",
        "colab": {
          "base_uri": "https://localhost:8080/",
          "height": 52
        },
        "outputId": "3ca14a2c-ae8b-4999-c704-bb57ae5286f7"
      },
      "source": [
        "# Сделаем еще eval\n",
        "import random\n",
        "\n",
        "train_data, valid_data = train_data.split(random_state=random.seed(SEED))\n",
        "\n",
        "# Сделаем словарь\n",
        "TEXT.build_vocab(train_data, max_size=25000)\n",
        "LABEL.build_vocab(train_data)\n",
        "\n",
        "print(f\"Unique tokens in TEXT vocabulary: {len(TEXT.vocab)}\")\n",
        "print(f\"Unique tokens in LABEL vocabulary: {len(LABEL.vocab)}\")"
      ],
      "execution_count": 6,
      "outputs": [
        {
          "output_type": "stream",
          "text": [
            "Unique tokens in TEXT vocabulary: 25002\n",
            "Unique tokens in LABEL vocabulary: 2\n"
          ],
          "name": "stdout"
        }
      ]
    },
    {
      "cell_type": "code",
      "metadata": {
        "colab_type": "code",
        "id": "OU6WAEri0EYV",
        "outputId": "86c4dd38-f8c1-4de8-ef72-aafcb1bd62bd",
        "colab": {
          "base_uri": "https://localhost:8080/",
          "height": 124
        }
      },
      "source": [
        "print(TEXT.vocab.itos[:10])\n",
        "vars(LABEL.vocab)"
      ],
      "execution_count": 8,
      "outputs": [
        {
          "output_type": "stream",
          "text": [
            "['<unk>', '<pad>', 'the', ',', '.', 'a', 'and', 'of', 'to', 'is']\n"
          ],
          "name": "stdout"
        },
        {
          "output_type": "execute_result",
          "data": {
            "text/plain": [
              "{'freqs': Counter({'neg': 8810, 'pos': 8690}),\n",
              " 'itos': ['neg', 'pos'],\n",
              " 'stoi': defaultdict(<function torchtext.vocab._default_unk_index>,\n",
              "             {'neg': 0, 'pos': 1}),\n",
              " 'vectors': None}"
            ]
          },
          "metadata": {
            "tags": []
          },
          "execution_count": 8
        }
      ]
    },
    {
      "cell_type": "code",
      "metadata": {
        "colab_type": "code",
        "id": "xdy-t7zr0EYq",
        "colab": {}
      },
      "source": [
        "BATCH_SIZE = 64\n",
        "\n",
        "device = torch.device('cuda' if torch.cuda.is_available() else 'cpu')\n",
        "\n",
        "# собираем батчи так, чтобы в каждом батче были примеры наиболее похожей длины\n",
        "train_iterator, valid_iterator, test_iterator = data.BucketIterator.splits(\n",
        "    (train_data, valid_data, test_data), \n",
        "    batch_size=BATCH_SIZE,\n",
        "    device=device)"
      ],
      "execution_count": 0,
      "outputs": []
    },
    {
      "cell_type": "markdown",
      "metadata": {
        "colab_type": "text",
        "id": "75QoByXO0EYw"
      },
      "source": [
        "## Делаем модель"
      ]
    },
    {
      "cell_type": "markdown",
      "metadata": {
        "colab_type": "text",
        "id": "ezPM-mmu0EYy"
      },
      "source": [
        "<img src=\"https://github.com/bentrevett/pytorch-sentiment-analysis/raw/bf8cc46e4823ebf9af721b595501ad6231c73632/assets/sentiment7.png\" width=\"450\">"
      ]
    },
    {
      "cell_type": "markdown",
      "metadata": {
        "colab_type": "text",
        "id": "gzRU6UuV0EYz"
      },
      "source": [
        "* В эмбеддер (emb = [torch.nn.Embedding(num_embeddings, embedding_dim)](https://pytorch.org/docs/stable/nn.html?highlight=embedding#torch.nn.Embedding)) запихиваем тензор размерностью **[sentence length, batch size]**\n",
        "* Эмбеддер возвращает тензор размерностью **[sentence length, batch size, embedding dim]**\n",
        "* RNN (torch.nn.RNN(embedding_dim, hidden_dim)) возвращает 2 тензора, *output* размера [sentence length, batch size, hidden dim] и *hidden* размера [1, batch size, hidden dim]"
      ]
    },
    {
      "cell_type": "code",
      "metadata": {
        "colab_type": "code",
        "id": "NrRhJE3z0EY0",
        "colab": {}
      },
      "source": [
        "class RNN(nn.Module):\n",
        "    def __init__(self, batch_size,input_dim, embedding_dim, hidden_dim, output_dim):\n",
        "        super().__init__()\n",
        "        \n",
        "        \n",
        "        self.batch_size = batch_size\n",
        "\n",
        "        self.embedding_dim = embedding_dim\n",
        "        self.hidden_dim = hidden_dim\n",
        "        self.output_dim = output_dim\n",
        "        \n",
        "        self.embedding = nn.Embedding(input_dim, embedding_dim)\n",
        "        self.basic_rnn = nn.RNN(self.embedding_dim, self.hidden_dim) \n",
        "        self.clas = nn.Linear(self.hidden_dim, self.output_dim)\n",
        "        self.sigm = nn.Sigmoid()\n",
        "        \n",
        "        \n",
        "    def init_hidden(self):\n",
        "        # (num_layers, batch_size, n_neurons)\n",
        "        return (torch.zeros(1, self.batch_size, self.hidden_dim))\n",
        "      \n",
        "    def forward (self, text):\n",
        "\n",
        "        #text = [sent len, batch size]\n",
        "        \n",
        "        h=self.init_hidden()\n",
        "        \n",
        "        embedded = self.embedding (text)\n",
        "        out, hidden = self.basic_rnn(embedded,h)        \n",
        "\n",
        "        output=self.clas(hidden)\n",
        "        output=self.sigm(output)\n",
        "\n",
        "        return output[0].view(-1,self.output_dim)"
      ],
      "execution_count": 0,
      "outputs": []
    },
    {
      "cell_type": "code",
      "metadata": {
        "colab_type": "code",
        "id": "3l5x_RMAs2Dm",
        "colab": {}
      },
      "source": [
        "input_dim = len(TEXT.vocab.freqs)\n",
        "\n",
        "batch_size=64\n",
        "embedding_dim = 12\n",
        "hidden_dim = 32\n",
        "output_dim = 2\n",
        "N_EPHOCS = 100"
      ],
      "execution_count": 0,
      "outputs": []
    },
    {
      "cell_type": "code",
      "metadata": {
        "colab_type": "code",
        "id": "1IevFmR40EY4",
        "colab": {}
      },
      "source": [
        "import torch.optim as optim\n",
        "\n",
        "# Device\n",
        "device = torch.device(\"cuda:0\" if torch.cuda.is_available() else \"cpu\")\n",
        "\n",
        "# Model instance\n",
        "model = RNN(batch_size,input_dim, embedding_dim, hidden_dim, output_dim)\n",
        "\n",
        "criterion = nn.CrossEntropyLoss()\n",
        "optimizer = optim.Adam(model.parameters(), lr=0.001)\n",
        "\n",
        "def get_accuracy(logit, target, batch_size):\n",
        "    ''' Obtain accuracy for training round '''\n",
        "    corrects = (torch.max(logit, 1)[1].view(target.size()).data == target.data).sum()\n",
        "    accuracy = 100.0 * corrects/batch_size\n",
        "    return accuracy.item()\n",
        "  "
      ],
      "execution_count": 0,
      "outputs": []
    },
    {
      "cell_type": "code",
      "metadata": {
        "colab_type": "code",
        "id": "AwVy7duxswUR",
        "outputId": "c35f339f-ba2c-4ccc-de15-3cd662d92238",
        "colab": {
          "base_uri": "https://localhost:8080/",
          "height": 159
        }
      },
      "source": [
        "for epoch in range(N_EPHOCS):  # loop over the dataset multiple times\n",
        "    train_running_loss = 0.0\n",
        "    train_acc = 0.0\n",
        "    model.train()\n",
        "    \n",
        "    # TRAINING ROUND\n",
        "    for i, data in enumerate(train_iterator):\n",
        "         # zero the parameter gradients\n",
        "        optimizer.zero_grad()\n",
        "        \n",
        "        # get the inputs\n",
        "        inputs, labels = data.text, data.label.long()\n",
        "        \n",
        "        if(inputs.shape[1]!=batch_size):\n",
        "          continue\n",
        "\n",
        "        # forward + backward + optimize\n",
        "        \n",
        "        out = model(inputs)\n",
        "        \n",
        "\n",
        "        loss = criterion(out, labels)\n",
        "        \n",
        "        loss.backward()\n",
        "        optimizer.step()\n",
        "\n",
        "        train_running_loss += loss.detach().item()\n",
        "        train_acc += get_accuracy(out, labels, BATCH_SIZE)\n",
        "         \n",
        "    model.eval()\n",
        "    print('Epoch:  %d | Loss: %.4f | Train Accuracy: %.2f' \n",
        "          %(epoch, train_running_loss / i, train_acc/i))"
      ],
      "execution_count": 0,
      "outputs": [
        {
          "output_type": "stream",
          "text": [
            "Epoch:  0 | Loss: 0.6934 | Train Accuracy: 49.20\n",
            "Epoch:  1 | Loss: 0.6932 | Train Accuracy: 49.56\n",
            "Epoch:  2 | Loss: 0.6931 | Train Accuracy: 49.21\n",
            "Epoch:  3 | Loss: 0.6930 | Train Accuracy: 49.58\n",
            "Epoch:  4 | Loss: 0.6935 | Train Accuracy: 49.33\n",
            "Epoch:  5 | Loss: 0.6935 | Train Accuracy: 50.02\n",
            "Epoch:  6 | Loss: 0.6935 | Train Accuracy: 49.34\n",
            "Epoch:  7 | Loss: 0.6934 | Train Accuracy: 49.64\n"
          ],
          "name": "stdout"
        }
      ]
    },
    {
      "cell_type": "code",
      "metadata": {
        "id": "nya1DwwUferW",
        "colab_type": "code",
        "outputId": "c167373e-181d-4e9f-9402-9837b50df237",
        "colab": {
          "base_uri": "https://localhost:8080/",
          "height": 35
        }
      },
      "source": [
        "inputs.shape[1]"
      ],
      "execution_count": 35,
      "outputs": [
        {
          "output_type": "execute_result",
          "data": {
            "text/plain": [
              "28"
            ]
          },
          "metadata": {
            "tags": []
          },
          "execution_count": 35
        }
      ]
    },
    {
      "cell_type": "code",
      "metadata": {
        "colab_type": "code",
        "id": "RFmel58l70F1",
        "outputId": "878824c2-6291-4ac5-815d-3de44180d1da",
        "colab": {
          "base_uri": "https://localhost:8080/",
          "height": 35
        }
      },
      "source": [
        "labels.long().dtype"
      ],
      "execution_count": 32,
      "outputs": [
        {
          "output_type": "execute_result",
          "data": {
            "text/plain": [
              "torch.int64"
            ]
          },
          "metadata": {
            "tags": []
          },
          "execution_count": 32
        }
      ]
    },
    {
      "cell_type": "code",
      "metadata": {
        "id": "Q7ptl8_ximQi",
        "colab_type": "code",
        "colab": {}
      },
      "source": [
        ""
      ],
      "execution_count": 0,
      "outputs": []
    }
  ]
}