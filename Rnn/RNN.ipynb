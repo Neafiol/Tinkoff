{
<<<<<<< HEAD
 "cells": [
  {
   "cell_type": "code",
   "execution_count": 1,
   "metadata": {},
   "outputs": [
    {
     "ename": "ModuleNotFoundError",
     "evalue": "No module named 'torch'",
     "output_type": "error",
     "traceback": [
      "\u001b[1;31m---------------------------------------------------------------------------\u001b[0m",
      "\u001b[1;31mModuleNotFoundError\u001b[0m                       Traceback (most recent call last)",
      "\u001b[1;32m<ipython-input-1-88403b904263>\u001b[0m in \u001b[0;36m<module>\u001b[1;34m()\u001b[0m\n\u001b[1;32m----> 1\u001b[1;33m \u001b[1;32mimport\u001b[0m \u001b[0mtorch\u001b[0m\u001b[1;33m\u001b[0m\u001b[0m\n\u001b[0m\u001b[0;32m      2\u001b[0m \u001b[1;32mimport\u001b[0m \u001b[0mtorch\u001b[0m\u001b[1;33m.\u001b[0m\u001b[0mnn\u001b[0m \u001b[1;32mas\u001b[0m \u001b[0mnn\u001b[0m\u001b[1;33m\u001b[0m\u001b[0m\n\u001b[0;32m      3\u001b[0m \u001b[1;32mimport\u001b[0m \u001b[0mtorch\u001b[0m\u001b[1;33m.\u001b[0m\u001b[0mnn\u001b[0m\u001b[1;33m.\u001b[0m\u001b[0mfunctional\u001b[0m \u001b[1;32mas\u001b[0m \u001b[0mF\u001b[0m\u001b[1;33m\u001b[0m\u001b[0m\n\u001b[0;32m      4\u001b[0m \u001b[1;32mimport\u001b[0m \u001b[0mos\u001b[0m\u001b[1;33m\u001b[0m\u001b[0m\n\u001b[0;32m      5\u001b[0m \u001b[1;32mimport\u001b[0m \u001b[0mnumpy\u001b[0m \u001b[1;32mas\u001b[0m \u001b[0mnp\u001b[0m\u001b[1;33m\u001b[0m\u001b[0m\n",
      "\u001b[1;31mModuleNotFoundError\u001b[0m: No module named 'torch'"
     ]
    }
   ],
   "source": [
    "import torch\n",
    "import torch.nn as nn\n",
    "import torch.nn.functional as F\n",
    "import os\n",
    "import numpy as np"
   ]
  },
  {
   "cell_type": "markdown",
   "metadata": {},
   "source": [
    "## Links:\n",
    "* [Colah blog (LSTM/GRU)](http://colah.github.io/posts/2015-08-Understanding-LSTMs/)\n",
    "* [PyTorch tutorial - RNN for name classification](https://pytorch.org/tutorials/intermediate/char_rnn_classification_tutorial.html)\n",
    "* [MNIST classification with RNN tutorial](https://medium.com/dair-ai/building-rnns-is-fun-with-pytorch-and-google-colab-3903ea9a3a79)\n",
    "* [Good tutorials about Torch sentiment](https://github.com/bentrevett/pytorch-sentiment-analysis)"
   ]
  },
  {
   "cell_type": "markdown",
   "metadata": {},
   "source": [
    "## Vanilla RNN"
   ]
  },
  {
   "cell_type": "markdown",
   "metadata": {},
   "source": [
    "<img src=\"http://colah.github.io/posts/2015-08-Understanding-LSTMs/img/LSTM3-SimpleRNN.png\" width=\"600\">"
   ]
  },
  {
   "cell_type": "markdown",
   "metadata": {},
   "source": [
    "$$\\Large h_{i+1} = tanh(W_x \\cdot X_{i+1} + W_y \\cdot h_{i})$$"
   ]
  },
  {
   "cell_type": "markdown",
   "metadata": {},
   "source": [
    "# RNN intro\n",
    "\n",
    "\n",
    "Давайте разберемся что из себя вообще представляют рекуррентные нейронные сети в самом простом виде.\n",
    "\n",
    "В самом простом виде для одного входного вектора $x_{(t)}$ и одного слоя рекуррентной сети справедливо такое соотношение:\n",
    "\n",
    "$$y_{(t)} = \\phi (x_{(t)}^T \\cdot w_x + y_{(t-1)}^T \\cdot w_y + b)$$\n",
    "\n",
    "где \n",
    "* $x(t)$ -- входной вектор на текущем шаге\n",
    "* $y(t)$ -- выходной вектор на текущем шаге\n",
    "* $w_x$ -- вектор весов нейронов для входа\n",
    "* $w_y$ -- вектор весов нейронов для выхода\n",
    "* $y(t-1)$ -- выходной вектор с прошлого шага. Для шага 0 этот вектор нулевой\n",
    "* $b$ -- байес (bias)\n",
    "* $\\phi$ -- обозначение для функции активации, например ReLU\n",
    "\n",
    "\n",
    "<img src=\"http://colah.github.io/posts/2015-08-Understanding-LSTMs/img/RNN-unrolled.png\" width=\"600\">\n",
    "\n",
    "Есть понятие **hidden_state** ( $h(t)$ ) -- это \"память\" рекуррентной ячейки.\n",
    "\n",
    "В общем случае $h_{(t)} = f(h_{(t-1)}, x_{(t)})$, на выход также $y{(t)} = f(h{(t-1)}, x{(t)})$.\n",
    "\n",
    "\n",
    "### Упрощение формулы\n",
    "\n",
    "Снова немножко математики чтобы привести формулу выше к более удобному виду.\n",
    "\n",
    "Представим, что на вход подается не один вектор $x_{(t)}$, а целый мини-батч размера $m$ таких векторов $X_{(t)}$, соответственно все дальнейшие размышления мы уже производим в матричном виде:\n",
    "\n",
    "$$ Y_{(t)} = \\phi(X_{(t)}^T \\cdot W_x + Y_{(t-1)}^T \\cdot W_y + b) = \\phi([X_{(t)} Y_{(t-1)}] \\cdot W + b) $$\n",
    "где\n",
    "$$ W = [W_x W_y]^T $$\n",
    "\n",
    "*Операция в скобках квадратных -- конкатенация матриц\n",
    "\n",
    "По размерностям:\n",
    "* $Y_{(t)}$ -- матрица [$m$ x n_neurons]\n",
    "* $X_{(t)}$ -- матрица [$m$ x n_features]\n",
    "* $b$ -- вектор длины n_neurons\n",
    "* $W_x$ -- веса между входами и нейронами размерностью [n_features x n_neurons]\n",
    "* $W_y$ -- веса связей с прошлым выходом размерностью [n_neurons x n_neurons]"
   ]
  },
  {
   "cell_type": "markdown",
   "metadata": {},
   "source": [
    "# RNN from scratch"
   ]
  },
  {
   "cell_type": "markdown",
   "metadata": {},
   "source": [
    "### Задание\n",
    "\n",
    "Напишите класс RNN реализующий vanilla RNN"
   ]
  },
  {
   "cell_type": "code",
   "execution_count": 39,
   "metadata": {},
   "outputs": [],
   "source": [
    "import torch.nn as nn\n",
    "\n",
    "class RNN(nn.Module):\n",
    "    def __init__(self, input_size, hidden_size):\n",
    "        super(RNN, self).__init__()\n",
    "\n",
    "        self.hidden_size = hidden_size\n",
    "        <создать Wx, Wy?>\n",
    "\n",
    "    def forward(self, input_data, hidden):\n",
    "        <использовать Wx, Wy для полученния нового hidden>\n",
    "        return hidden\n",
    "\n",
    "    def initHidden(self):\n",
    "        return torch.zeros(1, self.hidden_size)"
   ]
  },
  {
   "cell_type": "code",
   "execution_count": 40,
   "metadata": {},
   "outputs": [],
   "source": [
    "input_feature_size = 6\n",
    "hidden_size=5\n",
    "batch_size=1"
   ]
  },
  {
   "cell_type": "code",
   "execution_count": 41,
   "metadata": {},
   "outputs": [],
   "source": [
    "rnn = RNN(input_size=input_feature_size, hidden_size=hidden_size)\n",
    "initial_hidden = rnn.initHidden()"
   ]
  },
  {
   "cell_type": "code",
   "execution_count": 42,
   "metadata": {},
   "outputs": [],
   "source": [
    "input_example = torch.rand([batch_size, input_feature_size])\n",
    "new_hidden = rnn(input_example, initial_hidden)"
   ]
  },
  {
   "cell_type": "code",
   "execution_count": 43,
   "metadata": {},
   "outputs": [
    {
     "name": "stdout",
     "output_type": "stream",
     "text": [
      "torch.Size([1, 5])\n"
     ]
    }
   ],
   "source": [
    "print(new_hidden.shape)"
   ]
  },
  {
   "cell_type": "code",
   "execution_count": 44,
   "metadata": {},
   "outputs": [
    {
     "name": "stdout",
     "output_type": "stream",
     "text": [
      "initial_hidden:  [[0. 0. 0. 0. 0.]]\n",
      "new_hidden:  [[-0.32747626  0.02690218 -0.13053021  0.00065809 -0.6304871 ]]\n"
     ]
    }
   ],
   "source": [
    "print(\"initial_hidden: \", initial_hidden.numpy())\n",
    "print(\"new_hidden: \", new_hidden.detach().numpy())"
   ]
  },
  {
   "cell_type": "code",
   "execution_count": 45,
   "metadata": {},
   "outputs": [
    {
     "name": "stdout",
     "output_type": "stream",
     "text": [
      "new_hidden:  [[-0.09263675 -0.16230789 -0.19404581 -0.08763069 -0.58969307]]\n"
     ]
    }
   ],
   "source": [
    "new_hidden = rnn(input_example, new_hidden)\n",
    "print(\"new_hidden: \", new_hidden.detach().numpy())"
   ]
  },
  {
   "cell_type": "markdown",
   "metadata": {},
   "source": [
    "### Задание\n",
    "\n",
    "Модифицировать код так, чтобы на входе можно было подавать батчи размером больше 1."
   ]
  },
  {
   "cell_type": "markdown",
   "metadata": {},
   "source": [
    "# Классификация картинок с RNN"
   ]
  },
  {
   "cell_type": "markdown",
   "metadata": {},
   "source": [
    "<img src=\"https://cdn-images-1.medium.com/max/2000/1*wFYZpxTTiXVqncOLQd_CIQ.jpeg\" width=\"800\">"
   ]
  },
  {
   "cell_type": "code",
   "execution_count": 46,
   "metadata": {},
   "outputs": [],
   "source": [
    "!mkdir data"
   ]
  },
  {
   "cell_type": "markdown",
   "metadata": {},
   "source": [
    "Загружаем данные"
   ]
  },
  {
   "cell_type": "code",
   "execution_count": 47,
   "metadata": {},
   "outputs": [
    {
     "name": "stdout",
     "output_type": "stream",
     "text": [
      "Downloading http://yann.lecun.com/exdb/mnist/train-images-idx3-ubyte.gz\n",
      "Downloading http://yann.lecun.com/exdb/mnist/train-labels-idx1-ubyte.gz\n",
      "Downloading http://yann.lecun.com/exdb/mnist/t10k-images-idx3-ubyte.gz\n",
      "Downloading http://yann.lecun.com/exdb/mnist/t10k-labels-idx1-ubyte.gz\n",
      "Processing...\n",
      "Done!\n"
     ]
    }
   ],
   "source": [
    "import torchvision\n",
    "import torchvision.transforms as transforms\n",
    "\n",
    "BATCH_SIZE = 64\n",
    "\n",
    "# переводим все в тензоры\n",
    "transform = transforms.Compose(\n",
    "    [transforms.ToTensor()])\n",
    "\n",
    "trainset = torchvision.datasets.MNIST(root='./data', train=True,\n",
    "                                        download=True, transform=transform)\n",
    "trainloader = torch.utils.data.DataLoader(trainset, batch_size=BATCH_SIZE,\n",
    "                                          shuffle=True, num_workers=2)\n",
    "\n",
    "testset = torchvision.datasets.MNIST(root='./data', train=False,\n",
    "                                       download=True, transform=transform)\n",
    "testloader = torch.utils.data.DataLoader(testset, batch_size=BATCH_SIZE,\n",
    "                                         shuffle=False, num_workers=2)"
   ]
  },
  {
   "cell_type": "code",
   "execution_count": 60,
   "metadata": {},
   "outputs": [
    {
     "name": "stdout",
     "output_type": "stream",
     "text": [
      "total 0\r\n",
      "drwxr-xr-x  4 fogside  staff   128B Mar 22 13:17 \u001b[1m\u001b[36mprocessed\u001b[m\u001b[m\r\n",
      "drwxr-xr-x  6 fogside  staff   192B Mar 22 13:17 \u001b[1m\u001b[36mraw\u001b[m\u001b[m\r\n"
     ]
    }
   ],
   "source": [
    "!ls -lh data/"
   ]
  },
  {
   "cell_type": "code",
   "execution_count": 49,
   "metadata": {},
   "outputs": [
    {
     "name": "stdout",
     "output_type": "stream",
     "text": [
      "Populating the interactive namespace from numpy and matplotlib\n"
     ]
    },
    {
     "name": "stderr",
     "output_type": "stream",
     "text": [
      "/Users/fogside/virtens/py3/lib/python3.7/site-packages/IPython/core/magics/pylab.py:160: UserWarning: pylab import has clobbered these variables: ['imshow']\n",
      "`%matplotlib` prevents importing * from pylab and numpy\n",
      "  \"\\n`%matplotlib` prevents importing * from pylab and numpy\"\n"
     ]
    },
    {
     "data": {
      "image/png": "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\n",
      "text/plain": [
       "<Figure size 432x288 with 1 Axes>"
      ]
     },
     "metadata": {
      "needs_background": "light"
     },
     "output_type": "display_data"
    }
   ],
   "source": [
    "%pylab inline\n",
    "import numpy as np\n",
    "\n",
    "# functions to show an image\n",
    "def imshow(img):\n",
    "    #img = img / 2 + 0.5     # unnormalize\n",
    "    npimg = img.numpy()\n",
    "    plt.imshow(np.transpose(npimg, (1, 2, 0)))\n",
    "\n",
    "# get some random training images\n",
    "dataiter = iter(trainloader)\n",
    "images, labels = dataiter.next()\n",
    "\n",
    "# show images\n",
    "imshow(torchvision.utils.make_grid(images))"
   ]
  },
  {
   "cell_type": "markdown",
   "metadata": {},
   "source": [
    "## Как выглядит классификация с RNN в общем виде "
   ]
  },
  {
   "cell_type": "markdown",
   "metadata": {},
   "source": [
    "<img src=\"https://cdn-images-1.medium.com/max/1600/1*vhAfRLlaeOXZ-bruv7Ostg.png\" width=\"400\">"
   ]
  },
  {
   "cell_type": "code",
   "execution_count": 50,
   "metadata": {},
   "outputs": [],
   "source": [
    "class ImageRNN(nn.Module):\n",
    "    def __init__(self, batch_size, n_steps, n_inputs, n_neurons, n_outputs):\n",
    "        super(ImageRNN, self).__init__()\n",
    "        \n",
    "        self.n_neurons = n_neurons\n",
    "        self.batch_size = batch_size\n",
    "        self.n_steps = n_steps\n",
    "        self.n_inputs = n_inputs\n",
    "        self.n_outputs = n_outputs\n",
    "        \n",
    "        self.basic_rnn = nn.RNN(self.n_inputs, self.n_neurons) \n",
    "        \n",
    "        self.FC = nn.Linear(self.n_neurons, self.n_outputs)\n",
    "        \n",
    "    def init_hidden(self,):\n",
    "        # (num_layers, batch_size, n_neurons)\n",
    "        return (torch.zeros(1, self.batch_size, self.n_neurons))\n",
    "        \n",
    "    def forward(self, X):\n",
    "        # transforms X to dimensions: n_steps X batch_size X n_inputs\n",
    "        X = X.permute(1, 0, 2) \n",
    "        \n",
    "        self.batch_size = X.size(1)\n",
    "        self.hidden = self.init_hidden()\n",
    "        \n",
    "        lstm_out, self.hidden = self.basic_rnn(X, self.hidden)      \n",
    "        out = self.FC(self.hidden)\n",
    "        \n",
    "        return out.view(-1, self.n_outputs) # batch_size X n_output"
   ]
  },
  {
   "cell_type": "code",
   "execution_count": 53,
   "metadata": {},
   "outputs": [],
   "source": [
    "N_STEPS = 28\n",
    "N_INPUTS = 28\n",
    "N_NEURONS = 150\n",
    "N_OUTPUTS = 10\n",
    "N_EPHOCS = 10"
   ]
  },
  {
   "cell_type": "code",
   "execution_count": 54,
   "metadata": {},
   "outputs": [
    {
     "name": "stdout",
     "output_type": "stream",
     "text": [
      "tensor([[ 0.0212, -0.0206, -0.0168, -0.0300, -0.1171, -0.0894,  0.0688,  0.0048,\n",
      "         -0.0465,  0.0521],\n",
      "        [ 0.0204, -0.0284, -0.0256, -0.0308, -0.1169, -0.0872,  0.0720,  0.0107,\n",
      "         -0.0446,  0.0560],\n",
      "        [ 0.0209, -0.0297, -0.0133,  0.0003, -0.1199, -0.0501,  0.0793,  0.0228,\n",
      "         -0.0374,  0.0690],\n",
      "        [ 0.0220, -0.0274, -0.0131, -0.0360, -0.1156, -0.0823,  0.0784,  0.0178,\n",
      "         -0.0474,  0.0515],\n",
      "        [ 0.0280, -0.0359, -0.0259, -0.0317, -0.1152, -0.0749,  0.0827,  0.0224,\n",
      "         -0.0518,  0.0558],\n",
      "        [ 0.0033, -0.0499, -0.0362, -0.0264, -0.1445, -0.0838,  0.0760,  0.0429,\n",
      "         -0.0054,  0.0624],\n",
      "        [ 0.0188, -0.0337, -0.0108, -0.0331, -0.1268, -0.0802,  0.0771,  0.0150,\n",
      "         -0.0498,  0.0506],\n",
      "        [ 0.0232, -0.0297, -0.0241, -0.0347, -0.1140, -0.0836,  0.0776,  0.0192,\n",
      "         -0.0472,  0.0491],\n",
      "        [ 0.0099, -0.0584, -0.0151, -0.0467, -0.1333, -0.0866,  0.0712,  0.0163,\n",
      "         -0.0597,  0.0434],\n",
      "        [ 0.0242, -0.0274, -0.0302, -0.0248, -0.1143, -0.0909,  0.0728,  0.0146,\n",
      "         -0.0396,  0.0503]], grad_fn=<SliceBackward>)\n"
     ]
    }
   ],
   "source": [
    "dataiter = iter(trainloader)\n",
    "images, labels = dataiter.next()\n",
    "model = ImageRNN(BATCH_SIZE, N_STEPS, N_INPUTS, N_NEURONS, N_OUTPUTS)\n",
    "logits = model(images.view(-1, 28,28))\n",
    "print(logits[0:10])"
   ]
  },
  {
   "cell_type": "markdown",
   "metadata": {},
   "source": [
    "## Обучаем"
   ]
  },
  {
   "cell_type": "code",
   "execution_count": 55,
   "metadata": {},
   "outputs": [],
   "source": [
    "import torch.optim as optim\n",
    "\n",
    "# Device\n",
    "device = torch.device(\"cuda:0\" if torch.cuda.is_available() else \"cpu\")\n",
    "\n",
    "# Model instance\n",
    "model = ImageRNN(BATCH_SIZE, N_STEPS, N_INPUTS, N_NEURONS, N_OUTPUTS)\n",
    "criterion = nn.CrossEntropyLoss()\n",
    "optimizer = optim.Adam(model.parameters(), lr=0.001)\n",
    "\n",
    "def get_accuracy(logit, target, batch_size):\n",
    "    ''' Obtain accuracy for training round '''\n",
    "    corrects = (torch.max(logit, 1)[1].view(target.size()).data == target.data).sum()\n",
    "    accuracy = 100.0 * corrects/batch_size\n",
    "    return accuracy.item()"
   ]
  },
  {
   "cell_type": "code",
   "execution_count": 56,
   "metadata": {},
   "outputs": [
    {
     "name": "stdout",
     "output_type": "stream",
     "text": [
      "Epoch:  0 | Loss: 0.7930 | Train Accuracy: 73.54\n",
      "Epoch:  1 | Loss: 0.3450 | Train Accuracy: 89.72\n",
      "Epoch:  2 | Loss: 0.2397 | Train Accuracy: 92.84\n",
      "Epoch:  3 | Loss: 0.2006 | Train Accuracy: 93.90\n",
      "Epoch:  4 | Loss: 0.1707 | Train Accuracy: 94.71\n",
      "Epoch:  5 | Loss: 0.1491 | Train Accuracy: 95.40\n",
      "Epoch:  6 | Loss: 0.1466 | Train Accuracy: 95.41\n",
      "Epoch:  7 | Loss: 0.1336 | Train Accuracy: 95.79\n",
      "Epoch:  8 | Loss: 0.1230 | Train Accuracy: 96.16\n",
      "Epoch:  9 | Loss: 0.1143 | Train Accuracy: 96.32\n"
     ]
    }
   ],
   "source": [
    "for epoch in range(N_EPHOCS):  # loop over the dataset multiple times\n",
    "    train_running_loss = 0.0\n",
    "    train_acc = 0.0\n",
    "    model.train()\n",
    "    \n",
    "    # TRAINING ROUND\n",
    "    for i, data in enumerate(trainloader):\n",
    "         # zero the parameter gradients\n",
    "        optimizer.zero_grad()\n",
    "        \n",
    "        # reset hidden states\n",
    "        model.hidden = model.init_hidden() \n",
    "        \n",
    "        # get the inputs\n",
    "        inputs, labels = data\n",
    "        inputs = inputs.view(-1, 28,28) \n",
    "\n",
    "        # forward + backward + optimize\n",
    "        outputs = model(inputs)\n",
    "\n",
    "        loss = criterion(outputs, labels)\n",
    "        loss.backward()\n",
    "        optimizer.step()\n",
    "\n",
    "        train_running_loss += loss.detach().item()\n",
    "        train_acc += get_accuracy(outputs, labels, BATCH_SIZE)\n",
    "         \n",
    "    model.eval()\n",
    "    print('Epoch:  %d | Loss: %.4f | Train Accuracy: %.2f' \n",
    "          %(epoch, train_running_loss / i, train_acc/i))"
   ]
  },
  {
   "cell_type": "markdown",
   "metadata": {},
   "source": [
    "### Смотрим что на тесте"
   ]
  },
  {
   "cell_type": "code",
   "execution_count": 61,
   "metadata": {},
   "outputs": [
    {
     "name": "stdout",
     "output_type": "stream",
     "text": [
      "Test Accuracy: 96.31\n"
     ]
    }
   ],
   "source": [
    "test_acc = 0.0\n",
    "for i, data in enumerate(testloader, 0):\n",
    "    inputs, labels = data\n",
    "    inputs = inputs.view(-1, 28, 28)\n",
    "\n",
    "    outputs = model(inputs)\n",
    "\n",
    "    test_acc += get_accuracy(outputs, labels, BATCH_SIZE)\n",
    "        \n",
    "print('Test Accuracy: %.2f'%( test_acc/i))"
   ]
  },
  {
   "cell_type": "markdown",
   "metadata": {},
   "source": [
    "# Сентимент анализ по аналогии\n",
    "\n",
    "пишем сами с нуля\n",
    "\n",
    "<img src=\"https://github.com/bentrevett/pytorch-sentiment-analysis/raw/bf8cc46e4823ebf9af721b595501ad6231c73632/assets/sentiment1.png\">"
   ]
  },
  {
   "cell_type": "markdown",
   "metadata": {},
   "source": [
    "$~ pip install torchtext\n",
    "\n",
    "$~ python -m spacy download en\n"
   ]
  },
  {
   "cell_type": "code",
   "execution_count": 2,
   "metadata": {},
   "outputs": [],
   "source": [
    "import torch\n",
    "from torchtext import data\n",
    "\n",
    "SEED = 1234\n",
    "\n",
    "torch.manual_seed(SEED)\n",
    "torch.cuda.manual_seed(SEED)\n",
    "torch.backends.cudnn.deterministic = True\n",
    "\n",
    "TEXT = data.Field(tokenize='spacy')\n",
    "LABEL = data.LabelField(dtype=torch.float)"
   ]
  },
  {
   "cell_type": "code",
   "execution_count": 6,
   "metadata": {},
   "outputs": [
    {
     "name": "stdout",
     "output_type": "stream",
     "text": [
      "downloading aclImdb_v1.tar.gz\n"
     ]
    },
    {
     "name": "stderr",
     "output_type": "stream",
     "text": [
      "aclImdb_v1.tar.gz: 100%|██████████| 84.1M/84.1M [03:45<00:00, 372kB/s] \n"
     ]
    }
   ],
   "source": [
    "from torchtext import datasets\n",
    "train_data, test_data = datasets.IMDB.splits(TEXT, LABEL, root=\"./data\")"
   ]
  },
  {
   "cell_type": "code",
   "execution_count": 11,
   "metadata": {},
   "outputs": [
    {
     "name": "stdout",
     "output_type": "stream",
     "text": [
      "total 3432\r\n",
      "-rw-r--r--   1 fogside  staff   3.9K Jun 26  2011 README\r\n",
      "-rw-r--r--   1 fogside  staff   826K Apr 12  2011 imdb.vocab\r\n",
      "-rw-r--r--   1 fogside  staff   882K Jun 12  2011 imdbEr.txt\r\n",
      "drwxr-xr-x   7 fogside  staff   224B Apr 12  2011 \u001b[1m\u001b[36mtest\u001b[m\u001b[m/\r\n",
      "drwxr-xr-x  10 fogside  staff   320B Jun 26  2011 \u001b[1m\u001b[36mtrain\u001b[m\u001b[m/\r\n"
     ]
    }
   ],
   "source": [
    "ls -lh data/imdb/aclImdb/"
   ]
  },
  {
   "cell_type": "code",
   "execution_count": 7,
   "metadata": {},
   "outputs": [
    {
     "name": "stdout",
     "output_type": "stream",
     "text": [
      "Number of training examples: 25000\n",
      "Number of testing examples: 25000\n"
     ]
    }
   ],
   "source": [
    "print(f'Number of training examples: {len(train_data)}')\n",
    "print(f'Number of testing examples: {len(test_data)}')"
   ]
  },
  {
   "cell_type": "code",
   "execution_count": 12,
   "metadata": {},
   "outputs": [
    {
     "name": "stdout",
     "output_type": "stream",
     "text": [
      "{'text': ['For', 'a', 'movie', 'that', 'gets', 'no', 'respect', 'there', 'sure', 'are', 'a', 'lot', 'of', 'memorable', 'quotes', 'listed', 'for', 'this', 'gem', '.', 'Imagine', 'a', 'movie', 'where', 'Joe', 'Piscopo', 'is', 'actually', 'funny', '!', 'Maureen', 'Stapleton', 'is', 'a', 'scene', 'stealer', '.', 'The', 'Moroni', 'character', 'is', 'an', 'absolute', 'scream', '.', 'Watch', 'for', 'Alan', '\"', 'The', 'Skipper', '\"', 'Hale', 'jr', '.', 'as', 'a', 'police', 'Sgt', '.'], 'label': 'pos'}\n"
     ]
    }
   ],
   "source": [
    "print(vars(train_data.examples[0]))"
   ]
  },
  {
   "cell_type": "code",
   "execution_count": 14,
   "metadata": {},
   "outputs": [],
   "source": [
    "# Сделаем еще eval\n",
    "import random\n",
    "\n",
    "train_data, valid_data = train_data.split(random_state=random.seed(SEED))"
   ]
  },
  {
   "cell_type": "code",
   "execution_count": 15,
   "metadata": {},
   "outputs": [],
   "source": [
    "# Сделаем словарь\n",
    "TEXT.build_vocab(train_data, max_size=25000)\n",
    "LABEL.build_vocab(train_data)"
   ]
  },
  {
   "cell_type": "code",
   "execution_count": 16,
   "metadata": {},
   "outputs": [
    {
     "name": "stdout",
     "output_type": "stream",
     "text": [
      "Unique tokens in TEXT vocabulary: 25002\n",
      "Unique tokens in LABEL vocabulary: 2\n"
     ]
    }
   ],
   "source": [
    "print(f\"Unique tokens in TEXT vocabulary: {len(TEXT.vocab)}\")\n",
    "print(f\"Unique tokens in LABEL vocabulary: {len(LABEL.vocab)}\")"
   ]
  },
  {
   "cell_type": "code",
   "execution_count": 20,
   "metadata": {},
   "outputs": [
    {
     "data": {
      "text/plain": [
       "{'freqs': Counter({'neg': 8810, 'pos': 8690}),\n",
       " 'itos': ['neg', 'pos'],\n",
       " 'stoi': defaultdict(<function torchtext.vocab._default_unk_index()>,\n",
       "             {'neg': 0, 'pos': 1}),\n",
       " 'vectors': None}"
      ]
     },
     "execution_count": 20,
     "metadata": {},
     "output_type": "execute_result"
    }
   ],
   "source": [
    "vars(LABEL.vocab)"
   ]
  },
  {
   "cell_type": "markdown",
   "metadata": {},
   "source": [
    "Почему 25002, а не 25000?\n",
    "Потому что $<unk>$ и $<pad>$\n",
    "\n",
    "<img src=\"https://github.com/bentrevett/pytorch-sentiment-analysis/raw/bf8cc46e4823ebf9af721b595501ad6231c73632/assets/sentiment6.png\" width=\"160\">"
   ]
  },
  {
   "cell_type": "code",
   "execution_count": 21,
   "metadata": {},
   "outputs": [
    {
     "name": "stdout",
     "output_type": "stream",
     "text": [
      "[('the', 202477), (',', 192116), ('.', 165088), ('a', 109236), ('and', 109177), ('of', 101088), ('to', 93504), ('is', 76396), ('in', 61294), ('I', 54007), ('it', 53323), ('that', 48902), ('\"', 44048), (\"'s\", 43236), ('this', 42364), ('-', 37002), ('/><br', 35684), ('was', 34977), ('as', 30126), ('with', 29740)]\n"
     ]
    }
   ],
   "source": [
    "print(TEXT.vocab.freqs.most_common(20))"
   ]
  },
  {
   "cell_type": "markdown",
   "metadata": {},
   "source": [
    "* stoi (string to int)\n",
    "* itos (int to string)"
   ]
  },
  {
   "cell_type": "code",
   "execution_count": 22,
   "metadata": {},
   "outputs": [
    {
     "name": "stdout",
     "output_type": "stream",
     "text": [
      "['<unk>', '<pad>', 'the', ',', '.', 'a', 'and', 'of', 'to', 'is']\n"
     ]
=======
  "nbformat": 4,
  "nbformat_minor": 0,
  "metadata": {
    "colab": {
      "name": "RNN.ipynb",
      "version": "0.3.2",
      "provenance": []
    },
    "kernelspec": {
      "display_name": "Python 3",
      "language": "python",
      "name": "python3"
>>>>>>> f64286ee4a09ccd91def8270c89a68668f49598c
    }
  },
  "cells": [
    {
      "metadata": {
        "id": "6aMrbyco0EWT",
        "colab_type": "code",
        "colab": {}
      },
      "cell_type": "code",
      "source": [
        "import torch\n",
        "import torch.nn as nn\n",
        "import torch.nn.functional as F\n",
        "import os\n",
        "import numpy as np"
      ],
      "execution_count": 0,
      "outputs": []
    },
    {
      "metadata": {
        "id": "pIQnwJcp0EWa",
        "colab_type": "text"
      },
      "cell_type": "markdown",
      "source": [
        "## Links:\n",
        "* [Colah blog (LSTM/GRU)](http://colah.github.io/posts/2015-08-Understanding-LSTMs/)\n",
        "* [PyTorch tutorial - RNN for name classification](https://pytorch.org/tutorials/intermediate/char_rnn_classification_tutorial.html)\n",
        "* [MNIST classification with RNN tutorial](https://medium.com/dair-ai/building-rnns-is-fun-with-pytorch-and-google-colab-3903ea9a3a79)\n",
        "* [Good tutorials about Torch sentiment](https://github.com/bentrevett/pytorch-sentiment-analysis)"
      ]
    },
    {
      "metadata": {
        "id": "vNPUnURH0EWb",
        "colab_type": "text"
      },
      "cell_type": "markdown",
      "source": [
        "## Vanilla RNN"
      ]
    },
    {
      "metadata": {
        "id": "7V_1eJfI0EWc",
        "colab_type": "text"
      },
      "cell_type": "markdown",
      "source": [
        "<img src=\"http://colah.github.io/posts/2015-08-Understanding-LSTMs/img/LSTM3-SimpleRNN.png\" width=\"600\">"
      ]
    },
    {
      "metadata": {
        "id": "49pfueCC0EWd",
        "colab_type": "text"
      },
      "cell_type": "markdown",
      "source": [
        "$$\\Large h_{i+1} = tanh(W_x \\cdot X_{i+1} + W_y \\cdot h_{i})$$"
      ]
    },
    {
      "metadata": {
        "id": "fLASk9EZ0EWe",
        "colab_type": "text"
      },
      "cell_type": "markdown",
      "source": [
        "# RNN intro\n",
        "\n",
        "\n",
        "Давайте разберемся что из себя вообще представляют рекуррентные нейронные сети в самом простом виде.\n",
        "\n",
        "В самом простом виде для одного входного вектора $x_{(t)}$ и одного слоя рекуррентной сети справедливо такое соотношение:\n",
        "\n",
        "$$y_{(t)} = \\phi (x_{(t)}^T \\cdot w_x + y_{(t-1)}^T \\cdot w_y + b)$$\n",
        "\n",
        "где \n",
        "* $x(t)$ -- входной вектор на текущем шаге\n",
        "* $y(t)$ -- выходной вектор на текущем шаге\n",
        "* $w_x$ -- вектор весов нейронов для входа\n",
        "* $w_y$ -- вектор весов нейронов для выхода\n",
        "* $y(t-1)$ -- выходной вектор с прошлого шага. Для шага 0 этот вектор нулевой\n",
        "* $b$ -- байес (bias)\n",
        "* $\\phi$ -- обозначение для функции активации, например ReLU\n",
        "\n",
        "\n",
        "<img src=\"http://colah.github.io/posts/2015-08-Understanding-LSTMs/img/RNN-unrolled.png\" width=\"600\">\n",
        "\n",
        "Есть понятие **hidden_state** ( $h(t)$ ) -- это \"память\" рекуррентной ячейки.\n",
        "\n",
        "В общем случае $h_{(t)} = f(h_{(t-1)}, x_{(t)})$, на выход также $y{(t)} = f(h{(t-1)}, x{(t)})$.\n",
        "\n",
        "\n",
        "### Упрощение формулы\n",
        "\n",
        "Снова немножко математики чтобы привести формулу выше к более удобному виду.\n",
        "\n",
        "Представим, что на вход подается не один вектор $x_{(t)}$, а целый мини-батч размера $m$ таких векторов $X_{(t)}$, соответственно все дальнейшие размышления мы уже производим в матричном виде:\n",
        "\n",
        "$$ Y_{(t)} = \\phi(X_{(t)}^T \\cdot W_x + Y_{(t-1)}^T \\cdot W_y + b) = \\phi([X_{(t)} Y_{(t-1)}] \\cdot W + b) $$\n",
        "где\n",
        "$$ W = [W_x W_y]^T $$\n",
        "\n",
        "*Операция в скобках квадратных -- конкатенация матриц\n",
        "\n",
        "По размерностям:\n",
        "* $Y_{(t)}$ -- матрица [$m$ x n_neurons]\n",
        "* $X_{(t)}$ -- матрица [$m$ x n_features]\n",
        "* $b$ -- вектор длины n_neurons\n",
        "* $W_x$ -- веса между входами и нейронами размерностью [n_features x n_neurons]\n",
        "* $W_y$ -- веса связей с прошлым выходом размерностью [n_neurons x n_neurons]"
      ]
    },
    {
      "metadata": {
        "id": "-7sTGvtn0EWf",
        "colab_type": "text"
      },
      "cell_type": "markdown",
      "source": [
        "# RNN from scratch"
      ]
    },
    {
      "metadata": {
        "id": "-Oc7NOBN0EWg",
        "colab_type": "text"
      },
      "cell_type": "markdown",
      "source": [
        "### Задание\n",
        "\n",
        "Напишите класс RNN реализующий vanilla RNN"
      ]
    },
    {
      "metadata": {
        "id": "Wci_qxB50EWh",
        "colab_type": "code",
        "colab": {}
      },
      "cell_type": "code",
      "source": [
        "import torch.nn as nn\n",
        "\n",
        "class RNN(nn.Module):\n",
        "    def __init__(self, input_size, hidden_size):\n",
        "        super(RNN, self).__init__()\n",
        "\n",
        "        self.hidden_size = hidden_size\n",
        "        self.input_size = input_size\n",
        "\n",
        "        self.vx = nn.Linear(input_size,hidden_size)      \n",
        "        self.vh = nn.Linear(hidden_size,hidden_size)        \n",
        "\n",
        "        \n",
        "       \n",
        "\n",
        "    def forward(self, input_data, hidden):\n",
        "      \n",
        "        w=torch.cat([self.vx(input_data),self.vh(hidden)])\n",
        "        w=torch.tanh(w)\n",
        "        return w\n",
        "\n",
        "    def initHidden(self):\n",
        "        return torch.zeros(1, self.hidden_size)"
      ],
      "execution_count": 0,
      "outputs": []
    },
    {
      "metadata": {
        "id": "lLrIR_xZ0EWl",
        "colab_type": "code",
        "colab": {}
      },
      "cell_type": "code",
      "source": [
        "input_feature_size = 6\n",
        "hidden_size=5\n",
        "batch_size=1"
      ],
      "execution_count": 0,
      "outputs": []
    },
    {
      "metadata": {
        "id": "neLd-XbC0EWo",
        "colab_type": "code",
        "colab": {}
      },
      "cell_type": "code",
      "source": [
        "rnn = RNN(input_size=input_feature_size, hidden_size=hidden_size)\n",
        "initial_hidden = rnn.initHidden()"
      ],
      "execution_count": 0,
      "outputs": []
    },
    {
      "metadata": {
        "id": "Rk9dNdmb0EWs",
        "colab_type": "code",
        "colab": {}
      },
      "cell_type": "code",
      "source": [
        "input_example = torch.rand([batch_size, input_feature_size])\n",
        "new_hidden = rnn(input_example, initial_hidden)"
      ],
      "execution_count": 0,
      "outputs": []
    },
    {
      "metadata": {
        "id": "2JA3Wn--0EWx",
        "colab_type": "code",
        "colab": {
          "base_uri": "https://localhost:8080/",
          "height": 35
        },
        "outputId": "a15dff76-984b-431d-9ad9-358025c517d6"
      },
      "cell_type": "code",
      "source": [
        "print(new_hidden.shape)"
      ],
      "execution_count": 21,
      "outputs": [
        {
          "output_type": "stream",
          "text": [
            "torch.Size([2, 5])\n"
          ],
          "name": "stdout"
        }
      ]
    },
    {
      "metadata": {
        "id": "elrPDC1u0EW4",
        "colab_type": "code",
        "colab": {
          "base_uri": "https://localhost:8080/",
          "height": 70
        },
        "outputId": "f0ac81b1-073a-48ba-92e4-f9ca852aff81"
      },
      "cell_type": "code",
      "source": [
        "print(\"initial_hidden: \", initial_hidden.numpy())\n",
        "print(\"new_hidden: \", new_hidden.detach().numpy())"
      ],
      "execution_count": 22,
      "outputs": [
        {
          "output_type": "stream",
          "text": [
            "initial_hidden:  [[0. 0. 0. 0. 0.]]\n",
            "new_hidden:  [[-0.05219492 -0.01717013 -0.05231306  0.14257655 -0.7634406 ]\n",
            " [-0.34031454 -0.34075266 -0.00743176 -0.18081622 -0.16829865]]\n"
          ],
          "name": "stdout"
        }
      ]
    },
    {
      "metadata": {
        "id": "hST3qUbj0EW8",
        "colab_type": "code",
        "colab": {
          "base_uri": "https://localhost:8080/",
          "height": 70
        },
        "outputId": "44097932-0ff2-456f-9851-1fe17491bc46"
      },
      "cell_type": "code",
      "source": [
        "new_hidden = rnn(input_example, new_hidden)\n",
        "print(\"new_hidden: \", new_hidden.detach().numpy())"
      ],
      "execution_count": 23,
      "outputs": [
        {
          "output_type": "stream",
          "text": [
            "new_hidden:  [[-0.05219492 -0.01717013 -0.05231306  0.14257655 -0.7634406 ]\n",
            " [-0.0555646  -0.4610962  -0.09976417  0.03587583 -0.27349952]\n",
            " [-0.49266285 -0.38391888 -0.05516817 -0.31125072 -0.13069533]]\n"
          ],
          "name": "stdout"
        }
      ]
    },
    {
      "metadata": {
        "id": "FObA6J1V0EXA",
        "colab_type": "text"
      },
      "cell_type": "markdown",
      "source": [
        "### Задание\n",
        "\n",
        "Модифицировать код так, чтобы на входе можно было подавать батчи размером больше 1."
      ]
    },
    {
      "metadata": {
        "id": "oHQSReXF0EXB",
        "colab_type": "text"
      },
      "cell_type": "markdown",
      "source": [
        "# Классификация картинок с RNN"
      ]
    },
    {
      "metadata": {
        "id": "ghnex3nA0EXC",
        "colab_type": "text"
      },
      "cell_type": "markdown",
      "source": [
        "<img src=\"https://cdn-images-1.medium.com/max/2000/1*wFYZpxTTiXVqncOLQd_CIQ.jpeg\" width=\"800\">"
      ]
    },
    {
      "metadata": {
        "id": "055M12aU0EXE",
        "colab_type": "code",
        "colab": {}
      },
      "cell_type": "code",
      "source": [
        "!mkdir data"
      ],
      "execution_count": 0,
      "outputs": []
    },
    {
      "metadata": {
        "id": "XZcHIgKD0EXH",
        "colab_type": "text"
      },
      "cell_type": "markdown",
      "source": [
        "Загружаем данные"
      ]
    },
    {
      "metadata": {
        "id": "dYCClnFj0EXI",
        "colab_type": "code",
        "colab": {
          "base_uri": "https://localhost:8080/",
          "height": 266
        },
        "outputId": "cdf79124-1fe5-451b-bb25-a93a38db96c1"
      },
      "cell_type": "code",
      "source": [
        "import torchvision\n",
        "import torchvision.transforms as transforms\n",
        "\n",
        "BATCH_SIZE = 64\n",
        "\n",
        "# переводим все в тензоры\n",
        "transform = transforms.Compose(\n",
        "    [transforms.ToTensor()])\n",
        "\n",
        "trainset = torchvision.datasets.MNIST(root='./data', train=True,\n",
        "                                        download=True, transform=transform)\n",
        "trainloader = torch.utils.data.DataLoader(trainset, batch_size=BATCH_SIZE,\n",
        "                                          shuffle=True, num_workers=2)\n",
        "\n",
        "testset = torchvision.datasets.MNIST(root='./data', train=False,\n",
        "                                       download=True, transform=transform)\n",
        "testloader = torch.utils.data.DataLoader(testset, batch_size=BATCH_SIZE,\n",
        "                                         shuffle=False, num_workers=2)"
      ],
      "execution_count": 25,
      "outputs": [
        {
          "output_type": "stream",
          "text": [
            "\r0it [00:00, ?it/s]"
          ],
          "name": "stderr"
        },
        {
          "output_type": "stream",
          "text": [
            "Downloading http://yann.lecun.com/exdb/mnist/train-images-idx3-ubyte.gz to ./data/MNIST/raw/train-images-idx3-ubyte.gz\n"
          ],
          "name": "stdout"
        },
        {
          "output_type": "stream",
          "text": [
            "9920512it [00:01, 9032465.74it/s]                            \n"
          ],
          "name": "stderr"
        },
        {
          "output_type": "stream",
          "text": [
            "Extracting ./data/MNIST/raw/train-images-idx3-ubyte.gz\n"
          ],
          "name": "stdout"
        },
        {
          "output_type": "stream",
          "text": [
            "  0%|          | 0/28881 [00:00<?, ?it/s]"
          ],
          "name": "stderr"
        },
        {
          "output_type": "stream",
          "text": [
            "Downloading http://yann.lecun.com/exdb/mnist/train-labels-idx1-ubyte.gz to ./data/MNIST/raw/train-labels-idx1-ubyte.gz\n"
          ],
          "name": "stdout"
        },
        {
          "output_type": "stream",
          "text": [
            "32768it [00:00, 136481.54it/s]           \n",
            "  0%|          | 0/1648877 [00:00<?, ?it/s]"
          ],
          "name": "stderr"
        },
        {
          "output_type": "stream",
          "text": [
            "Extracting ./data/MNIST/raw/train-labels-idx1-ubyte.gz\n",
            "Downloading http://yann.lecun.com/exdb/mnist/t10k-images-idx3-ubyte.gz to ./data/MNIST/raw/t10k-images-idx3-ubyte.gz\n"
          ],
          "name": "stdout"
        },
        {
          "output_type": "stream",
          "text": [
            "1654784it [00:00, 2241528.68it/s]                           \n",
            "0it [00:00, ?it/s]"
          ],
          "name": "stderr"
        },
        {
          "output_type": "stream",
          "text": [
            "Extracting ./data/MNIST/raw/t10k-images-idx3-ubyte.gz\n",
            "Downloading http://yann.lecun.com/exdb/mnist/t10k-labels-idx1-ubyte.gz to ./data/MNIST/raw/t10k-labels-idx1-ubyte.gz\n"
          ],
          "name": "stdout"
        },
        {
          "output_type": "stream",
          "text": [
            "8192it [00:00, 51547.70it/s]            \n"
          ],
          "name": "stderr"
        },
        {
          "output_type": "stream",
          "text": [
            "Extracting ./data/MNIST/raw/t10k-labels-idx1-ubyte.gz\n",
            "Processing...\n",
            "Done!\n"
          ],
          "name": "stdout"
        }
      ]
    },
    {
      "metadata": {
        "id": "I-T4VmL50EXM",
        "colab_type": "code",
        "colab": {
          "base_uri": "https://localhost:8080/",
          "height": 52
        },
        "outputId": "9b439a5d-d372-4621-884f-e3a25d00db3d"
      },
      "cell_type": "code",
      "source": [
        "!ls -lh data/"
      ],
      "execution_count": 26,
      "outputs": [
        {
          "output_type": "stream",
          "text": [
            "total 4.0K\n",
            "drwxr-xr-x 4 root root 4.0K Mar 22 15:22 MNIST\n"
          ],
          "name": "stdout"
        }
      ]
    },
    {
      "metadata": {
        "id": "mKT5MJz90EXQ",
        "colab_type": "code",
        "colab": {
          "base_uri": "https://localhost:8080/",
          "height": 287
        },
        "outputId": "33b461bb-be32-492d-c23f-7e187010a5fb"
      },
      "cell_type": "code",
      "source": [
        "%pylab inline\n",
        "import numpy as np\n",
        "\n",
        "# functions to show an image\n",
        "def imshow(img):\n",
        "    #img = img / 2 + 0.5     # unnormalize\n",
        "    npimg = img.numpy()\n",
        "    plt.imshow(np.transpose(npimg, (1, 2, 0)))\n",
        "\n",
        "# get some random training images\n",
        "dataiter = iter(trainloader)\n",
        "images, labels = dataiter.next()\n",
        "\n",
        "# show images\n",
        "imshow(torchvision.utils.make_grid(images))"
      ],
      "execution_count": 27,
      "outputs": [
        {
          "output_type": "stream",
          "text": [
            "Populating the interactive namespace from numpy and matplotlib\n"
          ],
          "name": "stdout"
        },
        {
          "output_type": "display_data",
          "data": {
            "image/png": "iVBORw0KGgoAAAANSUhEUgAAAP8AAAD8CAYAAAC4nHJkAAAABHNCSVQICAgIfAhkiAAAAAlwSFlz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\nwoiaAAAAAElFTkSuQmCC\n",
            "text/plain": [
              "<Figure size 432x288 with 1 Axes>"
            ]
          },
          "metadata": {
            "tags": []
          }
        }
      ]
    },
    {
      "metadata": {
        "id": "cUJU5-pg0EXV",
        "colab_type": "text"
      },
      "cell_type": "markdown",
      "source": [
        "## Как выглядит классификация с RNN в общем виде "
      ]
    },
    {
      "metadata": {
        "id": "EgWtBdLy0EXX",
        "colab_type": "text"
      },
      "cell_type": "markdown",
      "source": [
        "<img src=\"https://cdn-images-1.medium.com/max/1600/1*vhAfRLlaeOXZ-bruv7Ostg.png\" width=\"400\">"
      ]
    },
    {
      "metadata": {
        "id": "80G5_e8R0EXY",
        "colab_type": "code",
        "colab": {}
      },
      "cell_type": "code",
      "source": [
        "class ImageRNN(nn.Module):\n",
        "    def __init__(self, batch_size, n_steps, n_inputs, n_neurons, n_outputs):\n",
        "        super(ImageRNN, self).__init__()\n",
        "        \n",
        "        self.n_neurons = n_neurons\n",
        "        self.batch_size = batch_size\n",
        "        self.n_steps = n_steps\n",
        "        self.n_inputs = n_inputs\n",
        "        self.n_outputs = n_outputs\n",
        "        \n",
        "        self.basic_rnn = nn.RNN(self.n_inputs, self.n_neurons) \n",
        "        \n",
        "        self.FC = nn.Linear(self.n_neurons, self.n_outputs)\n",
        "        \n",
        "    def init_hidden(self,):\n",
        "        # (num_layers, batch_size, n_neurons)\n",
        "        return (torch.zeros(1, self.batch_size, self.n_neurons))\n",
        "        \n",
        "    def forward(self, X):\n",
        "        # transforms X to dimensions: n_steps X batch_size X n_inputs\n",
        "        X = X.permute(1, 0, 2) \n",
        "        \n",
        "        self.batch_size = X.size(1)\n",
        "        self.hidden = self.init_hidden()\n",
        "        \n",
        "        lstm_out, self.hidden = self.basic_rnn(X, self.hidden)      \n",
        "        out = self.FC(self.hidden)\n",
        "        \n",
        "        return out.view(-1, self.n_outputs) # batch_size X n_output"
      ],
      "execution_count": 0,
      "outputs": []
    },
    {
      "metadata": {
        "id": "7xmJyWpv0EXe",
        "colab_type": "code",
        "colab": {}
      },
      "cell_type": "code",
      "source": [
        "N_STEPS = 28\n",
        "N_INPUTS = 28\n",
        "N_NEURONS = 150\n",
        "N_OUTPUTS = 10\n",
        "N_EPHOCS = 10"
      ],
      "execution_count": 0,
      "outputs": []
    },
    {
      "metadata": {
        "id": "pw4OgN790EXi",
        "colab_type": "code",
        "colab": {
          "base_uri": "https://localhost:8080/",
          "height": 372
        },
        "outputId": "197fce5a-8230-4ccf-fad0-9d37ea29b1c7"
      },
      "cell_type": "code",
      "source": [
        "dataiter = iter(trainloader)\n",
        "images, labels = dataiter.next()\n",
        "model = ImageRNN(BATCH_SIZE, N_STEPS, N_INPUTS, N_NEURONS, N_OUTPUTS)\n",
        "logits = model(images.view(-1, 28,28))\n",
        "print(logits[0:10])"
      ],
      "execution_count": 33,
      "outputs": [
        {
          "output_type": "stream",
          "text": [
            "tensor([[-0.0778, -0.0869,  0.0538, -0.0781,  0.0569, -0.0130,  0.0461,  0.0060,\n",
            "          0.0731, -0.1441],\n",
            "        [-0.0559, -0.0894,  0.0550, -0.0749,  0.0771, -0.0056,  0.0534, -0.0011,\n",
            "          0.0799, -0.1309],\n",
            "        [-0.0601, -0.0879,  0.0489, -0.0786,  0.0723, -0.0022,  0.0555, -0.0039,\n",
            "          0.0873, -0.1391],\n",
            "        [-0.0520, -0.0839,  0.0433, -0.0892,  0.0694,  0.0012,  0.0306,  0.0070,\n",
            "          0.0899, -0.1298],\n",
            "        [-0.0698, -0.0940,  0.0491, -0.0754,  0.0617, -0.0089,  0.0459,  0.0139,\n",
            "          0.0756, -0.1421],\n",
            "        [-0.0732, -0.0939,  0.0508, -0.0787,  0.0518, -0.0086,  0.0507,  0.0055,\n",
            "          0.0758, -0.1388],\n",
            "        [-0.0711, -0.0881,  0.0517, -0.0785,  0.0597, -0.0149,  0.0452,  0.0117,\n",
            "          0.0759, -0.1419],\n",
            "        [-0.0371, -0.1025,  0.0320, -0.1031,  0.0796, -0.0497,  0.0171,  0.0122,\n",
            "          0.0895, -0.1548],\n",
            "        [-0.0704, -0.0926,  0.0544, -0.0804,  0.0567, -0.0092,  0.0504, -0.0004,\n",
            "          0.0812, -0.1403],\n",
            "        [-0.0751, -0.0962,  0.0452, -0.0778,  0.0478, -0.0129,  0.0486,  0.0181,\n",
            "          0.0766, -0.1442]], grad_fn=<SliceBackward>)\n"
          ],
          "name": "stdout"
        }
      ]
    },
    {
      "metadata": {
        "id": "g56-Q37g0EXm",
        "colab_type": "text"
      },
      "cell_type": "markdown",
      "source": [
        "## Обучаем"
      ]
    },
    {
      "metadata": {
        "id": "ZmlA1YkL0EXm",
        "colab_type": "code",
        "colab": {}
      },
      "cell_type": "code",
      "source": [
        "import torch.optim as optim\n",
        "\n",
        "# Device\n",
        "device = torch.device(\"cuda:0\" if torch.cuda.is_available() else \"cpu\")\n",
        "\n",
        "# Model instance\n",
        "model = ImageRNN(BATCH_SIZE, N_STEPS, N_INPUTS, N_NEURONS, N_OUTPUTS)\n",
        "criterion = nn.CrossEntropyLoss()\n",
        "optimizer = optim.Adam(model.parameters(), lr=0.001)\n",
        "\n",
        "def get_accuracy(logit, target, batch_size):\n",
        "    ''' Obtain accuracy for training round '''\n",
        "    corrects = (torch.max(logit, 1)[1].view(target.size()).data == target.data).sum()\n",
        "    accuracy = 100.0 * corrects/batch_size\n",
        "    return accuracy.item()"
      ],
      "execution_count": 0,
      "outputs": []
    },
    {
      "metadata": {
        "id": "pt-wbkrl0EXp",
        "colab_type": "code",
        "colab": {
          "base_uri": "https://localhost:8080/",
          "height": 195
        },
        "outputId": "078ee798-a611-4a7e-95e8-fdd45e7ca098"
      },
      "cell_type": "code",
      "source": [
        "for epoch in range(N_EPHOCS):  # loop over the dataset multiple times\n",
        "    train_running_loss = 0.0\n",
        "    train_acc = 0.0\n",
        "    model.train()\n",
        "    \n",
        "    # TRAINING ROUND\n",
        "    for i, data in enumerate(trainloader):\n",
        "         # zero the parameter gradients\n",
        "        optimizer.zero_grad()\n",
        "        \n",
        "        # reset hidden states\n",
        "        model.hidden = model.init_hidden() \n",
        "        \n",
        "        # get the inputs\n",
        "        inputs, labels = data\n",
        "        inputs = inputs.view(-1, 28,28) \n",
        "\n",
        "        # forward + backward + optimize\n",
        "        outputs = model(inputs)\n",
        "\n",
        "        loss = criterion(outputs, labels)\n",
        "        loss.backward()\n",
        "        optimizer.step()\n",
        "\n",
        "        train_running_loss += loss.detach().item()\n",
        "        train_acc += get_accuracy(outputs, labels, BATCH_SIZE)\n",
        "         \n",
        "    model.eval()\n",
        "    print('Epoch:  %d | Loss: %.4f | Train Accuracy: %.2f' \n",
        "          %(epoch, train_running_loss / i, train_acc/i))"
      ],
      "execution_count": 35,
      "outputs": [
        {
          "output_type": "stream",
          "text": [
            "Epoch:  0 | Loss: 0.7624 | Train Accuracy: 74.42\n",
            "Epoch:  1 | Loss: 0.3360 | Train Accuracy: 89.75\n",
            "Epoch:  2 | Loss: 0.2318 | Train Accuracy: 92.99\n",
            "Epoch:  3 | Loss: 0.1970 | Train Accuracy: 93.97\n",
            "Epoch:  4 | Loss: 0.1672 | Train Accuracy: 94.85\n",
            "Epoch:  5 | Loss: 0.1575 | Train Accuracy: 95.14\n",
            "Epoch:  6 | Loss: 0.1417 | Train Accuracy: 95.55\n",
            "Epoch:  7 | Loss: 0.1365 | Train Accuracy: 95.74\n",
            "Epoch:  8 | Loss: 0.1255 | Train Accuracy: 95.99\n",
            "Epoch:  9 | Loss: 0.1188 | Train Accuracy: 96.21\n"
          ],
          "name": "stdout"
        }
      ]
    },
    {
      "metadata": {
        "id": "eZaLB4H-0EXt",
        "colab_type": "text"
      },
      "cell_type": "markdown",
      "source": [
        "### Смотрим что на тесте"
      ]
    },
    {
      "metadata": {
        "id": "CQjCQ6ml0EXv",
        "colab_type": "code",
        "colab": {
          "base_uri": "https://localhost:8080/",
          "height": 35
        },
        "outputId": "e5e1e917-d375-460a-e848-ca6740f6011a"
      },
      "cell_type": "code",
      "source": [
        "test_acc = 0.0\n",
        "for i, data in enumerate(testloader, 0):\n",
        "    inputs, labels = data\n",
        "    inputs = inputs.view(-1, 28, 28)\n",
        "\n",
        "    outputs = model(inputs)\n",
        "\n",
        "    test_acc += get_accuracy(outputs, labels, BATCH_SIZE)\n",
        "        \n",
        "print('Test Accuracy: %.2f'%( test_acc/i))"
      ],
      "execution_count": 36,
      "outputs": [
        {
          "output_type": "stream",
          "text": [
            "Test Accuracy: 95.91\n"
          ],
          "name": "stdout"
        }
      ]
    },
    {
      "metadata": {
        "id": "tn-HHdDC0EXz",
        "colab_type": "text"
      },
      "cell_type": "markdown",
      "source": [
        "# Сентимент анализ по аналогии\n",
        "\n",
        "пишем сами с нуля\n",
        "\n",
        "<img src=\"https://github.com/bentrevett/pytorch-sentiment-analysis/raw/bf8cc46e4823ebf9af721b595501ad6231c73632/assets/sentiment1.png\">"
      ]
    },
    {
      "metadata": {
        "id": "2C5nwpEa0EX0",
        "colab_type": "text"
      },
      "cell_type": "markdown",
      "source": [
        "$~ pip install torchtext\n",
        "\n",
        "$~ python -m spacy download en\n"
      ]
    },
    {
      "metadata": {
        "id": "L9a6kE9VCwDF",
        "colab_type": "code",
        "colab": {
          "base_uri": "https://localhost:8080/",
          "height": 339
        },
        "outputId": "8154b467-fd15-4444-c741-43cd20cde044"
      },
      "cell_type": "code",
      "source": [
        "!pip install torchtext\n",
        "!python -m spacy download en"
      ],
      "execution_count": 38,
      "outputs": [
        {
          "output_type": "stream",
          "text": [
            "Requirement already satisfied: torchtext in /usr/local/lib/python3.6/dist-packages (0.3.1)\n",
            "Requirement already satisfied: torch in /usr/local/lib/python3.6/dist-packages (from torchtext) (1.0.1.post2)\n",
            "Requirement already satisfied: numpy in /usr/local/lib/python3.6/dist-packages (from torchtext) (1.14.6)\n",
            "Requirement already satisfied: tqdm in /usr/local/lib/python3.6/dist-packages (from torchtext) (4.28.1)\n",
            "Requirement already satisfied: requests in /usr/local/lib/python3.6/dist-packages (from torchtext) (2.18.4)\n",
            "Requirement already satisfied: idna<2.7,>=2.5 in /usr/local/lib/python3.6/dist-packages (from requests->torchtext) (2.6)\n",
            "Requirement already satisfied: urllib3<1.23,>=1.21.1 in /usr/local/lib/python3.6/dist-packages (from requests->torchtext) (1.22)\n",
            "Requirement already satisfied: certifi>=2017.4.17 in /usr/local/lib/python3.6/dist-packages (from requests->torchtext) (2019.3.9)\n",
            "Requirement already satisfied: chardet<3.1.0,>=3.0.2 in /usr/local/lib/python3.6/dist-packages (from requests->torchtext) (3.0.4)\n",
            "Requirement already satisfied: en_core_web_sm==2.0.0 from https://github.com/explosion/spacy-models/releases/download/en_core_web_sm-2.0.0/en_core_web_sm-2.0.0.tar.gz#egg=en_core_web_sm==2.0.0 in /usr/local/lib/python3.6/dist-packages (2.0.0)\n",
            "\n",
            "\u001b[93m    Linking successful\u001b[0m\n",
            "    /usr/local/lib/python3.6/dist-packages/en_core_web_sm -->\n",
            "    /usr/local/lib/python3.6/dist-packages/spacy/data/en\n",
            "\n",
            "    You can now load the model via spacy.load('en')\n",
            "\n"
          ],
          "name": "stdout"
        }
      ]
    },
    {
      "metadata": {
        "id": "2OE9H_eM0EX1",
        "colab_type": "code",
        "colab": {}
      },
      "cell_type": "code",
      "source": [
        "import torch\n",
        "from torchtext import data\n",
        "\n",
        "SEED = 1234\n",
        "\n",
        "torch.manual_seed(SEED)\n",
        "torch.cuda.manual_seed(SEED)\n",
        "torch.backends.cudnn.deterministic = True\n",
        "\n",
        "TEXT = data.Field(tokenize='spacy')\n",
        "LABEL = data.LabelField(dtype=torch.float)"
      ],
      "execution_count": 0,
      "outputs": []
    },
    {
      "metadata": {
        "id": "nZOHVoNH0EX4",
        "colab_type": "code",
        "colab": {
          "base_uri": "https://localhost:8080/",
          "height": 52
        },
        "outputId": "49d9f4b1-6d39-40ac-cefa-23bdf8b9871d"
      },
      "cell_type": "code",
      "source": [
        "from torchtext import datasets\n",
        "train_data, test_data = datasets.IMDB.splits(TEXT, LABEL, root=\"./data\")"
      ],
      "execution_count": 40,
      "outputs": [
        {
          "output_type": "stream",
          "text": [
            "aclImdb_v1.tar.gz:   0%|          | 180k/84.1M [00:00<00:53, 1.56MB/s]"
          ],
          "name": "stderr"
        },
        {
          "output_type": "stream",
          "text": [
            "downloading aclImdb_v1.tar.gz\n"
          ],
          "name": "stdout"
        },
        {
          "output_type": "stream",
          "text": [
            "aclImdb_v1.tar.gz: 100%|██████████| 84.1M/84.1M [00:01<00:00, 65.9MB/s]\n"
          ],
          "name": "stderr"
        }
      ]
    },
    {
      "metadata": {
        "id": "8h_fXXDa0EX8",
        "colab_type": "code",
        "colab": {
          "base_uri": "https://localhost:8080/",
          "height": 124
        },
        "outputId": "d062656d-0ac3-4693-9f14-09509e539176"
      },
      "cell_type": "code",
      "source": [
        "ls -lh data/imdb/aclImdb/"
      ],
      "execution_count": 42,
      "outputs": [
        {
          "output_type": "stream",
          "text": [
            "total 1.7M\n",
            "-rw-r--r-- 1 7297 1000 882K Jun 11  2011 imdbEr.txt\n",
            "-rw-r--r-- 1 7297 1000 827K Apr 12  2011 imdb.vocab\n",
            "-rw-r--r-- 1 7297 1000 4.0K Jun 26  2011 README\n",
            "drwxr-xr-x 4 7297 1000 4.0K Apr 12  2011 \u001b[0m\u001b[01;34mtest\u001b[0m/\n",
            "drwxr-xr-x 5 7297 1000 4.0K Jun 26  2011 \u001b[01;34mtrain\u001b[0m/\n"
          ],
          "name": "stdout"
        }
      ]
    },
    {
      "metadata": {
        "id": "Heo6yauU0EX_",
        "colab_type": "code",
        "colab": {
          "base_uri": "https://localhost:8080/",
          "height": 52
        },
        "outputId": "c51abe96-3d98-44dc-fb36-af6e4495b2df"
      },
      "cell_type": "code",
      "source": [
        "print(f'Number of training examples: {len(train_data)}')\n",
        "print(f'Number of testing examples: {len(test_data)}')"
      ],
      "execution_count": 43,
      "outputs": [
        {
          "output_type": "stream",
          "text": [
            "Number of training examples: 25000\n",
            "Number of testing examples: 25000\n"
          ],
          "name": "stdout"
        }
      ]
    },
    {
      "metadata": {
        "id": "RwpXXx7f0EYD",
        "colab_type": "code",
        "colab": {
          "base_uri": "https://localhost:8080/",
          "height": 55
        },
        "outputId": "376615d0-41c1-4fcc-f337-c874ad449929"
      },
      "cell_type": "code",
      "source": [
        "print(vars(train_data.examples[0]))"
      ],
      "execution_count": 44,
      "outputs": [
        {
          "output_type": "stream",
          "text": [
            "{'text': ['This', 'movie', 'captures', 'the', 'essence', 'of', 'growing', 'up', 'in', 'smalltown', 'America', 'for', 'a', 'young', 'girl', 'on', 'her', 'own', '.', 'The', 'realism', 'and', 'subtle', 'nuances', ',', 'offered', 'to', 'Ashley', 'Judd', \"'s\", 'character', ',', 'Ruby', ',', 'by', 'the', 'storyline', ',', 'capture', 'what', 'can', 'only', 'be', 'described', 'as', 'a', 'true', 'to', 'life', 'setting', 'in', 'the', 'panhandle', 'of', 'Florida', '.', 'From', 'the', 'slam', 'of', 'a', 'screen', 'door', ',', 'to', 'the', 'lack', 'of', 'work', ',', 'the', 'echoes', 'of', 'what', 'life', 'is', 'really', 'like', 'on', 'the', '\"', 'red', '-', 'neck', 'riviera', '\"', 'provide', 'rough', 'choices', 'for', 'the', 'young', 'girl', '.', 'Paradise', 'did', 'not', 'come', 'easy', '.', 'But', 'she', 'slowly', 'overcomes', 'obstacles', 'and', 'deceit', ',', 'and', 'learns', 'to', 'be', 'her', 'own', 'woman', ',', 'with', 'a', 'strength', 'that', 'flows', 'from', 'within', '.', 'Ashley', 'Judd', \"'s\", 'winning', 'smile', ',', 'and', 'infectious', 'gait', 'exude', 'warmth', 'and', 'command', 'respect', 'and', 'admiration', '.', 'The', 'careful', 'pace', 'of', 'the', 'character', 'development', 'resembles', 'that', 'of', '\"', 'Ulee', \"'s\", 'Gold', '\"', 'in', '1997', ',', 'starring', 'Peter', 'Fonda', ',', 'and', 'also', 'directed', 'by', 'Victor', 'Nunez', '.'], 'label': 'pos'}\n"
          ],
          "name": "stdout"
        }
      ]
    },
    {
      "metadata": {
        "id": "EvjEGdQz0EYH",
        "colab_type": "code",
        "colab": {}
      },
      "cell_type": "code",
      "source": [
        "# Сделаем еще eval\n",
        "import random\n",
        "\n",
        "train_data, valid_data = train_data.split(random_state=random.seed(SEED))"
      ],
      "execution_count": 0,
      "outputs": []
    },
    {
      "metadata": {
        "id": "lw0giIPe0EYM",
        "colab_type": "code",
        "colab": {}
      },
      "cell_type": "code",
      "source": [
        "# Сделаем словарь\n",
        "TEXT.build_vocab(train_data, max_size=25000)\n",
        "LABEL.build_vocab(train_data)"
      ],
      "execution_count": 0,
      "outputs": []
    },
    {
      "metadata": {
        "id": "gzE2yU650EYR",
        "colab_type": "code",
        "colab": {
          "base_uri": "https://localhost:8080/",
          "height": 52
        },
        "outputId": "cdcac653-f4e2-4e8f-e1d7-f8a18761207e"
      },
      "cell_type": "code",
      "source": [
        "print(f\"Unique tokens in TEXT vocabulary: {len(TEXT.vocab)}\")\n",
        "print(f\"Unique tokens in LABEL vocabulary: {len(LABEL.vocab)}\")"
      ],
      "execution_count": 47,
      "outputs": [
        {
          "output_type": "stream",
          "text": [
            "Unique tokens in TEXT vocabulary: 2\n",
            "Unique tokens in LABEL vocabulary: 0\n"
          ],
          "name": "stdout"
        }
      ]
    },
    {
      "metadata": {
        "id": "OU6WAEri0EYV",
        "colab_type": "code",
        "colab": {
          "base_uri": "https://localhost:8080/",
          "height": 88
        },
        "outputId": "200916a7-f3a9-4ec6-87b7-e4aa3ffe1cf5"
      },
      "cell_type": "code",
      "source": [
        "vars(LABEL.vocab)"
      ],
      "execution_count": 48,
      "outputs": [
        {
          "output_type": "execute_result",
          "data": {
            "text/plain": [
              "{'freqs': Counter(),\n",
              " 'itos': [],\n",
              " 'stoi': defaultdict(<function torchtext.vocab._default_unk_index>, {}),\n",
              " 'vectors': None}"
            ]
          },
          "metadata": {
            "tags": []
          },
          "execution_count": 48
        }
      ]
    },
    {
      "metadata": {
        "id": "FU-19gnh0EYa",
        "colab_type": "text"
      },
      "cell_type": "markdown",
      "source": [
        "Почему 25002, а не 25000?\n",
        "Потому что $<unk>$ и $<pad>$\n",
        "\n",
        "<img src=\"https://github.com/bentrevett/pytorch-sentiment-analysis/raw/bf8cc46e4823ebf9af721b595501ad6231c73632/assets/sentiment6.png\" width=\"160\">"
      ]
    },
    {
      "metadata": {
        "id": "9WQPa1Z70EYb",
        "colab_type": "code",
        "colab": {
          "base_uri": "https://localhost:8080/",
          "height": 35
        },
        "outputId": "52734555-ed60-41af-82cf-f644ec4aa139"
      },
      "cell_type": "code",
      "source": [
        "print(TEXT.vocab.freqs.most_common(20))"
      ],
      "execution_count": 49,
      "outputs": [
        {
          "output_type": "stream",
          "text": [
            "[]\n"
          ],
          "name": "stdout"
        }
      ]
    },
    {
      "metadata": {
        "id": "Lr3mh8zf0EYh",
        "colab_type": "text"
      },
      "cell_type": "markdown",
      "source": [
        "* stoi (string to int)\n",
        "* itos (int to string)"
      ]
    },
    {
      "metadata": {
        "id": "jo0S1ekS0EYh",
        "colab_type": "code",
        "colab": {
          "base_uri": "https://localhost:8080/",
          "height": 35
        },
        "outputId": "3b404223-059e-4a3c-a389-59b6eb45e6da"
      },
      "cell_type": "code",
      "source": [
        "print(TEXT.vocab.itos[:10])"
      ],
      "execution_count": 50,
      "outputs": [
        {
          "output_type": "stream",
          "text": [
            "['<unk>', '<pad>']\n"
          ],
          "name": "stdout"
        }
      ]
    },
    {
      "metadata": {
        "id": "luy_GhzO0EYm",
        "colab_type": "code",
        "colab": {
          "base_uri": "https://localhost:8080/",
          "height": 35
        },
        "outputId": "637105ea-0dbf-433e-9789-a74257c80fd9"
      },
      "cell_type": "code",
      "source": [
        "print(LABEL.vocab.stoi)"
      ],
      "execution_count": 51,
      "outputs": [
        {
          "output_type": "stream",
          "text": [
            "defaultdict(<function _default_unk_index at 0x7f4e405cdbf8>, {})\n"
          ],
          "name": "stdout"
        }
      ]
    },
    {
      "metadata": {
        "id": "xdy-t7zr0EYq",
        "colab_type": "code",
        "colab": {}
      },
      "cell_type": "code",
      "source": [
        "BATCH_SIZE = 64\n",
        "\n",
        "device = torch.device('cuda' if torch.cuda.is_available() else 'cpu')\n",
        "\n",
        "# собираем батчи так, чтобы в каждом батче были примеры наиболее похожей длины\n",
        "train_iterator, valid_iterator, test_iterator = data.BucketIterator.splits(\n",
        "    (train_data, valid_data, test_data), \n",
        "    batch_size=BATCH_SIZE,\n",
        "    device=device)"
      ],
      "execution_count": 0,
      "outputs": []
    },
    {
      "metadata": {
        "id": "75QoByXO0EYw",
        "colab_type": "text"
      },
      "cell_type": "markdown",
      "source": [
        "## Делаем модель"
      ]
    },
    {
      "metadata": {
        "id": "ezPM-mmu0EYy",
        "colab_type": "text"
      },
      "cell_type": "markdown",
      "source": [
        "<img src=\"https://github.com/bentrevett/pytorch-sentiment-analysis/raw/bf8cc46e4823ebf9af721b595501ad6231c73632/assets/sentiment7.png\" width=\"450\">"
      ]
    },
    {
      "metadata": {
        "id": "gzRU6UuV0EYz",
        "colab_type": "text"
      },
      "cell_type": "markdown",
      "source": [
        "* В эмбеддер (emb = [torch.nn.Embedding(num_embeddings, embedding_dim)](https://pytorch.org/docs/stable/nn.html?highlight=embedding#torch.nn.Embedding)) запихиваем тензор размерностью **[sentence length, batch size]**\n",
        "* Эмбеддер возвращает тензор размерностью **[sentence length, batch size, embedding dim]**\n",
        "* RNN (torch.nn.RNN(embedding_dim, hidden_dim)) возвращает 2 тензора, *output* размера [sentence length, batch size, hidden dim] и *hidden* размера [1, batch size, hidden dim]"
      ]
    },
    {
      "metadata": {
        "id": "NrRhJE3z0EY0",
        "colab_type": "code",
        "colab": {}
      },
      "cell_type": "code",
      "source": [
        "class RNN(nn.Module):\n",
        "    def __init__(self, input_dim, embedding_dim, hidden_dim, output_dim):\n",
        "        super().__init__()\n",
        "        \n",
        "        self.embedding = nn.Embedding(input_dim, embedding_dim)\n",
        "        self.rnn = ?\n",
        "        # можно добавить линейный слой, который делает проекцию в 2 класса\n",
        "    def forward(self, text):\n",
        "\n",
        "        #text = [sent len, batch size]\n",
        "        \n",
        "        embedded = ?\n",
        "        \n",
        "        #embedded = [sent len, batch size, emb dim]\n",
        "        \n",
        "        output, hidden = ?\n",
        "        \n",
        "        #output = [sent len, batch size, hid dim]\n",
        "        #hidden = [1, batch size, hid dim]\n",
        "        \n",
        "#         assert torch.equal(output[-1,:,:], hidden.squeeze(0))\n",
        "        \n",
        "        return self.fc(hidden.squeeze(0))"
      ],
      "execution_count": 0,
      "outputs": []
    },
    {
      "metadata": {
        "id": "1IevFmR40EY4",
        "colab_type": "code",
        "colab": {}
      },
      "cell_type": "code",
      "source": [
        "Код обучения тоже пишите вы:)"
      ],
      "execution_count": 0,
      "outputs": []
    }
<<<<<<< HEAD
   ],
   "source": [
    "print(LABEL.vocab.stoi)"
   ]
  },
  {
   "cell_type": "code",
   "execution_count": 29,
   "metadata": {},
   "outputs": [],
   "source": [
    "BATCH_SIZE = 64\n",
    "\n",
    "device = torch.device('cuda' if torch.cuda.is_available() else 'cpu')\n",
    "\n",
    "# собираем батчи так, чтобы в каждом батче были примеры наиболее похожей длины\n",
    "train_iterator, valid_iterator, test_iterator = data.BucketIterator.splits(\n",
    "    (train_data, valid_data, test_data), \n",
    "    batch_size=BATCH_SIZE,\n",
    "    device=device)"
   ]
  },
  {
   "cell_type": "markdown",
   "metadata": {},
   "source": [
    "## Делаем модель"
   ]
  },
  {
   "cell_type": "markdown",
   "metadata": {},
   "source": [
    "<img src=\"https://github.com/bentrevett/pytorch-sentiment-analysis/raw/bf8cc46e4823ebf9af721b595501ad6231c73632/assets/sentiment7.png\" width=\"450\">"
   ]
  },
  {
   "cell_type": "markdown",
   "metadata": {},
   "source": [
    "* В эмбеддер (emb = [torch.nn.Embedding(num_embeddings, embedding_dim)](https://pytorch.org/docs/stable/nn.html?highlight=embedding#torch.nn.Embedding)) запихиваем тензор размерностью **[sentence length, batch size]**\n",
    "* Эмбеддер возвращает тензор размерностью **[sentence length, batch size, embedding dim]**\n",
    "* RNN (torch.nn.RNN(embedding_dim, hidden_dim)) возвращает 2 тензора, *output* размера [sentence length, batch size, hidden dim] и *hidden* размера [1, batch size, hidden dim]"
   ]
  },
  {
   "cell_type": "code",
   "execution_count": null,
   "metadata": {},
   "outputs": [],
   "source": [
    "class RNN(nn.Module):\n",
    "    def __init__(self, input_dim, embedding_dim, hidden_dim, output_dim):\n",
    "        super().__init__()\n",
    "        \n",
    "        self.embedding = nn.Embedding(input_dim, embedding_dim)\n",
    "        self.rnn = ?\n",
    "        # можно добавить линейный слой, который делает проекцию в 2 класса\n",
    "    def forward(self, text):\n",
    "\n",
    "        #text = [sent len, batch size]\n",
    "        \n",
    "        embedded = ?\n",
    "        \n",
    "        #embedded = [sent len, batch size, emb dim]\n",
    "        \n",
    "        output, hidden = ?\n",
    "        \n",
    "        #output = [sent len, batch size, hid dim]\n",
    "        #hidden = [1, batch size, hid dim]\n",
    "        \n",
    "#         assert torch.equal(output[-1,:,:], hidden.squeeze(0))\n",
    "        \n",
    "        return self.fc(hidden.squeeze(0))"
   ]
  },
  {
   "cell_type": "code",
   "execution_count": null,
   "metadata": {},
   "outputs": [],
   "source": [
    "Код обучения тоже пишите вы:)"
   ]
  }
 ],
 "metadata": {
  "kernelspec": {
   "display_name": "Python 3",
   "language": "python",
   "name": "python3"
  },
  "language_info": {
   "codemirror_mode": {
    "name": "ipython",
    "version": 3
   },
   "file_extension": ".py",
   "mimetype": "text/x-python",
   "name": "python",
   "nbconvert_exporter": "python",
   "pygments_lexer": "ipython3",
   "version": "3.7.0"
  }
 },
 "nbformat": 4,
 "nbformat_minor": 2
}
=======
  ]
}
>>>>>>> f64286ee4a09ccd91def8270c89a68668f49598c
