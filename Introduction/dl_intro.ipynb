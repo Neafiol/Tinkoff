{
 "cells": [
  {
   "cell_type": "markdown",
   "metadata": {
    "colab_type": "text",
    "id": "cTAbteP9gtzi"
   },
   "source": [
    "# Часть 2: Deep Learning\n",
    "\n",
    "Для начала напомним основные понятия машинного обучения.\n",
    "\n",
    "Что такое моделирование? Это когда мы пытаемся как-то задать зависимость (функцию) между фичами ($X$) и целевой переменной ($y$). Для этого мы пользуемся какими-то предположениями о том, как должно выглядеть идеальное решение. Например, мы можем сказать «$y = f_k(x) = kx + \\epsilon$ для какого-то $k$», то есть мы можем предположить, что переменные $x$ и $y$ связаны как-то линейно, но коэффициент пропорциональности мы не знаем, и тогда он будет называться **параметром** модели. После этого мы вводим какую-то **функцию потерь** (например, $l(y') = (y'-y)^2$) и подбираем параметры модели, которые минимизируют её ожидаемое значение.\n",
    "\n",
    "\n",
    "Как подбирать эти параметры? В простых случаях, вроде линейной регрессии, они находятся аналитически: нужно взять производную, приравнять к нулю и решить систему уравнений. Но иногда эти функции намного сложнее. Как их оптимизировать?"
   ]
  },
  {
   "cell_type": "markdown",
   "metadata": {
    "colab_type": "text",
    "id": "R_xqFRnngtzo"
   },
   "source": [
    "## Добро пожаловать в мир дифференцируемых функций\n",
    "\n",
    "Автор определяет следующую «иерархию хороших функций», с точки зрения лёгкости нахождения минимума:\n",
    "\n",
    "* Аналитически решаемые — их глобальный минимум можно выразить какой-то простой формулой. Пример: линейная регрессия.\n",
    "* Выпуклые. У них гарантируется решение, причём единственное, и оно быстро ищется разными методами, в частности градиентным спуском (но обычно можно даже быстрее). Пример: логистическая регрессия.\n",
    "* Дифференцируемые. К ним можно применить градиентный спуск, и, возможно, он сойдётся не к локальному минимуму, а к глобальному. **<-- YOU ARE HERE**\n",
    "* Дискретные. Тут всё грустно, но нам хотя бы можно быстро узнать её значение.\n",
    "* Невычислимые. Иногда нам нужно оценивать что-нибудь совсем не формализуемое математикой — например, качество перевода, или поведение пользователя. Невычислимыми функциями в частности занимается Reinforcement Learning.\n",
    "\n",
    "В курсе вы будете заниматься разными способами задания моделей, состоящих только из дифференцируемых относительно параметров преобразований, что позволит искать (иногда успешно, иногда нет) набор параметров, при которых ожидание функции потерь имеет минимальное значение."
   ]
  },
  {
   "cell_type": "markdown",
   "metadata": {
    "colab_type": "text",
    "id": "7b4qO-sEgtzs"
   },
   "source": [
    "## Градиентный спуск\n",
    "\n",
    "**Градиентом** называют вектор (набор чисел), каждой компонентой которого является значение производной по очередному аргументу (при фиксированных остальных).\n",
    "\n",
    "**Ок, зачем он нужен?** Пусть у нас есть какая-нибудь функция, которую мы хотим минимизировать, и мы предполагаем, что она выглядит как что-то типа гладкой ямы. Тогда мы можем попытаться действовать так: начнем с какой-нибудь точки и будем делать много очень маленьких шажков в сторону наибольшего уменьшения функции, пока не придем в локальный минимум.\n",
    "\n",
    "* Что значит «в сторону наибольшего уменьшения»? Это значит «против градиаента».\n",
    "* Что такое «маленький шажок»? Это значит $-\\lambda \\cdot (f'_1, f'_2, \\ldots, f'_n)$. Обычно $\\lambda$ это что-то типа $10^{-3}$. Этот параметр называется learning rate (скорость обучения).\n",
    "* Что значит «пока не придём в локальный минимум». Это значит «пока градиент не ноль». На практике будем проверять, что норма (т. е. длина вектора) больше определенного очень малого $\\epsilon$.\n",
    "\n",
    "![grad_descent](images/gradient_descent.png)\n",
    "\n",
    "Если learning rate достоаточно маленький, мы точно придем хотя бы в локальный минимум. Этот метод называется **градиентным спуском**, и он очень часто применяется для оптимизации тех функций, у которых везде можно быстро посчитать градиент. Гарантированно находить глобальный минимум произвольной функции наука пока не умеет (и вряд ли когда-либо научится)."
   ]
  },
  {
   "cell_type": "markdown",
   "metadata": {
    "colab_type": "text",
    "id": "_UUjeR_lgtz0"
   },
   "source": [
    "### Стохастический градиентный спуск\n",
    "\n",
    "Нам может потребоваться много итераций, чтобы градиентный спуск сошелся. Более того, время выполнения одной итерации может быть очень большим хотя бы потому, что нам нужно каждый раз просмотреть весь датасет. Поэтому для каждого шага градиентного спуска будем использовать не точный градиент, а его оценку: выберем несколько десятков примеров — такой набор называется батчем (англ. batch — пакет, группа) — посчитаем на них градиенты и усредним. Получаем шумную, но приемлимую для нас оценку градиента. Такой вид градиентного спуска называют стохастическим (SGD — stochastic gradient descent).\n",
    "\n",
    "Почему бы не брать вообще один пример? На самом деле, с точки зрения теории — можно. Но на практике оптимальный размер батча совсем маленьким делать не стоит из-за параллелизма: на устройстах, на которых эти градиенты считаются, затратится меньше времени на пример, если данные обрабатывать не поштучно, а группами (включите GPU в Google Colab и выполните ячейки снизу).\n",
    "\n",
    "[Можно показать](https://openreview.net/pdf?id=B1Yy1BxCZ), что чтобы скомпенсировать уменьшение размера батча, нужно во столько же раз уменьшить learning rate. Иными словами, более шумные оценки градиента можно компенсировать более мелкими и аккуратными шагами."
   ]
  },
  {
   "cell_type": "markdown",
   "metadata": {
    "colab_type": "text",
    "id": "pvxOfDSMgtz3"
   },
   "source": [
    "<img width='500px' src='https://sqream.com/wp-content/uploads/2017/03/cpu_vs_gpu-11.png'>\n",
    "\n",
    "Если вы работаете локально, то зайдите на https://pytorch.org/get-started/locally/ и установите PyTorch."
   ]
  },
  {
   "cell_type": "code",
   "execution_count": 0,
   "metadata": {
    "colab": {},
    "colab_type": "code",
    "id": "jbGyCvJpgtz8"
   },
   "outputs": [],
   "source": [
    "import torch\n",
    "import numpy"
   ]
  },
  {
   "cell_type": "code",
   "execution_count": 0,
   "metadata": {
    "colab": {},
    "colab_type": "code",
    "id": "XJpsMiMhgt0L"
   },
   "outputs": [],
   "source": [
    "A = numpy.random.randn(1000, 5000)\n",
    "B = numpy.random.randn(5000, 2000)\n",
    "\n",
    "%time C = numpy.matmul(A, B)"
   ]
  },
  {
   "cell_type": "code",
   "execution_count": 0,
   "metadata": {
    "colab": {},
    "colab_type": "code",
    "id": "Ug3tDQZggt0Y"
   },
   "outputs": [],
   "source": [
    "A = torch.randn(1000, 5000)\n",
    "B = torch.randn(5000, 2000)\n",
    "\n",
    "%time C = torch.matmul(A, B)"
   ]
  },
  {
   "cell_type": "code",
   "execution_count": 0,
   "metadata": {
    "colab": {},
    "colab_type": "code",
    "id": "0osua6Eagt0f"
   },
   "outputs": [],
   "source": [
    "# если вы открыли тетрадку через Google Colab, то включите GPU\n",
    "# (сверху слева Runtime -> Change runtime type... -> GPU)\n",
    "\n",
    "A = torch.randn(1000, 5000).cuda()\n",
    "B = torch.randn(5000, 2000).cuda()\n",
    "\n",
    "%time C = torch.matmul(A, B)"
   ]
  },
  {
   "cell_type": "markdown",
   "metadata": {
    "colab_type": "text",
    "id": "3Dv9XZeXgt0o"
   },
   "source": [
    "### Эвристики\n",
    "\n",
    "В сложных моделях — например, нейросетях — поверхности оптимизируемых функций обычно выглядят весьма страшно:\n",
    "\n",
    "<img width='250px' src='https://ml4a.github.io/images/figures/non_convex_function.png'>\n",
    "\n",
    "«Плохих» точек в процессе оптимизации на самом деле существует два типа: где градиент нулевой и где градиент бесконечный.\n",
    "\n",
    "**Моментум**. Что делать, если мы попали в какую-то точку, где градиента практически нет? Будем шагать каждый раз не в сторону градиента в данной точке, а в сторону *экспоненциально усреднённого* градиента по всем предыдущим итерациям (градиенты с последних итераций будут иметь больший вес). Для этого вводится специальный гиперпараметр $0 < \\gamma < 1$, а рядом с каждым параметром хранится усреднённое среднее его градиентов, которое обновляется по следующей формуле:\n",
    "\n",
    "$$ \\hat{g}_i = \\hat{g}_{i-1} \\cdot \\gamma + g_i $$\n",
    "\n",
    "<img width='250px' src='https://upload.wikimedia.org/wikipedia/commons/thumb/1/1e/Saddle_point.svg/300px-Saddle_point.svg.png'>\n",
    "\n",
    "**RMSProp**. Что делать, если мы на «обрыве»? Будем поддерживать таким же образом усреднённые *квадраты* градиентов, и при обновлении параметров нормировать градиент, деля его на корень из этой оценки. Так оптимизатор будет адаптироваться под «турбулентные» регионы, уменьшая в них размер шага и не давая параметрам улететь куда-то далего из-за обрывов.\n",
    "\n",
    "<img width='250px' src='https://3.bp.blogspot.com/-fJQ8OM1dHl4/WV363VZZVqI/AAAAAAAAFSk/0e0EuS3WZ9gv5jW93cuF-XjU2FAN42VMQCLcBGAs/s1600/gradient_clipping.png'>\n",
    "\n",
    "Алгоритм, объединяющий эти две эвристики, называется **Adam**. Он является одним из самых часто используемых оптимизаторов в глубоком обучении.\n",
    "\n",
    "Подробнее прочитать про эвристики в градиентном спуске можно тут: http://ruder.io/optimizing-gradient-descent/"
   ]
  },
  {
   "cell_type": "markdown",
   "metadata": {
    "colab_type": "text",
    "id": "pFbbEZfTgt0u"
   },
   "source": [
    "----"
   ]
  },
  {
   "cell_type": "markdown",
   "metadata": {
    "colab_type": "text",
    "id": "jXRJVMFGgt00"
   },
   "source": [
    "## Практическая часть: фреймворки\n",
    "\n",
    "Чтобы оптимизировать функцию потерь относительно параметров градиентным спуском, нужно для начала этот градиент хотя бы посчитать. Как вы убедитесь на 3-м занятии, это больно делать вручную. Для этого существуют фреймворки, которые сами посчитают производные за нас. Помимо своей основной функции (поддержка эффективного автоматического дифференцирования и оптимизаторов), они также включают полезные абстракции для машинного обучения.\n",
    "\n",
    "Фреймворков много, и становится ещё больше. Мы будем использовать **PyTorch**. Вам он будет очень напоминать numpy — по сути он может делать всё то же, только ещё и считать градиенты относительно параметров."
   ]
  },
  {
   "cell_type": "markdown",
   "metadata": {
    "colab_type": "text",
    "id": "duBkhVeXgt04"
   },
   "source": [
    "PyTorch можно использовать как замену numpy:"
   ]
  },
  {
   "cell_type": "code",
   "execution_count": 7,
   "metadata": {
    "colab": {},
    "colab_type": "code",
    "id": "-j66C1kagt06"
   },
   "outputs": [
    {
     "name": "stdout",
     "output_type": "stream",
     "text": [
      "tensor([5., 7., 9.])\n"
     ]
    }
   ],
   "source": [
    "import torch as th\n",
    "x = torch.tensor([1., 2., 3.])\n",
    "y = torch.tensor([4., 5., 6.])\n",
    "z = x + y\n",
    "\n",
    "print(z)"
   ]
  },
  {
   "cell_type": "code",
   "execution_count": 8,
   "metadata": {
    "colab": {},
    "colab_type": "code",
    "id": "M7s7_wdVgt1G"
   },
   "outputs": [
    {
     "name": "stdout",
     "output_type": "stream",
     "text": [
      "tensor(32., grad_fn=<DotBackward>)\n"
     ]
    }
   ],
   "source": [
    "# при создании переменных можно поставить флаг requires_grad\n",
    "x = torch.tensor([1., 2., 3], requires_grad=True)\n",
    "\n",
    "# с этим флагом мы можем делать те же операции, что и раньше\n",
    "y = torch.tensor([4., 5., 6], requires_grad=True)\n",
    "z = torch.dot(x, y)\n",
    "print(z)"
   ]
  },
  {
   "cell_type": "markdown",
   "metadata": {
    "colab_type": "text",
    "id": "JW1aPs4Lgt1P"
   },
   "source": [
    "...но теперь z кое-что знает о себе:"
   ]
  },
  {
   "cell_type": "code",
   "execution_count": 9,
   "metadata": {
    "colab": {},
    "colab_type": "code",
    "id": "cUqQnpzmgt1V",
    "scrolled": true
   },
   "outputs": [
    {
     "name": "stdout",
     "output_type": "stream",
     "text": [
      "<DotBackward object at 0x000002A7624B9780>\n"
     ]
    }
   ],
   "source": [
    "print(z.grad_fn)"
   ]
  },
  {
   "cell_type": "markdown",
   "metadata": {
    "colab_type": "text",
    "id": "lZ83fzXZgt1i"
   },
   "source": [
    "`z` — скаляр, и мы можем продиффиренцировать весь граф относительно него:"
   ]
  },
  {
   "cell_type": "code",
   "execution_count": 10,
   "metadata": {
    "colab": {},
    "colab_type": "code",
    "id": "ELxu2tYwgt1l"
   },
   "outputs": [],
   "source": [
    "z.backward()"
   ]
  },
  {
   "cell_type": "markdown",
   "metadata": {
    "colab_type": "text",
    "id": "vIbZpuL9gt1x"
   },
   "source": [
    "И теперь рядом со всеми переменными с requires_grad=True, которые как-либо использовались при получении z, теперь будут их градиенты."
   ]
  },
  {
   "cell_type": "code",
   "execution_count": 11,
   "metadata": {
    "colab": {},
    "colab_type": "code",
    "id": "pEiN8IDigt10"
   },
   "outputs": [
    {
     "name": "stdout",
     "output_type": "stream",
     "text": [
      "tensor([4., 5., 6.])\n",
      "tensor([1., 2., 3.])\n"
     ]
    }
   ],
   "source": [
    "print(x.grad)\n",
    "print(y.grad)"
   ]
  },
  {
   "cell_type": "markdown",
   "metadata": {
    "colab_type": "text",
    "id": "laIfejGvgt17"
   },
   "source": [
    "Мы сможем потом использовать эти градиенты, чтобы оптимально подвинуть параметры в градиентном спуске."
   ]
  },
  {
   "cell_type": "markdown",
   "metadata": {
    "colab_type": "text",
    "id": "QELCcRPfgt2A"
   },
   "source": [
    "## MNIST\n",
    "\n",
    "Это всё было абстрактно. Рассмотрим более конкретный пример.\n",
    "\n",
    "Датасет MNIST включает в себя 70000 черно-белых изображений цифр от 0 до 9, каждое 28 на 28 пиксилей. Задача — предсказать по изображению наиболее вероятную цифру, соответствующую изображению.\n",
    "\n",
    "<img width='400px' src='https://camo.githubusercontent.com/24545a9ca1aa3b5d1036bd3deaed3ed7ec6cfdc4/68747470733a2f2f692e696d6775722e636f6d2f4954726d3978342e706e67'>\n",
    "\n",
    "**Нейронная сеть** — это просто какая-то последовательность дифференцируемых операций со входными данными. Обычно эти массовые операции над векторами называют **слоями**. Самый простой пример — матричное умножение, за которым следует операция `softmax`:\n",
    "\n",
    "$$ \\sigma(x)_k = \\frac{e^{x_k}}{\\sum_i e^{x_i}} $$\n",
    "\n",
    "Она возвращает вероятностное распределение: нетрудно убедиться, что каждый элемент неотрицателен, и все $\\sigma_i$ суммируются в единицу. Если кто помнит, мы только что описали логистическую регрессию, которая тоже в каком-то смысле является очень простой нейросетью.\n",
    "\n",
    "Обучим какую-нибудь нейросеть, которая принимает вектора размера $784 = 28^2$ и возвращает вероятностное распределение. **ВАЖНО** из-за вычислительных причин мы почти всегда будем обрабатывать данные по батчам, и поэтому размерности входных и промежуточных данных всегда будут вида (batch_size x dim)."
   ]
  },
  {
   "cell_type": "code",
   "execution_count": 21,
   "metadata": {
    "colab": {},
    "colab_type": "code",
    "id": "2p22KAlhgt2F"
   },
   "outputs": [],
   "source": [
    "import torch\n",
    "import torch.nn as nn\n",
    "import torch.nn.functional as F\n",
    "from torchvision import datasets, transforms\n",
    "\n",
    "import matplotlib.pyplot as plt\n",
    "%matplotlib inline"
   ]
  },
  {
   "cell_type": "code",
   "execution_count": 13,
   "metadata": {
    "colab": {},
    "colab_type": "code",
    "id": "p_ZGAY-agt2M"
   },
   "outputs": [
    {
     "name": "stdout",
     "output_type": "stream",
     "text": [
      "Downloading http://yann.lecun.com/exdb/mnist/train-images-idx3-ubyte.gz\n",
      "Downloading http://yann.lecun.com/exdb/mnist/train-labels-idx1-ubyte.gz\n",
      "Downloading http://yann.lecun.com/exdb/mnist/t10k-images-idx3-ubyte.gz\n",
      "Downloading http://yann.lecun.com/exdb/mnist/t10k-labels-idx1-ubyte.gz\n",
      "Processing...\n",
      "Done!\n"
     ]
    }
   ],
   "source": [
    "def get_loader(train, batch_size):\n",
    "    '''Cкачает мнист и сохранит где-то рядом.'''\n",
    "    \n",
    "    # Dataset в PyTorch -- это какой-то объект, который оборачивает сырые данные и делает с ними какой-нибудь препроцессинг\n",
    "    dataset = datasets.MNIST('mnist', train=train, download=True,\n",
    "        transform=transforms.ToTensor())\n",
    "    \n",
    "    # DataLoader делает из датасета генератор, который возвращает данные, сгруппированные по батчам\n",
    "    loader = torch.utils.data.DataLoader(dataset, batch_size=batch_size, shuffle=True)\n",
    "    \n",
    "    return loader\n",
    "    \n",
    "train = get_loader(True, 64)\n",
    "val = get_loader(False, 64)"
   ]
  },
  {
   "cell_type": "markdown",
   "metadata": {
    "colab_type": "text",
    "id": "5f2jBJYWgt2R"
   },
   "source": [
    "Вам для первого занятия не нужно деталь знать, как устроены Dataset-ы и DataLoader-ы, но в будущем будет полезным прочитать туториал с pytorch.org: https://pytorch.org/tutorials/beginner/data_loading_tutorial.html"
   ]
  },
  {
   "cell_type": "markdown",
   "metadata": {
    "colab_type": "text",
    "id": "5Sb5V1Jqgt2T"
   },
   "source": [
    "В качестве функции потерь выберем кроссэнтропию — так же, как и в логистической регрессии. В PyTorch есть функция, которая принимает логарифмы вероятностей и правильные ответы и возвращает кроссэнтропию — `nn.NLLLoss` (negative log likelihood loss). Из-за вычислительных причин (в основном, проблем с точностью), мы почти всегда будем работать с логарифмами вероятностей, а не с самими вероятностями. Чтобы сеть их выдавала, нужно последним слоем добавить слой `nn.LogSoftmax`."
   ]
  },
  {
   "cell_type": "code",
   "execution_count": 31,
   "metadata": {
    "colab": {},
    "colab_type": "code",
    "id": "B8rzlpk_gt2c"
   },
   "outputs": [
    {
     "data": {
      "text/plain": [
       "Sequential(\n",
       "  (0): Linear(in_features=10, out_features=10, bias=True)\n",
       "  (1): LogSoftmax()\n",
       ")"
      ]
     },
     "execution_count": 31,
     "metadata": {},
     "output_type": "execute_result"
    }
   ],
   "source": [
    "model = nn.Sequential(\n",
    "    # какие-нибудь nn.Linear и нелинейности\n",
    "    # ...\n",
    "    nn.Linear(10,10),\n",
    "    nn.LogSoftmax(dim=1)\n",
    "\n",
    ")\n",
    "model"
   ]
  },
  {
   "cell_type": "markdown",
   "metadata": {
    "colab_type": "text",
    "id": "z6Lwuj5Tgt2m"
   },
   "source": [
    "Кроссэнтропия не очень информативна — она меряется в каких-то попугаях, а не в понятных единицах. Нас скорее интересует абсолютная точность классификации:"
   ]
  },
  {
   "cell_type": "code",
   "execution_count": 32,
   "metadata": {
    "colab": {},
    "colab_type": "code",
    "id": "QZFMOkKHgt2r"
   },
   "outputs": [],
   "source": [
    "def accuracy(model, val):\n",
    "    total = 0\n",
    "    correct = 0\n",
    "    for X, y in val:\n",
    "        X = X.view(-1, 784)\n",
    "        res = model(X)\n",
    "        res = res.argmax(dim=1)\n",
    "        total += res.shape[0]\n",
    "        correct += (res == y).sum().item()\n",
    "    return correct / total"
   ]
  },
  {
   "cell_type": "code",
   "execution_count": 33,
   "metadata": {
    "colab": {},
    "colab_type": "code",
    "id": "PqGkTdomgt2w"
   },
   "outputs": [],
   "source": [
    "optimizer = torch.optim.Adam(model.parameters(), lr=1e-2)\n",
    "criterion = nn.NLLLoss()\n",
    "# ^ попробуйте какой-нибудь другой и сравните, если ещё не уверовали в кроссэнтропию"
   ]
  },
  {
   "cell_type": "code",
   "execution_count": 0,
   "metadata": {
    "colab": {},
    "colab_type": "code",
    "id": "WOoCgmz4gt22"
   },
   "outputs": [],
   "source": [
    "train_losses = []\n",
    "for epoch in range(20):\n",
    "    for X, y in train:\n",
    "        X = X.view(-1, 784)  # разгладим картинку в вектор\n",
    "        \n",
    "        optimizer.zero_grad()\n",
    "        \n",
    "        output = model(X)\n",
    "        loss = criterion(output, y)\n",
    "        loss.backward()\n",
    "        \n",
    "        train_losses.append(loss.item())\n",
    "        # как думаете, зачем нужен .item()?\n",
    "        # подсказка: лосс хранит информацию о своей истории\n",
    "        # попробуйте убрать .item() и посмотреть на расход памяти\n",
    "        \n",
    "        optimizer.step()\n",
    "    \n",
    "    print(accuracy(model, train), accuracy(model, val))\n",
    "        \n",
    "    plt.plot(train_losses)\n",
    "    plt.show()"
   ]
  },
  {
   "cell_type": "markdown",
   "metadata": {
    "colab_type": "text",
    "id": "jukZHqWOgt3L"
   },
   "source": [
    "### Регуляризация\n",
    "\n",
    "Вы можете заметить, что с какого-то момента функция потерь на `val` перестаёт падать (а потом и начинает расти), при этом лосс на `train` стабильно убывает. Это связано с переобучением. Если сеть достаточно большая, то нейроны смогут адаптироваться для получения меньшего лосса на отдельном примере, что не очень хорошо обобщается под данные, которые модель ещё не видела. Например сеть может выучить правило «если этот пиксель имеет такое-то значение, то это шестёрка», в структуре сети это будет выражаться очень сильной связью между нейронами. Для этого в нейросетях используют методы регуляризации на веса сети или на процесс обучения.\n",
    "\n",
    "Самый популярный из них на данный момент — Dropout (в PyTorch — `nn.Dropout`). Это отдельный слой, который во время обучения с вероятностью $p$ независимо по всем элементам зануляет их значения. Это мешает нейронам адаптироваться.\n",
    "\n",
    "<img width='600px' src='https://cdn-images-1.medium.com/max/1200/1*iWQzxhVlvadk6VAJjsgXgg.png'>"
   ]
  },
  {
   "cell_type": "markdown",
   "metadata": {
    "colab_type": "text",
    "id": "0_WNYxxwgt3O"
   },
   "source": [
    "## Автоэнкодеры\n",
    "\n",
    "**Автоэнкодеры** — это сети, которые учатся восстанавливать свои же входные данные. Такой тип обучения иногда называют self-supervised.\n",
    "\n",
    "\n",
    "<img width='400px' src='https://habrastorage.org/web/cf6/228/613/cf6228613fdc4f8fb819cbd41bb677eb.png'>\n",
    "\n",
    "Казалось бы, выучить функцию $f(x) = x$ очень легко, но в автоэнкодеры устроены так, что внутри них вся информация в какой-то момент проходит через скрытый слой небольшой размерности, и поэтому автоэнкодеры просто не имеют возможности идеально точно скопировать свой вход на выходе.\n",
    "\n",
    "Поэтому сети приходится выучивать в этом крытом очень сжатое и информативное представление данных, что потом можно будет использовать для разных интересных вещей.\n",
    "\n",
    "Например, для визуализации: можно сделать скрытый слой размера 2 и вывести данные на плоскость.\n",
    "\n",
    "<img width='800px' src='https://i.stack.imgur.com/2gSs1.png'>\n",
    "\n",
    "Повсеместно используемый PCA на самом деле является частным случаем автоэнкодера: из преобразований разрешается использовать только линейные.\n",
    "\n",
    "Мы также можем использовать скрытые состояния для морфинга — плавного перехода между объектами.\n",
    "\n",
    "<img width='250px' src='https://camo.githubusercontent.com/fa61cfca07320919eb6430a2a06f98d3e68e29c1/68747470733a2f2f692e696d6775722e636f6d2f4f72554a7339562e676966'>\n",
    "\n",
    "Обозначим уже обученный на данных энкодер как функцию $e$, а декодер как функцию $g$. Тогда морфинг между изображениями $A$ и $B$ мы можем сделать так: переведем изображения A и B в скрытые состояния $a = e(A)$ и $b = e(B)$, а затем каждый кадр генерируется как\n",
    "\n",
    "$$ C = d((1-t) \\cdot a + t \\cdot b) $$\n",
    "\n",
    "где $t$ равномерно изменяется от 0 до 1. Иными словами, мы берём все точки на отрезке ab и последовательно декодируем.\n",
    "\n",
    "Это вам и предстоит реализовать."
   ]
  },
  {
   "cell_type": "code",
   "execution_count": 39,
   "metadata": {
    "colab": {},
    "colab_type": "code",
    "id": "N-mChW8lgt3S"
   },
   "outputs": [],
   "source": [
    "class Autoencoder(nn.Module):\n",
    "    def __init__(self):\n",
    "        super().__init__()\n",
    "        \n",
    "        self.encode = nn.Sequential(\n",
    "            # ..\n",
    "            nn.Linear(784 ,300),\n",
    "            nn.Linear(300 ,64)\n",
    "        )\n",
    "        \n",
    "        self.decode = nn.Sequential(\n",
    "            # ...\n",
    "            nn.Sigmoid(),\n",
    "            nn.Linear(64 ,784)\n",
    "            # картинки -- это тензоры со значениями от 0 до 1\n",
    "            # нет особого смысла выводить что-то не из этого промежутка\n",
    "        )\n",
    "    \n",
    "    def forward(self, x):\n",
    "        return self.decode(self.encode(x))\n",
    "\n",
    "model = Autoencoder()\n",
    "criterion = torch.nn.MSELoss()\n",
    "#                    ^ попробуйте также другие меры разности (например, абсолютную ошибку)\n",
    "optimizer = torch.optim.Adam(model.parameters())"
   ]
  },
  {
   "cell_type": "code",
   "execution_count": 40,
   "metadata": {
    "colab": {},
    "colab_type": "code",
    "id": "x13DhdJkgt3g"
   },
   "outputs": [
    {
     "name": "stdout",
     "output_type": "stream",
     "text": [
      "epoch 0, loss 0.0372\n",
      "epoch 1, loss 0.0165\n",
      "epoch 2, loss 0.0112\n",
      "epoch 3, loss 0.0086\n",
      "epoch 4, loss 0.0070\n",
      "epoch 5, loss 0.0059\n",
      "epoch 6, loss 0.0051\n",
      "epoch 7, loss 0.0045\n",
      "epoch 8, loss 0.0040\n",
      "epoch 9, loss 0.0036\n"
     ]
    }
   ],
   "source": [
    "for epoch in range(10):\n",
    "    train_loss = 0\n",
    "    for data, _ in train:\n",
    "        #     ^ лэйблы нам не нужны\n",
    "        data = data.view(-1, 784)\n",
    "        \n",
    "        optimizer.zero_grad()\n",
    "        \n",
    "        reconstructed = model(data)\n",
    "        loss = criterion(data, reconstructed)\n",
    "        \n",
    "        loss.backward()\n",
    "\n",
    "        train_loss += loss.item()\n",
    "        optimizer.step()\n",
    "\n",
    "    print('epoch %d, loss %.4f' % (epoch, train_loss / len(train)))"
   ]
  },
  {
   "cell_type": "markdown",
   "metadata": {
    "colab_type": "text",
    "id": "1udd8QNLgt3n"
   },
   "source": [
    "Теперь попытаемся сделать гифку, как выше.\n",
    "\n",
    "Анимации `matplotlib` — это жесть, не надо особо пытаться разобраться в коде снизу. Возможно, вам придётся пройти квест и поставить `ffmpeg` (`apt instal ffmpeg`, `pip install ffmpeg` и перезапуска тетрадки должно хватить в большинстве случаев)."
   ]
  },
  {
   "cell_type": "code",
   "execution_count": 0,
   "metadata": {
    "colab": {},
    "colab_type": "code",
    "id": "_4pYRQAXgt3q"
   },
   "outputs": [],
   "source": [
    "from matplotlib import animation\n",
    "from matplotlib.animation import FuncAnimation\n",
    "from IPython.display import HTML, display"
   ]
  },
  {
   "cell_type": "code",
   "execution_count": 0,
   "metadata": {
    "colab": {},
    "colab_type": "code",
    "id": "vmUZjBtGgt4C"
   },
   "outputs": [],
   "source": [
    "def get(x):\n",
    "    return train.dataset[x][0].view(1, 784)\n",
    "\n",
    "def imshow(img):\n",
    "    pic = img.numpy().astype('float')\n",
    "    plt.axis('off')\n",
    "    return plt.imshow(pic, cmap='Greys', animated=True)\n",
    "\n",
    "def morph(inputs, steps, delay):\n",
    "    # перегоняем в латентное пространство все картинки на входе\n",
    "    latent = [model.encode(get(k)).data for k in inputs]\n",
    "    fig = plt.figure()\n",
    "    images = []\n",
    "    for a, b in zip(latent, latent[1:] + [latent[0]]):\n",
    "        for t in numpy.linspace(0, 1, steps):\n",
    "            # получаем проинтерполированную точку\n",
    "            c = a*(1-t)+b*t\n",
    "            # ...и декодируем её в изображение\n",
    "            morphed = model.decode(c).data\n",
    "            morphed = morphed.view(28, 28)\n",
    "            images.append([imshow(morphed)])\n",
    "    \n",
    "    ani = animation.ArtistAnimation(fig, images, interval=delay)\n",
    "\n",
    "    display(HTML(ani.to_html5_video()))"
   ]
  },
  {
   "cell_type": "code",
   "execution_count": 0,
   "metadata": {
    "colab": {},
    "colab_type": "code",
    "id": "O14CBxywgt4W"
   },
   "outputs": [],
   "source": [
    "morph(numpy.random.randint(0, len(train.dataset), 30), 20, 30)"
   ]
  },
  {
   "cell_type": "markdown",
   "metadata": {
    "colab_type": "text",
    "id": "6a8RE3DDgt4f"
   },
   "source": [
    "# Домашнее задание\n",
    "\n",
    "* Получить точность 97% на валидации MNIST.\n",
    "* Реализовать морфинг автоэнкодером (получите красивую гифку).\n",
    "* Визуализировать MNIST автоэнкодером (просто обучить автоэнкодер с латентным пространством размерности 2 и вывести через scatter точки разного цвета)."
   ]
  },
  {
   "cell_type": "markdown",
   "metadata": {
    "colab_type": "text",
    "id": "wZ85MypBgt4n"
   },
   "source": [
    "### *Свёртки\n",
    "\n",
    "Если у вас останется время, вы можете улучшить результаты, используя свёртки.\n",
    "\n",
    "О свёрточных сетях в деталях вы узнаете на следующем занятии, а пока что вы можете использовать `nn.Conv2d`, `nn.MaxPool2d`, и `nn.ConvTranspose2d` просто как более продвинутые слои для классификатора и автоэнкодера, даже не особо понимая, как они внутри работают.\n",
    "\n",
    "Основная задача «нейроинженеров» — придумать, как выглядело бы решение этой задачи на уровне программы с неизвестными параметрами, и подбирать соответствующие архитектуры. [Эксперименты с дропаутом](https://arxiv.org/pdf/1701.05369.pdf) показывают, что в Linear примерно 99% весов на самом деле можно выкинуть. Логично, что в оптимальной архитектуре не должно быть бесполезных весов — лишние параметры всегда ведут к переобучению. В случае с картинками решение в том, чтобы использовать информацию о расположении пикселей относительно друг друга, чтобы создать слой, который смотрит на более релевантные фичи. Мотивация заключается примерно в этом, подробнее — через неделю.\n",
    "\n",
    "<img width='250px' src='https://cdn-images-1.medium.com/max/1600/0*iqNdZWyNeCr5tCkc.'>"
   ]
  }
 ],
 "metadata": {
  "colab": {
   "collapsed_sections": [],
   "name": "dl_intro.ipynb",
   "provenance": [],
   "toc_visible": true,
   "version": "0.3.2"
  },
  "kernelspec": {
   "display_name": "Python 3",
   "language": "python",
   "name": "python3"
  },
  "language_info": {
   "codemirror_mode": {
    "name": "ipython",
    "version": 3
   },
   "file_extension": ".py",
   "mimetype": "text/x-python",
   "name": "python",
   "nbconvert_exporter": "python",
   "pygments_lexer": "ipython3",
   "version": "3.7.0"
  }
 },
 "nbformat": 4,
 "nbformat_minor": 1
}
