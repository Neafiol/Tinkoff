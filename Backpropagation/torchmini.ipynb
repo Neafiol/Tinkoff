{
 "cells": [
  {
   "cell_type": "code",
   "execution_count": 1,
   "metadata": {},
   "outputs": [],
   "source": [
    "import numpy as np"
   ]
  },
  {
   "cell_type": "code",
   "execution_count": 2,
   "metadata": {},
   "outputs": [],
   "source": [
    "class Module():\n",
    "    def __init__(self):\n",
    "        self._train = True\n",
    "    \n",
    "    def forward(self, input):\n",
    "        raise NotImplementedError\n",
    "\n",
    "    def backward(self,input, grad_output):\n",
    "        raise NotImplementedError\n",
    "    \n",
    "    def parameters(self):\n",
    "        'Возвращает список собственных параметров.'\n",
    "        return []\n",
    "    \n",
    "    def grad_parameters(self):\n",
    "        'Возвращает список тензоров-градиентов для своих параметров.'\n",
    "        return []\n",
    "    \n",
    "    def train(self):\n",
    "        self._train = True\n",
    "    \n",
    "    def eval(self):\n",
    "        self._train = False"
   ]
  },
  {
   "cell_type": "code",
   "execution_count": 3,
   "metadata": {},
   "outputs": [],
   "source": [
    "class Sequential(Module):\n",
    "    def __init__ (self, *layers):\n",
    "        super().__init__()\n",
    "        self.layers = layers\n",
    "\n",
    "    def forward(self, input):\n",
    "        res = input\n",
    "        for layer in self.layers:\n",
    "            res = layer.forward(res)\n",
    "        self.output =res\n",
    "        return res\n",
    "        \"\"\"\n",
    "        Прогоните данные последовательно по всем слоям:\n",
    "        \n",
    "            y[0] = layers[0].forward(input)\n",
    "            y[1] = layers[1].forward(y_0)\n",
    "            ...\n",
    "            output = module[n-1].forward(y[n-2])   \n",
    "            \n",
    "        Это должен быть просто небольшой цикл: for layer in layers...\n",
    "        \n",
    "        Хранить выводы ещё раз не надо: они сохраняются внутри слоев после forward.\n",
    "        \"\"\"\n",
    "\n",
    "    def backward(self, input, grad_output):\n",
    "        g=grad_output\n",
    "        for i in range(len(self.layers)-1,0,-1):\n",
    "            g=self.layers[i].backward(self.layers[i-1].output, g)#???\n",
    "            \n",
    "        grad_input = self.layers[0].backward(input, g)\n",
    "            \n",
    "        \"\"\"\n",
    "        Backward -- это как forward, только наоборот. (с)\n",
    "        \n",
    "        Предназначение backward:\n",
    "        1. посчитать посчитать градиенты для собственных параметров\n",
    "        2. передать градиент относительно своего входа\n",
    "        \n",
    "        О своих параметрах модули сами позаботятся. Нам же нужно позаботиться о передачи градиента.\n",
    "         \n",
    "            g[n-1] = layers[n-1].backward(y[n-2], grad_output)\n",
    "            g[n-2] = layers[n-2].backward(y[n-3], g[n-1])\n",
    "            ...\n",
    "            g[1] = layers[1].backward(y[0], g[2])   \n",
    "            grad_input = layers[0].backward(input, g[1])\n",
    "        \n",
    "        Тут цикл будет уже чуть посложнее.\n",
    "        \"\"\"\n",
    "        \n",
    "        return grad_input\n",
    "      \n",
    "    def parameters(self):\n",
    "        'Можно просто сконкатенировать все параметры в один список.'\n",
    "        return np.array([l.parameters() for l in self.layers])\n",
    "    \n",
    "    def grad_parameters(self):\n",
    "        'Можно просто сконкатенировать все градиенты в один список.'\n",
    "        return np.array([l.grad_parameters() for l in self.layers])\n",
    "    \n",
    "    def train(self):\n",
    "        for layer in layers:\n",
    "            layer.train()\n",
    "    \n",
    "    def eval(self):\n",
    "        for layer in self.layers:\n",
    "            print( layer.eval() )\n",
    "            "
   ]
  },
  {
   "cell_type": "code",
   "execution_count": 4,
   "metadata": {},
   "outputs": [],
   "source": [
    "class Linear(Module):\n",
    "    def __init__(self, dim_in, dim_out):\n",
    "        super().__init__()\n",
    "       \n",
    "        # на самом деле, очень важно, как оно инициализируется\n",
    "        # если поставить всё нулями, то оно будет сходиться очень долго\n",
    "        # но подробнее об этом -- в другой раз\n",
    "#         stdv = 1./np.sqrt(dim_in)\n",
    "        self.W = np.random.uniform(-1, 1, size=(dim_in, dim_out))\n",
    "        self.b = np.random.uniform(-1, 1, size=dim_out)\n",
    "        \n",
    "    def forward(self, input):\n",
    "        #Y=w*X+b\n",
    "        self.output = np.dot(input, self.W) + self.b\n",
    "        return self.output\n",
    "    \n",
    "    def backward(self, input, grad_output):\n",
    "\n",
    "        self.grad_b = np.mean(grad_output, axis=0)\n",
    "        self.grad_W = np.dot(input.T, grad_output)\n",
    "        try:\n",
    "            grad_input = np.dot(grad_output, self.W.T)\n",
    "        except Exception as e:\n",
    "            print(grad_output)\n",
    "            raise e\n",
    "        return grad_input\n",
    "        \n",
    "    def parameters(self):\n",
    "        return [self.W, self.b]\n",
    "    \n",
    "    def grad_parameters(self):\n",
    "        return [self.grad_W, self.grad_b]"
   ]
  },
  {
   "cell_type": "code",
   "execution_count": 340,
   "metadata": {},
   "outputs": [],
   "source": [
    "import math\n",
    "class Sigmoid(Module):\n",
    "    def __init__(self, slope=0.03):\n",
    "        super().__init__()\n",
    "\n",
    "    def forward(self, input):\n",
    "        print(input.shape)\n",
    "        self.output = 1/(1+2.718**(-1*input))\n",
    "        return self.output\n",
    "    \n",
    "    def backward(self, input, grad_output):\n",
    "\n",
    "        grad_input = (1/(1+2.718**(-1*grad_output)))*(1-1/(1+2.718**(-1*grad_output)))\n",
    "\n",
    "            \n",
    "        return grad_input"
   ]
  },
  {
   "cell_type": "code",
   "execution_count": 341,
   "metadata": {},
   "outputs": [],
   "source": [
    "class ReLU(Module):\n",
    "    def __init__(self):\n",
    "         super().__init__()\n",
    "    \n",
    "    def forward(self, input):\n",
    "        self.output = np.maximum(input, 0)\n",
    "        return self.output\n",
    "    \n",
    "    def backward(self, input, grad_output):\n",
    "        grad_input = np.multiply(grad_output, input > 0)\n",
    "        return grad_input"
   ]
  },
  {
   "cell_type": "markdown",
   "metadata": {},
   "source": [
    "#### Metric"
   ]
  },
  {
   "cell_type": "code",
   "execution_count": 342,
   "metadata": {},
   "outputs": [],
   "source": [
    "class Criterion():        \n",
    "    def forward(self, input, target):\n",
    "        raise NotImplementedError\n",
    "\n",
    "    def backward(self, input, target):\n",
    "        raise NotImplementedError"
   ]
  },
  {
   "cell_type": "code",
   "execution_count": 343,
   "metadata": {},
   "outputs": [],
   "source": [
    "class MSE(Criterion):\n",
    "    def forward(self, input, target):\n",
    "        batch_size = input.shape[0]\n",
    "        self.output = np.sum((input - target)**2) / batch_size\n",
    "        return self.output\n",
    " \n",
    "    def backward(self, input, target):\n",
    "        self.grad_output  = (input - target.reshape(input.shape)) * 2 / input.shape[0]\n",
    "        return self.grad_output"
   ]
  },
  {
   "cell_type": "code",
   "execution_count": 344,
   "metadata": {},
   "outputs": [],
   "source": [
    "def SGD(model, lr=1e-3,mv=1):    \n",
    "    for i in range(len(model.parameters() ) ):\n",
    "        if(len(model.parameters()[i])==0):\n",
    "            continue\n",
    "        n0 , n1=(lr * model.grad_parameters()[i][0]) ,(lr * model.grad_parameters()[i][1])\n",
    "#         n0[n0<-mv] = -mv\n",
    "#         n1[n1<-mv] = -mv\n",
    "#         n0[n0>mv] = mv\n",
    "#         n1[n1>mv] = mv\n",
    "        model.parameters()[i][0] -= n0#W\n",
    "        model.parameters()[i][1] -= n1#b "
   ]
  },
  {
   "cell_type": "markdown",
   "metadata": {},
   "source": [
    "NN"
   ]
  },
  {
   "cell_type": "code",
   "execution_count": 345,
   "metadata": {},
   "outputs": [],
   "source": [
    "def loader(X, Y, batch_size):    \n",
    "    n = X.shape[0]\n",
    "\n",
    "    # в начале каждой эпохи будем всё перемешивать\n",
    "    # важно, что мы пермешиваем индексы, а не X\n",
    "    indices = np.arange(n)\n",
    "    np.random.shuffle(indices)\n",
    "    \n",
    "    for start in range(0, n, batch_size):\n",
    "        # в конце нам, возможно, нужно взять неполный батч\n",
    "        end = min(start + batch_size, n)\n",
    "        \n",
    "        batch_idx = indices[start:end]\n",
    "    \n",
    "        yield X[batch_idx], Y[batch_idx]"
   ]
  },
  {
   "cell_type": "code",
   "execution_count": 346,
   "metadata": {},
   "outputs": [],
   "source": [
    "import pandas as pd"
   ]
  },
  {
   "cell_type": "code",
   "execution_count": 347,
   "metadata": {},
   "outputs": [],
   "source": [
    "mnist=pd.read_csv('mnist_test.csv')"
   ]
  },
  {
   "cell_type": "code",
   "execution_count": 348,
   "metadata": {},
   "outputs": [],
   "source": [
    "Y=mnist.label\n",
    "X=mnist.drop(['label'],axis=1)\n",
    "X=X.values\n",
    "Y=Y.values\n",
    "X=X/255\n",
    "# Y=Y/10\n",
    "Y=Y.reshape(Y.shape[0],1)"
   ]
  },
  {
   "cell_type": "code",
   "execution_count": 358,
   "metadata": {},
   "outputs": [],
   "source": [
    "def makear(a):\n",
    "    m=np.zeros(10)\n",
    "    m[a]=1\n",
    "    return m\n",
    "    \n",
    "Y=np.apply_along_axis( lambda x: makear(x[0]), 1, Y)"
   ]
  },
  {
   "cell_type": "code",
   "execution_count": 359,
   "metadata": {},
   "outputs": [],
   "source": [
    "model = Sequential(\n",
    "    Linear(784, 256),\n",
    "    ReLU(),\n",
    "#     Linear(256, 256),\n",
    "#     ReLU(),\n",
    "#     Linear(256, 128),\n",
    "#     ReLU(),\n",
    "    Linear(256, 64),\n",
    "    ReLU(),\n",
    "    Linear(64, 10),\n",
    "    Sigmoid()\n",
    "#     Linear(2, 12),\n",
    "#     Linear(2, 12),\n",
    "\n",
    ")\n",
    "\n",
    "criterion = MSE()"
   ]
  },
  {
   "cell_type": "code",
   "execution_count": 360,
   "metadata": {},
   "outputs": [],
   "source": [
    "x1,y1 = X[:3],Y[:3]"
   ]
  },
  {
   "cell_type": "code",
   "execution_count": 368,
   "metadata": {},
   "outputs": [
    {
     "name": "stdout",
     "output_type": "stream",
     "text": [
      "(3, 10)\n"
     ]
    },
    {
     "name": "stderr",
     "output_type": "stream",
     "text": [
      "C:\\ProgramData\\Anaconda3\\lib\\site-packages\\ipykernel_launcher.py:8: RuntimeWarning: overflow encountered in power\n",
      "  \n"
     ]
    },
    {
     "data": {
      "text/plain": [
       "1.0"
      ]
     },
     "execution_count": 368,
     "metadata": {},
     "output_type": "execute_result"
    }
   ],
   "source": [
    "y_pred = model.forward(x1)\n",
    "loss = criterion.forward(y_pred, y1)\n",
    "grad = criterion.backward(y_pred, y1)\n",
    "loss"
   ]
  },
  {
   "cell_type": "code",
   "execution_count": 369,
   "metadata": {},
   "outputs": [
    {
     "data": {
      "text/plain": [
       "array([[ 0.00000000e+000,  0.00000000e+000,  0.00000000e+000,\n",
       "         0.00000000e+000,  0.00000000e+000,  0.00000000e+000,\n",
       "         0.00000000e+000, -6.66666667e-001,  0.00000000e+000,\n",
       "         0.00000000e+000],\n",
       "       [ 0.00000000e+000,  0.00000000e+000, -6.66666667e-001,\n",
       "         0.00000000e+000,  0.00000000e+000,  0.00000000e+000,\n",
       "         0.00000000e+000,  0.00000000e+000,  0.00000000e+000,\n",
       "         0.00000000e+000],\n",
       "       [ 0.00000000e+000, -6.66666667e-001,  0.00000000e+000,\n",
       "         0.00000000e+000,  0.00000000e+000,  0.00000000e+000,\n",
       "         1.52627232e-262,  0.00000000e+000,  0.00000000e+000,\n",
       "         0.00000000e+000]])"
      ]
     },
     "execution_count": 369,
     "metadata": {},
     "output_type": "execute_result"
    }
   ],
   "source": [
    "model.backward(x1,grad)\n",
    "grad"
   ]
  },
  {
   "cell_type": "code",
   "execution_count": 370,
   "metadata": {},
   "outputs": [],
   "source": [
    "SGD(model,0.01)"
   ]
  },
  {
   "cell_type": "code",
   "execution_count": 373,
   "metadata": {},
   "outputs": [
    {
     "data": {
      "text/plain": [
       "7.6313615832943e-264"
      ]
     },
     "execution_count": 373,
     "metadata": {},
     "output_type": "execute_result"
    }
   ],
   "source": [
    "y_pred.mean()"
   ]
  },
  {
   "cell_type": "code",
   "execution_count": 339,
   "metadata": {},
   "outputs": [
    {
     "name": "stdout",
     "output_type": "stream",
     "text": [
      "(3, 10)\n"
     ]
    },
    {
     "name": "stderr",
     "output_type": "stream",
     "text": [
      "C:\\ProgramData\\Anaconda3\\lib\\site-packages\\ipykernel_launcher.py:8: RuntimeWarning: overflow encountered in power\n",
      "  \n",
      "C:\\ProgramData\\Anaconda3\\lib\\site-packages\\ipykernel_launcher.py:13: RuntimeWarning: overflow encountered in power\n",
      "  del sys.path[0]\n"
     ]
    },
    {
     "data": {
      "text/plain": [
       "0.5000000000000007"
      ]
     },
     "execution_count": 339,
     "metadata": {},
     "output_type": "execute_result"
    }
   ],
   "source": [
    "y_pred = model.forward(x1)\n",
    "loss = criterion.forward(y_pred, y1)\n",
    "grad = criterion.backward(y_pred, y1)\n",
    "model.backward(x1, grad)\n",
    "SGD(model,0.01)\n",
    "y_pred.mean()"
   ]
  },
  {
   "cell_type": "code",
   "execution_count": 109,
   "metadata": {},
   "outputs": [],
   "source": [
    "import matplotlib.pyplot as plt\n",
    "%matplotlib inline"
   ]
  },
  {
   "cell_type": "code",
   "execution_count": 116,
   "metadata": {},
   "outputs": [],
   "source": [
    "epochs = 22\n",
    "batch_size = 16\n",
    "learning_rate = 1e-3"
   ]
  },
  {
   "cell_type": "code",
   "execution_count": 117,
   "metadata": {
    "scrolled": false
   },
   "outputs": [
    {
     "name": "stdout",
     "output_type": "stream",
     "text": [
      "1.7500000000000002\n"
     ]
    },
    {
     "data": {
      "image/png": "[encoded data removed]",
      "text/plain": [
       "<Figure size 432x288 with 1 Axes>"
      ]
     },
     "metadata": {
      "needs_background": "light"
     },
     "output_type": "display_data"
    }
   ],
   "source": [
    "history = []\n",
    "for i in range(epochs):\n",
    "    for a, b in loader(X, Y, batch_size):\n",
    "        # forward -- считаем все значения до функции потерь\n",
    "        y_pred = model.forward(a)\n",
    "        loss = criterion.forward(y_pred, b)\n",
    "    \n",
    "        # backward -- считаем все градиенты в обратном порядке\n",
    "        grad = criterion.backward(y_pred, b)\n",
    "        grad = grad.reshape(grad.shape[0],1)\n",
    "        model.backward(a, grad)\n",
    "        \n",
    "        # обновляем веса\n",
    "        SGD(model,learning_rate)\n",
    "        \n",
    "        history.append(loss)\n",
    "    \n",
    "    \n",
    "print(loss)\n",
    "    \n",
    "plt.title(\"Training loss\")\n",
    "plt.xlabel(\"iteration\")\n",
    "plt.ylabel(\"loss\")\n",
    "plt.plot(history, 'b')\n",
    "plt.show()"
   ]
  },
  {
   "cell_type": "code",
   "execution_count": 126,
   "metadata": {},
   "outputs": [
    {
     "data": {
      "text/plain": [
       "array([list([array([[ 0.89523568,  0.34077811, -0.61938827, ...,  0.92182382,\n",
       "         0.44200251,  0.21020758],\n",
       "       [-0.8869723 ,  0.5639615 ,  0.71073102, ..., -0.02177151,\n",
       "        -0.710613  ,  0.91927743],\n",
       "       [-0.17249945, -0.39375679,  0.92150007, ..., -0.68004977,\n",
       "         0.87915553,  0.23605116],\n",
       "       ...,\n",
       "       [ 0.5619148 ,  0.60043816, -0.76741329, ...,  0.85357053,\n",
       "         0.24487993,  0.16314682],\n",
       "       [-0.82470527, -0.54760958,  0.49911789, ...,  0.14193157,\n",
       "        -0.21593998, -0.28226508],\n",
       "       [ 0.39529918, -0.50289854,  0.0421823 , ...,  0.77073979,\n",
       "         0.57212874, -0.02506827]]), array([ 3.03536917e-02, -9.64830482e-01, -4.20178763e-01, -8.28764765e-01,\n",
       "        6.46210678e-01,  9.03783024e-01, -8.75685407e-01, -6.13413519e-01,\n",
       "        8.98291292e-01,  1.06198188e-01, -1.00187785e+00, -4.13809529e-02,\n",
       "        6.47938955e-01, -4.17568359e-01,  6.99334138e-01,  3.18268350e-01,\n",
       "       -7.79764222e-01,  7.33009656e-01,  2.86172993e-01,  7.12000303e-01,\n",
       "        6.01405728e-03, -1.29026239e-01,  9.61887592e-01, -5.14171378e-01,\n",
       "        3.34298425e-01, -5.86466635e-01, -7.53377607e-01, -6.70183239e-01,\n",
       "       -6.32788223e-01,  2.80366823e-01,  8.55383451e-01, -9.94894910e-01,\n",
       "        7.39599274e-01, -8.05692250e-01,  1.82577824e-01, -1.66870615e-01,\n",
       "       -6.38520372e-01, -7.79994302e-01, -3.24760497e-01,  5.01596168e-01,\n",
       "       -2.98267532e-01, -5.14033388e-01,  8.06048216e-01, -4.12788411e-01,\n",
       "       -5.13819510e-01, -7.07081666e-01,  8.48849022e-01,  7.67502405e-01,\n",
       "       -6.17733239e-01,  5.81473624e-01, -1.43489980e-01, -1.32706377e-01,\n",
       "        2.53175721e-01, -8.85350761e-01, -3.67985906e-01,  3.38158023e-02,\n",
       "        3.62021327e-01, -1.25027333e-01,  6.64576513e-02, -4.44843835e-01,\n",
       "        4.36011150e-01,  4.22857558e-01, -5.53153936e-01, -6.41618322e-01,\n",
       "        4.34840129e-01, -9.08195464e-01, -9.60788362e-01,  6.51157575e-01,\n",
       "        7.86170724e-01,  8.16515486e-01,  2.58561129e-01, -3.41422989e-01,\n",
       "        5.06912825e-01, -5.19353150e-01,  8.63367810e-01,  9.69136534e-01,\n",
       "       -3.46996588e-01, -7.88950644e-01, -7.18022877e-04, -4.02991496e-01,\n",
       "        3.79306980e-01,  3.65524337e-01, -7.56110471e-01, -2.90283170e-02,\n",
       "       -3.05504856e-01,  9.01507115e-01,  7.24666813e-01, -8.76592384e-02,\n",
       "       -2.32277575e-03,  3.31362311e-01, -3.37898614e-01,  9.55320869e-01,\n",
       "       -2.02834886e-01, -6.56257123e-01, -1.46873386e-02, -5.68359288e-02,\n",
       "       -2.38542260e-01,  6.08434232e-01,  1.58166509e-01, -6.62619130e-01,\n",
       "       -7.64504636e-01, -1.00175590e-01,  9.04779257e-01,  9.24031756e-01,\n",
       "       -6.17274549e-01, -4.52867193e-01,  4.90733866e-01, -1.45889811e-01,\n",
       "       -8.81868365e-01, -5.51649800e-01, -5.41366048e-01, -4.18073386e-01,\n",
       "        3.00836461e-01,  6.59949757e-01, -6.79603181e-01, -4.55699207e-01,\n",
       "       -4.85249312e-01,  8.71453726e-01,  6.70164639e-01,  3.80343025e-01,\n",
       "        4.43863959e-01,  6.95998310e-01,  5.24374329e-01,  4.65358974e-01,\n",
       "       -9.37567107e-01, -9.98907185e-01, -4.99746652e-01,  2.25380140e-01,\n",
       "       -1.79444139e-01,  2.16811705e-01, -6.48227396e-01, -7.98670370e-01,\n",
       "       -3.58609922e-01,  8.72589060e-01, -7.96095846e-01,  5.60711133e-01,\n",
       "       -4.58504391e-01, -6.65236702e-01,  4.67218960e-01,  5.56975258e-02,\n",
       "        2.22961219e-01, -6.47921972e-02,  4.83341760e-02,  3.80744364e-02,\n",
       "        5.95968654e-01,  3.17832828e-01, -2.62120421e-01, -2.50527573e-01,\n",
       "       -5.99845027e-02,  5.28643754e-01, -5.29725576e-01, -7.19117141e-01,\n",
       "        1.68927805e-01, -5.98545097e-01, -3.99961983e-02,  1.42045414e-01,\n",
       "       -4.22853015e-01, -4.63468616e-02,  5.34278489e-01,  1.26494880e-01,\n",
       "        1.87801725e-01, -2.24458533e-01,  6.69254812e-01, -9.07507106e-01,\n",
       "       -1.11083694e-01, -2.47060732e-01,  8.10546553e-01,  9.76974042e-01,\n",
       "       -5.26031341e-01,  2.71998714e-01, -6.85816244e-01,  5.07274591e-01,\n",
       "        5.68632462e-01,  9.19346763e-01,  3.38534580e-01,  1.12790910e-02,\n",
       "        1.23581953e-01, -7.32528166e-01,  2.82931418e-02,  9.85148716e-01,\n",
       "        4.16598847e-01,  9.88162200e-01, -2.79164707e-01,  6.56259713e-01,\n",
       "       -6.28797602e-01, -1.67700676e-01, -9.94818597e-01, -1.22011534e-01,\n",
       "       -7.94216350e-01, -6.13968061e-01, -6.32787419e-01,  8.64176806e-01,\n",
       "       -1.53484679e-01,  1.81570905e-01, -2.96965339e-01,  3.07025467e-01,\n",
       "       -8.72744918e-01, -6.59894389e-01, -1.23159887e-01, -3.86895005e-01,\n",
       "        9.37645492e-01,  6.38585006e-02, -1.19741553e-01, -3.21673526e-01,\n",
       "       -7.00882003e-01, -8.63545908e-01, -8.83709047e-01, -2.48960895e-01,\n",
       "       -7.72038333e-01, -8.93856228e-01,  2.98646562e-01,  5.78697284e-03,\n",
       "        4.52168709e-01, -7.16778534e-01,  4.01344945e-01,  6.62919641e-01,\n",
       "       -6.84523192e-02,  2.67795968e-01,  3.30108873e-01,  3.59150439e-01,\n",
       "       -1.30309090e-01, -6.31174883e-01,  3.14553539e-01,  2.34382932e-01,\n",
       "        2.51686268e-01, -5.02203667e-01,  9.24446172e-01, -6.16607898e-01,\n",
       "        7.89901241e-02,  8.06721660e-01, -8.47085507e-01,  7.59979157e-01,\n",
       "       -6.60664113e-01,  3.20275561e-01,  9.54026837e-01,  5.64699973e-02,\n",
       "       -6.58248785e-01,  2.26373049e-01, -8.37786638e-01,  5.51544245e-01,\n",
       "        6.87678726e-01, -4.10899220e-01, -9.23218768e-01,  1.09371713e-01,\n",
       "        8.31314383e-01,  6.84788490e-01,  5.37193874e-01, -4.58306580e-01,\n",
       "        4.87871514e-01, -7.66050647e-01, -1.08482080e-01, -6.83673255e-01,\n",
       "        5.62839306e-01, -5.75099469e-01, -3.00826947e-01,  7.49641620e-01])]),\n",
       "       list([]),\n",
       "       list([array([[ 0.74979278,  0.44926055,  0.67234384, ..., -0.28905508,\n",
       "         0.64685349,  0.59705881],\n",
       "       [ 0.64206127,  0.3363953 ,  0.95122194, ...,  0.22601808,\n",
       "        -0.75843332, -0.79048446],\n",
       "       [ 0.6565448 ,  0.48057762,  0.17120226, ..., -0.25827392,\n",
       "         0.9094731 ,  0.65754759],\n",
       "       ...,\n",
       "       [ 0.2646081 ,  0.16935063,  0.79153192, ..., -0.32071482,\n",
       "         0.39914586, -0.5173458 ],\n",
       "       [ 0.25042256,  0.103059  ,  0.01890711, ..., -0.91487452,\n",
       "         0.81911001, -0.21752473],\n",
       "       [ 0.60081712, -0.89543088,  1.0178849 , ..., -0.62636869,\n",
       "         0.75564721,  0.21267105]]), array([ 3.46534004e-01,  1.40776422e-01,  2.49371377e-01,  2.00071958e-01,\n",
       "       -1.34782500e-01,  9.90261003e-02, -2.54583080e-01,  1.73594532e-01,\n",
       "        8.58238516e-01,  8.70437133e-01,  4.97665991e-01, -2.80361658e-01,\n",
       "       -7.32687780e-01, -1.25031159e-04, -6.86084842e-02, -7.21194342e-01,\n",
       "       -4.62123106e-01, -6.00485130e-01, -2.30395985e-01, -3.69477550e-01,\n",
       "        2.67076962e-01,  4.92987456e-02, -2.46565300e-01,  7.58560342e-01,\n",
       "        3.16382931e-01, -1.80186784e-01,  4.78038012e-01,  3.22471353e-01,\n",
       "        5.31336180e-01, -4.28403823e-01,  3.99574396e-01,  7.99410362e-01,\n",
       "       -8.03453932e-01, -6.43187641e-01,  4.17016828e-01,  5.19357086e-01,\n",
       "        6.75948902e-01, -2.24685426e-01, -8.58731036e-01,  4.47336329e-01,\n",
       "        5.40381633e-01, -9.30308712e-01, -1.91031891e-01, -7.64358943e-01,\n",
       "        4.31781071e-01, -1.89350116e-01,  5.38488766e-01, -4.62385602e-01,\n",
       "        3.99810641e-01,  8.60150542e-02, -2.06590273e-01,  1.53527206e-01,\n",
       "       -4.25614401e-01, -9.50542006e-01,  2.59464288e-01,  4.89212353e-01,\n",
       "       -8.87486296e-01,  9.35054915e-01,  5.86221549e-01, -4.55118888e-02,\n",
       "        8.06377905e-01,  5.61886849e-01,  2.80444426e-01, -1.52519575e-01,\n",
       "        1.04049996e-01,  7.82172594e-01,  9.76553474e-03, -8.23195445e-01,\n",
       "        4.88655202e-01, -8.04840513e-02,  5.50168653e-01, -5.00848590e-01,\n",
       "        6.77534570e-01, -8.66990128e-01,  3.45069005e-01,  9.30166240e-03,\n",
       "       -2.81952285e-01,  3.90059014e-01, -4.39524822e-01,  4.51681448e-01,\n",
       "        8.65190995e-01,  8.43429770e-01,  5.47260747e-01, -9.30333853e-01,\n",
       "        7.75684142e-01, -8.37561191e-01, -2.52986063e-01, -1.19149975e-01,\n",
       "        2.95682694e-01, -4.55974339e-02,  1.52261699e-01,  1.56665637e-01,\n",
       "        2.82024186e-01, -7.52513289e-01,  5.57222067e-01, -2.30421936e-01,\n",
       "        2.96199988e-01, -1.16199859e-01, -4.68123930e-01, -1.34093868e-01,\n",
       "        6.61499817e-01,  4.13960496e-01, -4.77481602e-01,  2.88376738e-01,\n",
       "       -4.63138784e-01, -8.93154825e-01, -7.80423834e-01, -7.86404796e-01,\n",
       "        9.94594826e-01,  6.45153858e-01,  6.97258456e-01,  9.47342816e-02,\n",
       "       -9.03446440e-01, -9.84152120e-01,  9.71240135e-01,  8.11991064e-01,\n",
       "       -1.07156344e-01, -9.93831781e-02,  3.00140017e-01,  9.18208867e-01,\n",
       "        9.50631408e-01, -3.54172970e-01, -5.25261902e-01, -8.56489019e-01,\n",
       "       -3.22824495e-01, -8.12881677e-01,  2.20486722e-01,  3.56299767e-01,\n",
       "       -4.34940322e-01, -1.90526098e-01,  4.08396399e-01, -7.60621827e-01,\n",
       "       -6.92306874e-01,  6.32257018e-01,  8.72636448e-01, -9.86734324e-01,\n",
       "        1.65124411e-01, -3.01565182e-01,  6.61184657e-01,  1.11404170e-01,\n",
       "        3.42142985e-01, -8.03525065e-01,  4.51671227e-01, -8.26698991e-02,\n",
       "       -7.97077941e-01,  1.98134661e-01, -1.09792875e-01, -9.78257419e-01,\n",
       "       -7.25467455e-02,  3.47327544e-01,  4.19886601e-01, -4.82164463e-01,\n",
       "        4.10504387e-01, -6.13018458e-01,  1.31247250e-01, -8.48042652e-01,\n",
       "       -5.62342246e-01, -3.48985442e-01,  5.25418834e-01,  6.72582347e-01,\n",
       "        9.49945611e-01, -7.19172952e-01,  7.93775312e-01, -5.74931305e-02,\n",
       "       -9.03330988e-01, -2.02307420e-01,  4.79351089e-01, -5.55799804e-01,\n",
       "       -8.14309121e-01,  9.57914417e-01,  6.68045167e-01,  8.10294748e-01,\n",
       "        2.59132249e-01, -9.03209383e-01, -3.08221606e-01, -5.46309969e-01,\n",
       "       -5.25369856e-01,  5.56685299e-01, -9.08707852e-01, -5.37460864e-01,\n",
       "        2.09331243e-01, -7.07705426e-01, -5.46752200e-01,  1.55508625e-01,\n",
       "       -1.84083783e-01,  4.22028305e-01,  4.47942346e-01,  1.93441604e-01,\n",
       "        8.20866580e-01,  2.19834648e-01, -6.65486422e-01,  6.71181221e-02,\n",
       "        5.92279354e-01, -5.39058544e-02, -8.87312214e-03,  5.82272479e-01,\n",
       "       -8.49264089e-01, -7.92198096e-01,  5.31888815e-01, -4.11716449e-01,\n",
       "       -8.55730165e-01, -1.61539495e-02,  2.36902242e-01,  8.85957994e-01,\n",
       "       -2.98097819e-01, -1.41482960e-01,  6.89895445e-01, -8.89723171e-01,\n",
       "       -5.96105734e-02, -5.53686809e-01, -5.61726573e-02, -3.28281374e-01,\n",
       "       -7.76637770e-01,  5.04523124e-01,  2.74066096e-01,  7.58299144e-01,\n",
       "        3.13965887e-01,  5.93437139e-01, -5.67518403e-01, -9.34440103e-01,\n",
       "        3.58725433e-01, -9.85874277e-01,  6.05545380e-01, -5.07359084e-01,\n",
       "        5.23406694e-01, -7.05183029e-01, -7.26400852e-01,  7.55562970e-02,\n",
       "        3.24187692e-01, -6.16036720e-01,  2.03009352e-02,  6.64496173e-01,\n",
       "        6.03718187e-01, -4.89000347e-01, -1.45992600e-01, -7.73796778e-01,\n",
       "       -4.04254840e-01, -5.55858296e-01,  7.36566467e-01, -8.47475276e-01,\n",
       "        9.28065028e-01, -5.61131382e-02, -6.57831715e-01, -2.75088319e-01,\n",
       "       -5.84460540e-01,  4.32968419e-01, -8.76214536e-01,  9.96922180e-01,\n",
       "        5.37633248e-01,  8.76460031e-01, -6.43744228e-02, -6.78020024e-01,\n",
       "        3.98180549e-01,  2.41486746e-01, -7.44578871e-01, -2.11488630e-01])]),\n",
       "       list([]),\n",
       "       list([array([[ 0.78243018, -0.39020956,  0.04957361, ...,  0.71223871,\n",
       "         0.7495558 ,  0.07827809],\n",
       "       [ 0.5628945 , -0.11800721, -0.5154121 , ...,  0.15090762,\n",
       "        -0.57306985,  0.73023656],\n",
       "       [ 0.83788907,  0.43463002, -0.6606301 , ...,  0.75085982,\n",
       "        -0.72465441,  0.20487132],\n",
       "       ...,\n",
       "       [ 0.3558431 ,  0.83722921, -0.42786377, ...,  0.78644428,\n",
       "        -0.71051028,  0.89761372],\n",
       "       [-0.56171528,  0.03481904, -0.21113859, ..., -0.60183975,\n",
       "         0.3912998 , -0.75028066],\n",
       "       [-0.85519806,  0.82821047,  0.87809142, ...,  1.00956553,\n",
       "        -0.34777708,  0.38294489]]), array([ 0.16703533,  0.05447599, -0.66642296,  0.21274161,  0.33187147,\n",
       "       -0.9598571 ,  0.79560052, -0.12351851,  0.21608358, -0.58928443,\n",
       "       -0.49639968,  0.58926839,  0.95475582, -0.08900039, -0.04932693,\n",
       "       -0.12974201,  0.80703623,  0.37025027,  0.8561722 ,  0.55513433,\n",
       "       -0.82014799, -0.52526932, -0.58144145, -0.90206581, -0.72386953,\n",
       "       -0.07127172, -0.51144222,  0.49067002, -0.6739749 , -0.91660233,\n",
       "        0.21338554,  0.48076479, -0.76161807,  0.89118018, -0.66040245,\n",
       "       -0.39575608,  0.28602862,  0.62470498, -0.892999  , -0.31357228,\n",
       "       -0.53205179, -0.18598083,  0.57518761,  0.58639636,  0.20792983,\n",
       "       -0.26589784,  0.799718  , -0.74159967, -0.65206374,  0.02600442,\n",
       "        0.81305956,  0.99268887,  0.39662218,  0.54668545,  0.1188879 ,\n",
       "       -0.91286085,  0.10900945,  0.82676936, -0.99580984, -0.99225765,\n",
       "        0.03630226, -0.35705285,  0.9950438 , -0.39156606])]),\n",
       "       list([]),\n",
       "       list([array([[-0.31755539],\n",
       "       [-2.8016137 ],\n",
       "       [ 0.27082856],\n",
       "       [-0.98879559],\n",
       "       [-2.12179809],\n",
       "       [-1.93324281],\n",
       "       [-1.24827607],\n",
       "       [-1.68448188],\n",
       "       [-0.88089309],\n",
       "       [-3.07224447],\n",
       "       [-1.10541891],\n",
       "       [-0.35367163],\n",
       "       [-6.18094367],\n",
       "       [-1.33671568],\n",
       "       [ 0.29871123],\n",
       "       [-0.73221939],\n",
       "       [-0.22487481],\n",
       "       [-0.27425857],\n",
       "       [-1.05143175],\n",
       "       [-7.91761728],\n",
       "       [-0.30976804],\n",
       "       [-1.5282054 ],\n",
       "       [ 0.25474689],\n",
       "       [-2.62101013],\n",
       "       [-0.64189444],\n",
       "       [-2.5039746 ],\n",
       "       [ 0.07640951],\n",
       "       [-4.09379762],\n",
       "       [-3.49310992],\n",
       "       [-0.94636925],\n",
       "       [-0.73861285],\n",
       "       [ 0.0749102 ],\n",
       "       [-2.77633262],\n",
       "       [-1.09072665],\n",
       "       [-0.75946368],\n",
       "       [-0.411573  ],\n",
       "       [ 0.81579674],\n",
       "       [-3.43612892],\n",
       "       [-3.17255952],\n",
       "       [-0.93775847],\n",
       "       [-3.00494523],\n",
       "       [-5.57334617],\n",
       "       [-1.70421135],\n",
       "       [-0.03113816],\n",
       "       [-1.4552401 ],\n",
       "       [-1.25462276],\n",
       "       [ 0.26204695],\n",
       "       [-5.4015189 ],\n",
       "       [-2.47087761],\n",
       "       [-2.21760177],\n",
       "       [-3.40957901],\n",
       "       [-1.72240201],\n",
       "       [-0.79251053],\n",
       "       [ 0.70882166],\n",
       "       [-0.83655871],\n",
       "       [-3.27335535],\n",
       "       [-2.71664854],\n",
       "       [ 0.46782159],\n",
       "       [-4.10472305],\n",
       "       [-5.96686235],\n",
       "       [-0.85982006],\n",
       "       [-4.71172395],\n",
       "       [-0.62637347],\n",
       "       [-7.17183868]]), array([0.44591156])]),\n",
       "       list([]), list([])], dtype=object)"
      ]
     },
     "execution_count": 126,
     "metadata": {},
     "output_type": "execute_result"
    }
   ],
   "source": [
    " model.parameters()"
   ]
  },
  {
   "cell_type": "code",
   "execution_count": 130,
   "metadata": {},
   "outputs": [],
   "source": [
    "a=[i for i in range(4)]"
   ]
  },
  {
   "cell_type": "code",
   "execution_count": 144,
   "metadata": {},
   "outputs": [
    {
     "data": {
      "text/plain": [
       "(12, 2, 1, 45)"
      ]
     },
     "execution_count": 144,
     "metadata": {},
     "output_type": "execute_result"
    }
   ],
   "source": [
    "12,2,1,45"
   ]
  },
  {
   "cell_type": "code",
   "execution_count": null,
   "metadata": {},
   "outputs": [],
   "source": []
  }
 ],
 "metadata": {
  "kernelspec": {
   "display_name": "Python 3",
   "language": "python",
   "name": "python3"
  },
  "language_info": {
   "codemirror_mode": {
    "name": "ipython",
    "version": 3
   },
   "file_extension": ".py",
   "mimetype": "text/x-python",
   "name": "python",
   "nbconvert_exporter": "python",
   "pygments_lexer": "ipython3",
   "version": "3.7.0"
  }
 },
 "nbformat": 4,
 "nbformat_minor": 2
}
